{
 "cells": [
  {
   "cell_type": "markdown",
   "metadata": {},
   "source": [
    "### Classfication\n",
    "\n",
    "+ Today we'll be working with the Iris dataset\n",
    "+ First we'll explore\n",
    "+ Then we'll build a terrible classifer\n",
    "+ Then we'll build a KNN classifer!"
   ]
  },
  {
   "cell_type": "code",
   "execution_count": 43,
   "metadata": {
    "collapsed": false
   },
   "outputs": [
    {
     "data": {
      "text/html": [
       "<div>\n",
       "<table border=\"1\" class=\"dataframe\">\n",
       "  <thead>\n",
       "    <tr style=\"text-align: right;\">\n",
       "      <th></th>\n",
       "      <th>sepal length (cm)</th>\n",
       "      <th>sepal width (cm)</th>\n",
       "      <th>petal length (cm)</th>\n",
       "      <th>petal width (cm)</th>\n",
       "      <th>target</th>\n",
       "    </tr>\n",
       "  </thead>\n",
       "  <tbody>\n",
       "    <tr>\n",
       "      <th>0</th>\n",
       "      <td>5.1</td>\n",
       "      <td>3.5</td>\n",
       "      <td>1.4</td>\n",
       "      <td>0.2</td>\n",
       "      <td>0</td>\n",
       "    </tr>\n",
       "    <tr>\n",
       "      <th>1</th>\n",
       "      <td>4.9</td>\n",
       "      <td>3.0</td>\n",
       "      <td>1.4</td>\n",
       "      <td>0.2</td>\n",
       "      <td>0</td>\n",
       "    </tr>\n",
       "    <tr>\n",
       "      <th>2</th>\n",
       "      <td>4.7</td>\n",
       "      <td>3.2</td>\n",
       "      <td>1.3</td>\n",
       "      <td>0.2</td>\n",
       "      <td>0</td>\n",
       "    </tr>\n",
       "    <tr>\n",
       "      <th>3</th>\n",
       "      <td>4.6</td>\n",
       "      <td>3.1</td>\n",
       "      <td>1.5</td>\n",
       "      <td>0.2</td>\n",
       "      <td>0</td>\n",
       "    </tr>\n",
       "    <tr>\n",
       "      <th>4</th>\n",
       "      <td>5.0</td>\n",
       "      <td>3.6</td>\n",
       "      <td>1.4</td>\n",
       "      <td>0.2</td>\n",
       "      <td>0</td>\n",
       "    </tr>\n",
       "  </tbody>\n",
       "</table>\n",
       "</div>"
      ],
      "text/plain": [
       "   sepal length (cm)  sepal width (cm)  petal length (cm)  petal width (cm)  \\\n",
       "0                5.1               3.5                1.4               0.2   \n",
       "1                4.9               3.0                1.4               0.2   \n",
       "2                4.7               3.2                1.3               0.2   \n",
       "3                4.6               3.1                1.5               0.2   \n",
       "4                5.0               3.6                1.4               0.2   \n",
       "\n",
       "   target  \n",
       "0       0  \n",
       "1       0  \n",
       "2       0  \n",
       "3       0  \n",
       "4       0  "
      ]
     },
     "execution_count": 43,
     "metadata": {},
     "output_type": "execute_result"
    }
   ],
   "source": [
    "from sklearn import datasets, neighbors, metrics\n",
    "import pandas as pd\n",
    "import seaborn as sns\n",
    "\n",
    "%matplotlib inline\n",
    "\n",
    "iris = datasets.load_iris()\n",
    "irisdf = pd.DataFrame(iris.data, columns=iris.feature_names)\n",
    "irisdf['target'] = iris.target\n",
    "\n",
    "irisdf.head()"
   ]
  },
  {
   "cell_type": "code",
   "execution_count": 44,
   "metadata": {
    "collapsed": false
   },
   "outputs": [
    {
     "data": {
      "text/plain": [
       "2    50\n",
       "1    50\n",
       "0    50\n",
       "Name: target, dtype: int64"
      ]
     },
     "execution_count": 44,
     "metadata": {},
     "output_type": "execute_result"
    }
   ],
   "source": [
    "irisdf.target.value_counts()"
   ]
  },
  {
   "cell_type": "code",
   "execution_count": 3,
   "metadata": {
    "collapsed": false
   },
   "outputs": [
    {
     "name": "stdout",
     "output_type": "stream",
     "text": [
      "       sepal length (cm)  sepal width (cm)  petal length (cm)  \\\n",
      "count         150.000000        150.000000         150.000000   \n",
      "mean            5.843333          3.054000           3.758667   \n",
      "std             0.828066          0.433594           1.764420   \n",
      "min             4.300000          2.000000           1.000000   \n",
      "25%             5.100000          2.800000           1.600000   \n",
      "50%             5.800000          3.000000           4.350000   \n",
      "75%             6.400000          3.300000           5.100000   \n",
      "max             7.900000          4.400000           6.900000   \n",
      "\n",
      "       petal width (cm)      target  \n",
      "count        150.000000  150.000000  \n",
      "mean           1.198667    1.000000  \n",
      "std            0.763161    0.819232  \n",
      "min            0.100000    0.000000  \n",
      "25%            0.300000    0.000000  \n",
      "50%            1.300000    1.000000  \n",
      "75%            1.800000    2.000000  \n",
      "max            2.500000    2.000000  \n"
     ]
    },
    {
     "data": {
      "text/plain": [
       "<matplotlib.axes._subplots.AxesSubplot at 0x119ca2a90>"
      ]
     },
     "execution_count": 3,
     "metadata": {},
     "output_type": "execute_result"
    },
    {
     "data": {
      "image/png": "[encoded data removed]",
      "text/plain": [
       "<matplotlib.figure.Figure at 0x119ca2590>"
      ]
     },
     "metadata": {},
     "output_type": "display_data"
    }
   ],
   "source": [
    "#print irisdf.plot('petal length (cm)', 'petal width (cm)', kind='scatter', c=irisdf.ctarget)\n",
    "print irisdf.describe()\n",
    "\n",
    "\n",
    "cmap = {'0': 'r', '1': 'g', '2': 'b' }\n",
    "\n",
    "irisdf['ctarget'] = irisdf.target.apply(lambda x: cmap[str(x)])\n",
    "\n",
    "irisdf.plot('petal length (cm)', 'petal width (cm)', kind='scatter', c=irisdf.ctarget)\n",
    "\n"
   ]
  },
  {
   "cell_type": "markdown",
   "metadata": {},
   "source": [
    "### Let's make a dumb classifier\n",
    "\n",
    "+ This is not a good classifier\n",
    "+ It's to illustrate the idea of classifiers\n",
    "+ When will we make a good one? Later, I promise\n",
    "\n",
    "+ For now, let's investigate using the quantile function"
   ]
  },
  {
   "cell_type": "code",
   "execution_count": 8,
   "metadata": {
    "collapsed": false
   },
   "outputs": [
    {
     "name": "stdout",
     "output_type": "stream",
     "text": [
      "6.9\n",
      "6.9\n",
      "4.834\n",
      "2.087\n"
     ]
    }
   ],
   "source": [
    "print irisdf['petal length (cm)'].quantile(1.00)\n",
    "print irisdf['petal length (cm)'].max()\n",
    "print irisdf['petal length (cm)'].quantile(0.66)\n",
    "print irisdf['petal length (cm)'].quantile(0.33)"
   ]
  },
  {
   "cell_type": "code",
   "execution_count": 9,
   "metadata": {
    "collapsed": true
   },
   "outputs": [],
   "source": [
    "def my_classifier(row):\n",
    "    if row['petal length (cm)'] < 2:\n",
    "        return 0\n",
    "    else:\n",
    "        return 1\n",
    "    \n",
    "predictions = irisdf.apply(my_classifier, axis=1)"
   ]
  },
  {
   "cell_type": "markdown",
   "metadata": {},
   "source": [
    "## So, how did we do?"
   ]
  },
  {
   "cell_type": "code",
   "execution_count": 10,
   "metadata": {
    "collapsed": false
   },
   "outputs": [
    {
     "name": "stdout",
     "output_type": "stream",
     "text": [
      "0.666666666667\n"
     ]
    }
   ],
   "source": [
    "irisdf['predictions'] = predictions\n",
    "\n",
    "print float(len(irisdf[irisdf.target == irisdf.predictions])) / len(irisdf)"
   ]
  },
  {
   "cell_type": "markdown",
   "metadata": {},
   "source": [
    "### Chopping up a linear variable"
   ]
  },
  {
   "cell_type": "code",
   "execution_count": 23,
   "metadata": {
    "collapsed": false
   },
   "outputs": [],
   "source": [
    "Q3 = irisdf['petal length (cm)'].quantile(0.75)\n",
    "Q2 = irisdf['petal length (cm)'].quantile(0.50)\n",
    "Q1 = irisdf['petal length (cm)'].quantile(0.25)\n",
    "\n",
    "irisdf.loc[\"Quartile\"] = \"0\"\n",
    "\n",
    "irisdf.loc[irisdf['petal length (cm)']>Q3, 'Quartile'] = \"Q4\"\n",
    "irisdf.loc[(irisdf['petal length (cm)']>Q2)&(irisdf['petal length (cm)']<=Q3), 'Quartile'] = \"Q3\"\n",
    "irisdf.loc[(irisdf['petal length (cm)']>Q1)&(irisdf['petal length (cm)']<=Q2), 'Quartile'] = \"Q2\"\n",
    "irisdf.loc[irisdf['petal length (cm)']<=Q1, 'Quartile'] = \"Q1\""
   ]
  },
  {
   "cell_type": "code",
   "execution_count": 29,
   "metadata": {
    "collapsed": false
   },
   "outputs": [
    {
     "data": {
      "text/html": [
       "<div>\n",
       "<table border=\"1\" class=\"dataframe\">\n",
       "  <thead>\n",
       "    <tr style=\"text-align: right;\">\n",
       "      <th></th>\n",
       "      <th>sepal length (cm)</th>\n",
       "      <th>sepal width (cm)</th>\n",
       "      <th>petal length (cm)</th>\n",
       "      <th>petal width (cm)</th>\n",
       "      <th>target</th>\n",
       "      <th>ctarget</th>\n",
       "      <th>predictions</th>\n",
       "      <th>Quartile</th>\n",
       "    </tr>\n",
       "  </thead>\n",
       "  <tbody>\n",
       "    <tr>\n",
       "      <th>0</th>\n",
       "      <td>5.1</td>\n",
       "      <td>3.5</td>\n",
       "      <td>1.4</td>\n",
       "      <td>0.2</td>\n",
       "      <td>0</td>\n",
       "      <td>r</td>\n",
       "      <td>0</td>\n",
       "      <td>Q1</td>\n",
       "    </tr>\n",
       "    <tr>\n",
       "      <th>1</th>\n",
       "      <td>4.9</td>\n",
       "      <td>3</td>\n",
       "      <td>1.4</td>\n",
       "      <td>0.2</td>\n",
       "      <td>0</td>\n",
       "      <td>r</td>\n",
       "      <td>0</td>\n",
       "      <td>Q1</td>\n",
       "    </tr>\n",
       "    <tr>\n",
       "      <th>2</th>\n",
       "      <td>4.7</td>\n",
       "      <td>3.2</td>\n",
       "      <td>1.3</td>\n",
       "      <td>0.2</td>\n",
       "      <td>0</td>\n",
       "      <td>r</td>\n",
       "      <td>0</td>\n",
       "      <td>Q1</td>\n",
       "    </tr>\n",
       "    <tr>\n",
       "      <th>3</th>\n",
       "      <td>4.6</td>\n",
       "      <td>3.1</td>\n",
       "      <td>1.5</td>\n",
       "      <td>0.2</td>\n",
       "      <td>0</td>\n",
       "      <td>r</td>\n",
       "      <td>0</td>\n",
       "      <td>Q1</td>\n",
       "    </tr>\n",
       "    <tr>\n",
       "      <th>4</th>\n",
       "      <td>5</td>\n",
       "      <td>3.6</td>\n",
       "      <td>1.4</td>\n",
       "      <td>0.2</td>\n",
       "      <td>0</td>\n",
       "      <td>r</td>\n",
       "      <td>0</td>\n",
       "      <td>Q1</td>\n",
       "    </tr>\n",
       "    <tr>\n",
       "      <th>6</th>\n",
       "      <td>4.6</td>\n",
       "      <td>3.4</td>\n",
       "      <td>1.4</td>\n",
       "      <td>0.3</td>\n",
       "      <td>0</td>\n",
       "      <td>r</td>\n",
       "      <td>0</td>\n",
       "      <td>Q1</td>\n",
       "    </tr>\n",
       "    <tr>\n",
       "      <th>7</th>\n",
       "      <td>5</td>\n",
       "      <td>3.4</td>\n",
       "      <td>1.5</td>\n",
       "      <td>0.2</td>\n",
       "      <td>0</td>\n",
       "      <td>r</td>\n",
       "      <td>0</td>\n",
       "      <td>Q1</td>\n",
       "    </tr>\n",
       "    <tr>\n",
       "      <th>8</th>\n",
       "      <td>4.4</td>\n",
       "      <td>2.9</td>\n",
       "      <td>1.4</td>\n",
       "      <td>0.2</td>\n",
       "      <td>0</td>\n",
       "      <td>r</td>\n",
       "      <td>0</td>\n",
       "      <td>Q1</td>\n",
       "    </tr>\n",
       "    <tr>\n",
       "      <th>9</th>\n",
       "      <td>4.9</td>\n",
       "      <td>3.1</td>\n",
       "      <td>1.5</td>\n",
       "      <td>0.1</td>\n",
       "      <td>0</td>\n",
       "      <td>r</td>\n",
       "      <td>0</td>\n",
       "      <td>Q1</td>\n",
       "    </tr>\n",
       "    <tr>\n",
       "      <th>10</th>\n",
       "      <td>5.4</td>\n",
       "      <td>3.7</td>\n",
       "      <td>1.5</td>\n",
       "      <td>0.2</td>\n",
       "      <td>0</td>\n",
       "      <td>r</td>\n",
       "      <td>0</td>\n",
       "      <td>Q1</td>\n",
       "    </tr>\n",
       "    <tr>\n",
       "      <th>11</th>\n",
       "      <td>4.8</td>\n",
       "      <td>3.4</td>\n",
       "      <td>1.6</td>\n",
       "      <td>0.2</td>\n",
       "      <td>0</td>\n",
       "      <td>r</td>\n",
       "      <td>0</td>\n",
       "      <td>Q1</td>\n",
       "    </tr>\n",
       "    <tr>\n",
       "      <th>12</th>\n",
       "      <td>4.8</td>\n",
       "      <td>3</td>\n",
       "      <td>1.4</td>\n",
       "      <td>0.1</td>\n",
       "      <td>0</td>\n",
       "      <td>r</td>\n",
       "      <td>0</td>\n",
       "      <td>Q1</td>\n",
       "    </tr>\n",
       "    <tr>\n",
       "      <th>13</th>\n",
       "      <td>4.3</td>\n",
       "      <td>3</td>\n",
       "      <td>1.1</td>\n",
       "      <td>0.1</td>\n",
       "      <td>0</td>\n",
       "      <td>r</td>\n",
       "      <td>0</td>\n",
       "      <td>Q1</td>\n",
       "    </tr>\n",
       "    <tr>\n",
       "      <th>14</th>\n",
       "      <td>5.8</td>\n",
       "      <td>4</td>\n",
       "      <td>1.2</td>\n",
       "      <td>0.2</td>\n",
       "      <td>0</td>\n",
       "      <td>r</td>\n",
       "      <td>0</td>\n",
       "      <td>Q1</td>\n",
       "    </tr>\n",
       "    <tr>\n",
       "      <th>15</th>\n",
       "      <td>5.7</td>\n",
       "      <td>4.4</td>\n",
       "      <td>1.5</td>\n",
       "      <td>0.4</td>\n",
       "      <td>0</td>\n",
       "      <td>r</td>\n",
       "      <td>0</td>\n",
       "      <td>Q1</td>\n",
       "    </tr>\n",
       "    <tr>\n",
       "      <th>16</th>\n",
       "      <td>5.4</td>\n",
       "      <td>3.9</td>\n",
       "      <td>1.3</td>\n",
       "      <td>0.4</td>\n",
       "      <td>0</td>\n",
       "      <td>r</td>\n",
       "      <td>0</td>\n",
       "      <td>Q1</td>\n",
       "    </tr>\n",
       "    <tr>\n",
       "      <th>17</th>\n",
       "      <td>5.1</td>\n",
       "      <td>3.5</td>\n",
       "      <td>1.4</td>\n",
       "      <td>0.3</td>\n",
       "      <td>0</td>\n",
       "      <td>r</td>\n",
       "      <td>0</td>\n",
       "      <td>Q1</td>\n",
       "    </tr>\n",
       "    <tr>\n",
       "      <th>19</th>\n",
       "      <td>5.1</td>\n",
       "      <td>3.8</td>\n",
       "      <td>1.5</td>\n",
       "      <td>0.3</td>\n",
       "      <td>0</td>\n",
       "      <td>r</td>\n",
       "      <td>0</td>\n",
       "      <td>Q1</td>\n",
       "    </tr>\n",
       "    <tr>\n",
       "      <th>21</th>\n",
       "      <td>5.1</td>\n",
       "      <td>3.7</td>\n",
       "      <td>1.5</td>\n",
       "      <td>0.4</td>\n",
       "      <td>0</td>\n",
       "      <td>r</td>\n",
       "      <td>0</td>\n",
       "      <td>Q1</td>\n",
       "    </tr>\n",
       "    <tr>\n",
       "      <th>22</th>\n",
       "      <td>4.6</td>\n",
       "      <td>3.6</td>\n",
       "      <td>1</td>\n",
       "      <td>0.2</td>\n",
       "      <td>0</td>\n",
       "      <td>r</td>\n",
       "      <td>0</td>\n",
       "      <td>Q1</td>\n",
       "    </tr>\n",
       "    <tr>\n",
       "      <th>25</th>\n",
       "      <td>5</td>\n",
       "      <td>3</td>\n",
       "      <td>1.6</td>\n",
       "      <td>0.2</td>\n",
       "      <td>0</td>\n",
       "      <td>r</td>\n",
       "      <td>0</td>\n",
       "      <td>Q1</td>\n",
       "    </tr>\n",
       "    <tr>\n",
       "      <th>26</th>\n",
       "      <td>5</td>\n",
       "      <td>3.4</td>\n",
       "      <td>1.6</td>\n",
       "      <td>0.4</td>\n",
       "      <td>0</td>\n",
       "      <td>r</td>\n",
       "      <td>0</td>\n",
       "      <td>Q1</td>\n",
       "    </tr>\n",
       "    <tr>\n",
       "      <th>27</th>\n",
       "      <td>5.2</td>\n",
       "      <td>3.5</td>\n",
       "      <td>1.5</td>\n",
       "      <td>0.2</td>\n",
       "      <td>0</td>\n",
       "      <td>r</td>\n",
       "      <td>0</td>\n",
       "      <td>Q1</td>\n",
       "    </tr>\n",
       "    <tr>\n",
       "      <th>28</th>\n",
       "      <td>5.2</td>\n",
       "      <td>3.4</td>\n",
       "      <td>1.4</td>\n",
       "      <td>0.2</td>\n",
       "      <td>0</td>\n",
       "      <td>r</td>\n",
       "      <td>0</td>\n",
       "      <td>Q1</td>\n",
       "    </tr>\n",
       "    <tr>\n",
       "      <th>29</th>\n",
       "      <td>4.7</td>\n",
       "      <td>3.2</td>\n",
       "      <td>1.6</td>\n",
       "      <td>0.2</td>\n",
       "      <td>0</td>\n",
       "      <td>r</td>\n",
       "      <td>0</td>\n",
       "      <td>Q1</td>\n",
       "    </tr>\n",
       "    <tr>\n",
       "      <th>30</th>\n",
       "      <td>4.8</td>\n",
       "      <td>3.1</td>\n",
       "      <td>1.6</td>\n",
       "      <td>0.2</td>\n",
       "      <td>0</td>\n",
       "      <td>r</td>\n",
       "      <td>0</td>\n",
       "      <td>Q1</td>\n",
       "    </tr>\n",
       "    <tr>\n",
       "      <th>31</th>\n",
       "      <td>5.4</td>\n",
       "      <td>3.4</td>\n",
       "      <td>1.5</td>\n",
       "      <td>0.4</td>\n",
       "      <td>0</td>\n",
       "      <td>r</td>\n",
       "      <td>0</td>\n",
       "      <td>Q1</td>\n",
       "    </tr>\n",
       "    <tr>\n",
       "      <th>32</th>\n",
       "      <td>5.2</td>\n",
       "      <td>4.1</td>\n",
       "      <td>1.5</td>\n",
       "      <td>0.1</td>\n",
       "      <td>0</td>\n",
       "      <td>r</td>\n",
       "      <td>0</td>\n",
       "      <td>Q1</td>\n",
       "    </tr>\n",
       "    <tr>\n",
       "      <th>33</th>\n",
       "      <td>5.5</td>\n",
       "      <td>4.2</td>\n",
       "      <td>1.4</td>\n",
       "      <td>0.2</td>\n",
       "      <td>0</td>\n",
       "      <td>r</td>\n",
       "      <td>0</td>\n",
       "      <td>Q1</td>\n",
       "    </tr>\n",
       "    <tr>\n",
       "      <th>34</th>\n",
       "      <td>4.9</td>\n",
       "      <td>3.1</td>\n",
       "      <td>1.5</td>\n",
       "      <td>0.1</td>\n",
       "      <td>0</td>\n",
       "      <td>r</td>\n",
       "      <td>0</td>\n",
       "      <td>Q1</td>\n",
       "    </tr>\n",
       "    <tr>\n",
       "      <th>35</th>\n",
       "      <td>5</td>\n",
       "      <td>3.2</td>\n",
       "      <td>1.2</td>\n",
       "      <td>0.2</td>\n",
       "      <td>0</td>\n",
       "      <td>r</td>\n",
       "      <td>0</td>\n",
       "      <td>Q1</td>\n",
       "    </tr>\n",
       "    <tr>\n",
       "      <th>36</th>\n",
       "      <td>5.5</td>\n",
       "      <td>3.5</td>\n",
       "      <td>1.3</td>\n",
       "      <td>0.2</td>\n",
       "      <td>0</td>\n",
       "      <td>r</td>\n",
       "      <td>0</td>\n",
       "      <td>Q1</td>\n",
       "    </tr>\n",
       "    <tr>\n",
       "      <th>37</th>\n",
       "      <td>4.9</td>\n",
       "      <td>3.1</td>\n",
       "      <td>1.5</td>\n",
       "      <td>0.1</td>\n",
       "      <td>0</td>\n",
       "      <td>r</td>\n",
       "      <td>0</td>\n",
       "      <td>Q1</td>\n",
       "    </tr>\n",
       "    <tr>\n",
       "      <th>38</th>\n",
       "      <td>4.4</td>\n",
       "      <td>3</td>\n",
       "      <td>1.3</td>\n",
       "      <td>0.2</td>\n",
       "      <td>0</td>\n",
       "      <td>r</td>\n",
       "      <td>0</td>\n",
       "      <td>Q1</td>\n",
       "    </tr>\n",
       "    <tr>\n",
       "      <th>39</th>\n",
       "      <td>5.1</td>\n",
       "      <td>3.4</td>\n",
       "      <td>1.5</td>\n",
       "      <td>0.2</td>\n",
       "      <td>0</td>\n",
       "      <td>r</td>\n",
       "      <td>0</td>\n",
       "      <td>Q1</td>\n",
       "    </tr>\n",
       "    <tr>\n",
       "      <th>40</th>\n",
       "      <td>5</td>\n",
       "      <td>3.5</td>\n",
       "      <td>1.3</td>\n",
       "      <td>0.3</td>\n",
       "      <td>0</td>\n",
       "      <td>r</td>\n",
       "      <td>0</td>\n",
       "      <td>Q1</td>\n",
       "    </tr>\n",
       "    <tr>\n",
       "      <th>41</th>\n",
       "      <td>4.5</td>\n",
       "      <td>2.3</td>\n",
       "      <td>1.3</td>\n",
       "      <td>0.3</td>\n",
       "      <td>0</td>\n",
       "      <td>r</td>\n",
       "      <td>0</td>\n",
       "      <td>Q1</td>\n",
       "    </tr>\n",
       "    <tr>\n",
       "      <th>42</th>\n",
       "      <td>4.4</td>\n",
       "      <td>3.2</td>\n",
       "      <td>1.3</td>\n",
       "      <td>0.2</td>\n",
       "      <td>0</td>\n",
       "      <td>r</td>\n",
       "      <td>0</td>\n",
       "      <td>Q1</td>\n",
       "    </tr>\n",
       "    <tr>\n",
       "      <th>43</th>\n",
       "      <td>5</td>\n",
       "      <td>3.5</td>\n",
       "      <td>1.6</td>\n",
       "      <td>0.6</td>\n",
       "      <td>0</td>\n",
       "      <td>r</td>\n",
       "      <td>0</td>\n",
       "      <td>Q1</td>\n",
       "    </tr>\n",
       "    <tr>\n",
       "      <th>45</th>\n",
       "      <td>4.8</td>\n",
       "      <td>3</td>\n",
       "      <td>1.4</td>\n",
       "      <td>0.3</td>\n",
       "      <td>0</td>\n",
       "      <td>r</td>\n",
       "      <td>0</td>\n",
       "      <td>Q1</td>\n",
       "    </tr>\n",
       "    <tr>\n",
       "      <th>46</th>\n",
       "      <td>5.1</td>\n",
       "      <td>3.8</td>\n",
       "      <td>1.6</td>\n",
       "      <td>0.2</td>\n",
       "      <td>0</td>\n",
       "      <td>r</td>\n",
       "      <td>0</td>\n",
       "      <td>Q1</td>\n",
       "    </tr>\n",
       "    <tr>\n",
       "      <th>47</th>\n",
       "      <td>4.6</td>\n",
       "      <td>3.2</td>\n",
       "      <td>1.4</td>\n",
       "      <td>0.2</td>\n",
       "      <td>0</td>\n",
       "      <td>r</td>\n",
       "      <td>0</td>\n",
       "      <td>Q1</td>\n",
       "    </tr>\n",
       "    <tr>\n",
       "      <th>48</th>\n",
       "      <td>5.3</td>\n",
       "      <td>3.7</td>\n",
       "      <td>1.5</td>\n",
       "      <td>0.2</td>\n",
       "      <td>0</td>\n",
       "      <td>r</td>\n",
       "      <td>0</td>\n",
       "      <td>Q1</td>\n",
       "    </tr>\n",
       "    <tr>\n",
       "      <th>49</th>\n",
       "      <td>5</td>\n",
       "      <td>3.3</td>\n",
       "      <td>1.4</td>\n",
       "      <td>0.2</td>\n",
       "      <td>0</td>\n",
       "      <td>r</td>\n",
       "      <td>0</td>\n",
       "      <td>Q1</td>\n",
       "    </tr>\n",
       "  </tbody>\n",
       "</table>\n",
       "</div>"
      ],
      "text/plain": [
       "   sepal length (cm) sepal width (cm) petal length (cm) petal width (cm)  \\\n",
       "0                5.1              3.5               1.4              0.2   \n",
       "1                4.9                3               1.4              0.2   \n",
       "2                4.7              3.2               1.3              0.2   \n",
       "3                4.6              3.1               1.5              0.2   \n",
       "4                  5              3.6               1.4              0.2   \n",
       "6                4.6              3.4               1.4              0.3   \n",
       "7                  5              3.4               1.5              0.2   \n",
       "8                4.4              2.9               1.4              0.2   \n",
       "9                4.9              3.1               1.5              0.1   \n",
       "10               5.4              3.7               1.5              0.2   \n",
       "11               4.8              3.4               1.6              0.2   \n",
       "12               4.8                3               1.4              0.1   \n",
       "13               4.3                3               1.1              0.1   \n",
       "14               5.8                4               1.2              0.2   \n",
       "15               5.7              4.4               1.5              0.4   \n",
       "16               5.4              3.9               1.3              0.4   \n",
       "17               5.1              3.5               1.4              0.3   \n",
       "19               5.1              3.8               1.5              0.3   \n",
       "21               5.1              3.7               1.5              0.4   \n",
       "22               4.6              3.6                 1              0.2   \n",
       "25                 5                3               1.6              0.2   \n",
       "26                 5              3.4               1.6              0.4   \n",
       "27               5.2              3.5               1.5              0.2   \n",
       "28               5.2              3.4               1.4              0.2   \n",
       "29               4.7              3.2               1.6              0.2   \n",
       "30               4.8              3.1               1.6              0.2   \n",
       "31               5.4              3.4               1.5              0.4   \n",
       "32               5.2              4.1               1.5              0.1   \n",
       "33               5.5              4.2               1.4              0.2   \n",
       "34               4.9              3.1               1.5              0.1   \n",
       "35                 5              3.2               1.2              0.2   \n",
       "36               5.5              3.5               1.3              0.2   \n",
       "37               4.9              3.1               1.5              0.1   \n",
       "38               4.4                3               1.3              0.2   \n",
       "39               5.1              3.4               1.5              0.2   \n",
       "40                 5              3.5               1.3              0.3   \n",
       "41               4.5              2.3               1.3              0.3   \n",
       "42               4.4              3.2               1.3              0.2   \n",
       "43                 5              3.5               1.6              0.6   \n",
       "45               4.8                3               1.4              0.3   \n",
       "46               5.1              3.8               1.6              0.2   \n",
       "47               4.6              3.2               1.4              0.2   \n",
       "48               5.3              3.7               1.5              0.2   \n",
       "49                 5              3.3               1.4              0.2   \n",
       "\n",
       "   target ctarget predictions Quartile  \n",
       "0       0       r           0       Q1  \n",
       "1       0       r           0       Q1  \n",
       "2       0       r           0       Q1  \n",
       "3       0       r           0       Q1  \n",
       "4       0       r           0       Q1  \n",
       "6       0       r           0       Q1  \n",
       "7       0       r           0       Q1  \n",
       "8       0       r           0       Q1  \n",
       "9       0       r           0       Q1  \n",
       "10      0       r           0       Q1  \n",
       "11      0       r           0       Q1  \n",
       "12      0       r           0       Q1  \n",
       "13      0       r           0       Q1  \n",
       "14      0       r           0       Q1  \n",
       "15      0       r           0       Q1  \n",
       "16      0       r           0       Q1  \n",
       "17      0       r           0       Q1  \n",
       "19      0       r           0       Q1  \n",
       "21      0       r           0       Q1  \n",
       "22      0       r           0       Q1  \n",
       "25      0       r           0       Q1  \n",
       "26      0       r           0       Q1  \n",
       "27      0       r           0       Q1  \n",
       "28      0       r           0       Q1  \n",
       "29      0       r           0       Q1  \n",
       "30      0       r           0       Q1  \n",
       "31      0       r           0       Q1  \n",
       "32      0       r           0       Q1  \n",
       "33      0       r           0       Q1  \n",
       "34      0       r           0       Q1  \n",
       "35      0       r           0       Q1  \n",
       "36      0       r           0       Q1  \n",
       "37      0       r           0       Q1  \n",
       "38      0       r           0       Q1  \n",
       "39      0       r           0       Q1  \n",
       "40      0       r           0       Q1  \n",
       "41      0       r           0       Q1  \n",
       "42      0       r           0       Q1  \n",
       "43      0       r           0       Q1  \n",
       "45      0       r           0       Q1  \n",
       "46      0       r           0       Q1  \n",
       "47      0       r           0       Q1  \n",
       "48      0       r           0       Q1  \n",
       "49      0       r           0       Q1  "
      ]
     },
     "execution_count": 29,
     "metadata": {},
     "output_type": "execute_result"
    }
   ],
   "source": [
    "irisdf.loc[irisdf['petal length (cm)']<=Q1] "
   ]
  },
  {
   "cell_type": "code",
   "execution_count": null,
   "metadata": {
    "collapsed": false
   },
   "outputs": [],
   "source": []
  },
  {
   "cell_type": "markdown",
   "metadata": {},
   "source": [
    "### In Class Exercise \n",
    "\n",
    "+ Work on improving the classifier below.\n",
    "\n",
    "+ Could we add another cutoff to fix our mediocre classifier? \n",
    "\n",
    "+ What is missing below? "
   ]
  },
  {
   "cell_type": "code",
   "execution_count": null,
   "metadata": {
    "collapsed": false
   },
   "outputs": [],
   "source": []
  },
  {
   "cell_type": "code",
   "execution_count": null,
   "metadata": {
    "collapsed": false
   },
   "outputs": [],
   "source": [
    "def my_classifier(row):\n",
    "    if row['petal length (cm)'] < 2:\n",
    "        return 0\n",
    "    else:\n",
    "        return 2\n",
    "\n",
    "predictions = irisdf.apply(my_classifier, axis=1)\n",
    "\n",
    "irisdf['predictions'] = predictions\n",
    "\n",
    "print float(len(irisdf[irisdf.target == irisdf.predictions])) / len(irisdf)"
   ]
  },
  {
   "cell_type": "markdown",
   "metadata": {},
   "source": [
    "### Using distance: KNN implementation"
   ]
  },
  {
   "cell_type": "code",
   "execution_count": 45,
   "metadata": {
    "collapsed": false
   },
   "outputs": [
    {
     "name": "stdout",
     "output_type": "stream",
     "text": [
      "0.96\n"
     ]
    }
   ],
   "source": [
    "from sklearn import datasets, neighbors, metrics\n",
    "import pandas as pd\n",
    "\n",
    "iris = datasets.load_iris()\n",
    "\n",
    "# n_neighbors is our option in KNN. We'll tune this value to attempt to improve our prediction.\n",
    "knn = neighbors.KNeighborsClassifier(n_neighbors=5, weights='uniform')\n",
    "knn.fit(iris.data[:,2:], iris.target)\n",
    "\n",
    "print knn.score(iris.data[:,2:], iris.target)"
   ]
  },
  {
   "cell_type": "code",
   "execution_count": null,
   "metadata": {
    "collapsed": false
   },
   "outputs": [],
   "source": []
  },
  {
   "cell_type": "markdown",
   "metadata": {},
   "source": [
    "### But what does this score look like? \n",
    "\n",
    "+ Lets print out the raw outcome var vs predicted outcome"
   ]
  },
  {
   "cell_type": "code",
   "execution_count": 31,
   "metadata": {
    "collapsed": false
   },
   "outputs": [
    {
     "name": "stdout",
     "output_type": "stream",
     "text": [
      "predicted outcome [0 0 0 0 0 0 0 0 0 0 0 0 0 0 0 0 0 0 0 0 0 0 0 0 0 0 0 0 0 0 0 0 0 0 0 0 0\n",
      " 0 0 0 0 0 0 0 0 0 0 0 0 0 1 1 1 1 1 1 1 1 1 1 1 1 1 1 1 1 1 1 1 1 2 1 1 1\n",
      " 1 1 1 2 1 1 1 1 1 2 1 1 1 1 1 1 1 1 1 1 1 1 1 1 1 1 2 2 2 2 2 2 1 2 2 2 2\n",
      " 2 2 2 2 2 2 2 2 1 2 2 2 2 2 2 2 2 2 2 2 2 2 1 2 2 2 2 2 2 2 2 2 2 2 2 2 2\n",
      " 2 2]\n",
      "observed outcome [0 0 0 0 0 0 0 0 0 0 0 0 0 0 0 0 0 0 0 0 0 0 0 0 0 0 0 0 0 0 0 0 0 0 0 0 0\n",
      " 0 0 0 0 0 0 0 0 0 0 0 0 0 1 1 1 1 1 1 1 1 1 1 1 1 1 1 1 1 1 1 1 1 1 1 1 1\n",
      " 1 1 1 1 1 1 1 1 1 1 1 1 1 1 1 1 1 1 1 1 1 1 1 1 1 1 2 2 2 2 2 2 2 2 2 2 2\n",
      " 2 2 2 2 2 2 2 2 2 2 2 2 2 2 2 2 2 2 2 2 2 2 2 2 2 2 2 2 2 2 2 2 2 2 2 2 2\n",
      " 2 2]\n"
     ]
    }
   ],
   "source": [
    "print \"predicted outcome\", knn.predict(iris.data[:,2:])\n",
    "print \"observed outcome\", iris.target\n"
   ]
  },
  {
   "cell_type": "markdown",
   "metadata": {},
   "source": [
    "## Do we see a change in performance when using the distance weight?"
   ]
  },
  {
   "cell_type": "code",
   "execution_count": 37,
   "metadata": {
    "collapsed": false
   },
   "outputs": [
    {
     "name": "stdout",
     "output_type": "stream",
     "text": [
      "0.993333333333\n"
     ]
    }
   ],
   "source": [
    "knn = neighbors.KNeighborsClassifier(n_neighbors=5, weights='distance') # add in the weights parameter here\n",
    "knn.fit(iris.data[:,2:], iris.target)\n",
    "#print knn.predict(iris.data[:,2:])\n",
    "#print iris.target\n",
    "\n",
    "print knn.score(iris.data[:,2:], iris.target)"
   ]
  },
  {
   "cell_type": "markdown",
   "metadata": {},
   "source": [
    "### Solution to solving K\n",
    "\n",
    "This is only one approach to the problem, but adding in the 'distance' parameter (instead of uniform) would only be additive. Note the code would need some editing to handle it properly if done in the grid search; alternatively, make the change directly in the estimator."
   ]
  },
  {
   "cell_type": "code",
   "execution_count": 42,
   "metadata": {
    "collapsed": false
   },
   "outputs": [],
   "source": [
    "iris = datasets.load_iris()"
   ]
  },
  {
   "cell_type": "code",
   "execution_count": 54,
   "metadata": {
    "collapsed": false
   },
   "outputs": [
    {
     "data": {
      "text/plain": [
       "[mean: 0.90667, std: 0.09752, params: {'n_neighbors': 2, 'metric': 'minkowski', 'weights': 'uniform'},\n",
       " mean: 0.92667, std: 0.06799, params: {'n_neighbors': 2, 'metric': 'minkowski', 'weights': 'distance'},\n",
       " mean: 0.90667, std: 0.09286, params: {'n_neighbors': 3, 'metric': 'minkowski', 'weights': 'uniform'},\n",
       " mean: 0.90667, std: 0.09286, params: {'n_neighbors': 3, 'metric': 'minkowski', 'weights': 'distance'},\n",
       " mean: 0.90667, std: 0.09286, params: {'n_neighbors': 4, 'metric': 'minkowski', 'weights': 'uniform'},\n",
       " mean: 0.90667, std: 0.09286, params: {'n_neighbors': 4, 'metric': 'minkowski', 'weights': 'distance'},\n",
       " mean: 0.91333, std: 0.08327, params: {'n_neighbors': 5, 'metric': 'minkowski', 'weights': 'uniform'},\n",
       " mean: 0.91333, std: 0.08327, params: {'n_neighbors': 5, 'metric': 'minkowski', 'weights': 'distance'},\n",
       " mean: 0.90667, std: 0.09286, params: {'n_neighbors': 6, 'metric': 'minkowski', 'weights': 'uniform'},\n",
       " mean: 0.91333, std: 0.08327, params: {'n_neighbors': 6, 'metric': 'minkowski', 'weights': 'distance'},\n",
       " mean: 0.92000, std: 0.08589, params: {'n_neighbors': 7, 'metric': 'minkowski', 'weights': 'uniform'},\n",
       " mean: 0.92667, std: 0.07717, params: {'n_neighbors': 7, 'metric': 'minkowski', 'weights': 'distance'},\n",
       " mean: 0.91333, std: 0.08844, params: {'n_neighbors': 8, 'metric': 'minkowski', 'weights': 'uniform'},\n",
       " mean: 0.92000, std: 0.07483, params: {'n_neighbors': 8, 'metric': 'minkowski', 'weights': 'distance'},\n",
       " mean: 0.92000, std: 0.09092, params: {'n_neighbors': 9, 'metric': 'minkowski', 'weights': 'uniform'},\n",
       " mean: 0.92000, std: 0.09092, params: {'n_neighbors': 9, 'metric': 'minkowski', 'weights': 'distance'},\n",
       " mean: 0.92000, std: 0.09092, params: {'n_neighbors': 10, 'metric': 'minkowski', 'weights': 'uniform'},\n",
       " mean: 0.92667, std: 0.08000, params: {'n_neighbors': 10, 'metric': 'minkowski', 'weights': 'distance'},\n",
       " mean: 0.91333, std: 0.08589, params: {'n_neighbors': 11, 'metric': 'minkowski', 'weights': 'uniform'},\n",
       " mean: 0.92000, std: 0.09092, params: {'n_neighbors': 11, 'metric': 'minkowski', 'weights': 'distance'},\n",
       " mean: 0.89333, std: 0.10625, params: {'n_neighbors': 12, 'metric': 'minkowski', 'weights': 'uniform'},\n",
       " mean: 0.91333, std: 0.08844, params: {'n_neighbors': 12, 'metric': 'minkowski', 'weights': 'distance'},\n",
       " mean: 0.90667, std: 0.08273, params: {'n_neighbors': 13, 'metric': 'minkowski', 'weights': 'uniform'},\n",
       " mean: 0.92000, std: 0.07775, params: {'n_neighbors': 13, 'metric': 'minkowski', 'weights': 'distance'},\n",
       " mean: 0.90000, std: 0.09428, params: {'n_neighbors': 14, 'metric': 'minkowski', 'weights': 'uniform'},\n",
       " mean: 0.92000, std: 0.07775, params: {'n_neighbors': 14, 'metric': 'minkowski', 'weights': 'distance'},\n",
       " mean: 0.90000, std: 0.09428, params: {'n_neighbors': 15, 'metric': 'minkowski', 'weights': 'uniform'},\n",
       " mean: 0.91333, std: 0.08844, params: {'n_neighbors': 15, 'metric': 'minkowski', 'weights': 'distance'},\n",
       " mean: 0.88667, std: 0.11851, params: {'n_neighbors': 16, 'metric': 'minkowski', 'weights': 'uniform'},\n",
       " mean: 0.91333, std: 0.08844, params: {'n_neighbors': 16, 'metric': 'minkowski', 'weights': 'distance'},\n",
       " mean: 0.88000, std: 0.12754, params: {'n_neighbors': 17, 'metric': 'minkowski', 'weights': 'uniform'},\n",
       " mean: 0.90667, std: 0.09978, params: {'n_neighbors': 17, 'metric': 'minkowski', 'weights': 'distance'},\n",
       " mean: 0.86667, std: 0.12111, params: {'n_neighbors': 18, 'metric': 'minkowski', 'weights': 'uniform'},\n",
       " mean: 0.90667, std: 0.09978, params: {'n_neighbors': 18, 'metric': 'minkowski', 'weights': 'distance'},\n",
       " mean: 0.88667, std: 0.11662, params: {'n_neighbors': 19, 'metric': 'minkowski', 'weights': 'uniform'},\n",
       " mean: 0.90667, std: 0.09978, params: {'n_neighbors': 19, 'metric': 'minkowski', 'weights': 'distance'},\n",
       " mean: 0.86667, std: 0.13499, params: {'n_neighbors': 20, 'metric': 'minkowski', 'weights': 'uniform'},\n",
       " mean: 0.90667, std: 0.09978, params: {'n_neighbors': 20, 'metric': 'minkowski', 'weights': 'distance'},\n",
       " mean: 0.86667, std: 0.13499, params: {'n_neighbors': 21, 'metric': 'minkowski', 'weights': 'uniform'},\n",
       " mean: 0.90667, std: 0.09978, params: {'n_neighbors': 21, 'metric': 'minkowski', 'weights': 'distance'},\n",
       " mean: 0.86667, std: 0.13499, params: {'n_neighbors': 22, 'metric': 'minkowski', 'weights': 'uniform'},\n",
       " mean: 0.90000, std: 0.10328, params: {'n_neighbors': 22, 'metric': 'minkowski', 'weights': 'distance'},\n",
       " mean: 0.86667, std: 0.13499, params: {'n_neighbors': 23, 'metric': 'minkowski', 'weights': 'uniform'},\n",
       " mean: 0.90000, std: 0.10328, params: {'n_neighbors': 23, 'metric': 'minkowski', 'weights': 'distance'},\n",
       " mean: 0.84667, std: 0.17075, params: {'n_neighbors': 24, 'metric': 'minkowski', 'weights': 'uniform'},\n",
       " mean: 0.90000, std: 0.10328, params: {'n_neighbors': 24, 'metric': 'minkowski', 'weights': 'distance'},\n",
       " mean: 0.90000, std: 0.09888, params: {'n_neighbors': 2, 'metric': 'manhattan', 'weights': 'uniform'},\n",
       " mean: 0.90667, std: 0.09978, params: {'n_neighbors': 2, 'metric': 'manhattan', 'weights': 'distance'},\n",
       " mean: 0.91333, std: 0.08844, params: {'n_neighbors': 3, 'metric': 'manhattan', 'weights': 'uniform'},\n",
       " mean: 0.91333, std: 0.08844, params: {'n_neighbors': 3, 'metric': 'manhattan', 'weights': 'distance'},\n",
       " mean: 0.91333, std: 0.08844, params: {'n_neighbors': 4, 'metric': 'manhattan', 'weights': 'uniform'},\n",
       " mean: 0.91333, std: 0.08844, params: {'n_neighbors': 4, 'metric': 'manhattan', 'weights': 'distance'},\n",
       " mean: 0.92667, std: 0.06799, params: {'n_neighbors': 5, 'metric': 'manhattan', 'weights': 'uniform'},\n",
       " mean: 0.92667, std: 0.06799, params: {'n_neighbors': 5, 'metric': 'manhattan', 'weights': 'distance'},\n",
       " mean: 0.90667, std: 0.09978, params: {'n_neighbors': 6, 'metric': 'manhattan', 'weights': 'uniform'},\n",
       " mean: 0.91333, std: 0.08844, params: {'n_neighbors': 6, 'metric': 'manhattan', 'weights': 'distance'},\n",
       " mean: 0.91333, std: 0.08844, params: {'n_neighbors': 7, 'metric': 'manhattan', 'weights': 'uniform'},\n",
       " mean: 0.92000, std: 0.07775, params: {'n_neighbors': 7, 'metric': 'manhattan', 'weights': 'distance'},\n",
       " mean: 0.91333, std: 0.08844, params: {'n_neighbors': 8, 'metric': 'manhattan', 'weights': 'uniform'},\n",
       " mean: 0.91333, std: 0.08327, params: {'n_neighbors': 8, 'metric': 'manhattan', 'weights': 'distance'},\n",
       " mean: 0.92000, std: 0.07775, params: {'n_neighbors': 9, 'metric': 'manhattan', 'weights': 'uniform'},\n",
       " mean: 0.92667, std: 0.06799, params: {'n_neighbors': 9, 'metric': 'manhattan', 'weights': 'distance'},\n",
       " mean: 0.91333, std: 0.08844, params: {'n_neighbors': 10, 'metric': 'manhattan', 'weights': 'uniform'},\n",
       " mean: 0.91333, std: 0.08327, params: {'n_neighbors': 10, 'metric': 'manhattan', 'weights': 'distance'},\n",
       " mean: 0.92000, std: 0.07775, params: {'n_neighbors': 11, 'metric': 'manhattan', 'weights': 'uniform'},\n",
       " mean: 0.92000, std: 0.07775, params: {'n_neighbors': 11, 'metric': 'manhattan', 'weights': 'distance'},\n",
       " mean: 0.90667, std: 0.09978, params: {'n_neighbors': 12, 'metric': 'manhattan', 'weights': 'uniform'},\n",
       " mean: 0.91333, std: 0.08844, params: {'n_neighbors': 12, 'metric': 'manhattan', 'weights': 'distance'},\n",
       " mean: 0.91333, std: 0.07180, params: {'n_neighbors': 13, 'metric': 'manhattan', 'weights': 'uniform'},\n",
       " mean: 0.92000, std: 0.07775, params: {'n_neighbors': 13, 'metric': 'manhattan', 'weights': 'distance'},\n",
       " mean: 0.90000, std: 0.11155, params: {'n_neighbors': 14, 'metric': 'manhattan', 'weights': 'uniform'},\n",
       " mean: 0.91333, std: 0.08844, params: {'n_neighbors': 14, 'metric': 'manhattan', 'weights': 'distance'},\n",
       " mean: 0.90667, std: 0.11431, params: {'n_neighbors': 15, 'metric': 'manhattan', 'weights': 'uniform'},\n",
       " mean: 0.90667, std: 0.09978, params: {'n_neighbors': 15, 'metric': 'manhattan', 'weights': 'distance'},\n",
       " mean: 0.90667, std: 0.11431, params: {'n_neighbors': 16, 'metric': 'manhattan', 'weights': 'uniform'},\n",
       " mean: 0.91333, std: 0.10242, params: {'n_neighbors': 16, 'metric': 'manhattan', 'weights': 'distance'},\n",
       " mean: 0.89333, std: 0.11235, params: {'n_neighbors': 17, 'metric': 'manhattan', 'weights': 'uniform'},\n",
       " mean: 0.90667, std: 0.09978, params: {'n_neighbors': 17, 'metric': 'manhattan', 'weights': 'distance'},\n",
       " mean: 0.88000, std: 0.12037, params: {'n_neighbors': 18, 'metric': 'manhattan', 'weights': 'uniform'},\n",
       " mean: 0.90667, std: 0.09978, params: {'n_neighbors': 18, 'metric': 'manhattan', 'weights': 'distance'},\n",
       " mean: 0.87333, std: 0.12365, params: {'n_neighbors': 19, 'metric': 'manhattan', 'weights': 'uniform'},\n",
       " mean: 0.90667, std: 0.09978, params: {'n_neighbors': 19, 'metric': 'manhattan', 'weights': 'distance'},\n",
       " mean: 0.87333, std: 0.12365, params: {'n_neighbors': 20, 'metric': 'manhattan', 'weights': 'uniform'},\n",
       " mean: 0.90000, std: 0.11155, params: {'n_neighbors': 20, 'metric': 'manhattan', 'weights': 'distance'},\n",
       " mean: 0.87333, std: 0.12365, params: {'n_neighbors': 21, 'metric': 'manhattan', 'weights': 'uniform'},\n",
       " mean: 0.90667, std: 0.09978, params: {'n_neighbors': 21, 'metric': 'manhattan', 'weights': 'distance'},\n",
       " mean: 0.86667, std: 0.13499, params: {'n_neighbors': 22, 'metric': 'manhattan', 'weights': 'uniform'},\n",
       " mean: 0.89333, std: 0.10625, params: {'n_neighbors': 22, 'metric': 'manhattan', 'weights': 'distance'},\n",
       " mean: 0.86667, std: 0.13499, params: {'n_neighbors': 23, 'metric': 'manhattan', 'weights': 'uniform'},\n",
       " mean: 0.90000, std: 0.11155, params: {'n_neighbors': 23, 'metric': 'manhattan', 'weights': 'distance'},\n",
       " mean: 0.85333, std: 0.15861, params: {'n_neighbors': 24, 'metric': 'manhattan', 'weights': 'uniform'},\n",
       " mean: 0.89333, std: 0.11431, params: {'n_neighbors': 24, 'metric': 'manhattan', 'weights': 'distance'}]"
      ]
     },
     "execution_count": 54,
     "metadata": {},
     "output_type": "execute_result"
    }
   ],
   "source": [
    "from sklearn import grid_search, cross_validation\n",
    "import matplotlib.pyplot as plt\n",
    "\n",
    "k = range(2, 25)# some *list of numbers*! Make this go to 100!\n",
    "params = {'n_neighbors':k, 'weights':['uniform', 'distance'], \n",
    "         'metric':['minkowski', 'manhattan']}# Specify the parameter you're changing as a dictionary key\n",
    "            # Specify the *list of numbers* as the dictionary value!\n",
    "\n",
    "kf = cross_validation.KFold(len(irisdf), n_folds = 5)\n",
    "gs = grid_search.GridSearchCV(\n",
    "    estimator=neighbors.KNeighborsClassifier(),\n",
    "    param_grid=params,\n",
    "    cv=kf,\n",
    ")\n",
    "gs.fit(iris.data, iris.target)\n",
    "gs.grid_scores_"
   ]
  },
  {
   "cell_type": "code",
   "execution_count": null,
   "metadata": {
    "collapsed": false
   },
   "outputs": [],
   "source": []
  },
  {
   "cell_type": "markdown",
   "metadata": {},
   "source": [
    "## Not lets plot that, because it's not easy to just look at grid scores"
   ]
  },
  {
   "cell_type": "code",
   "execution_count": 63,
   "metadata": {
    "collapsed": false
   },
   "outputs": [
    {
     "data": {
      "text/plain": [
       "<matplotlib.legend.Legend at 0x11af1c390>"
      ]
     },
     "execution_count": 63,
     "metadata": {},
     "output_type": "execute_result"
    },
    {
     "data": {
      "image/png": "[encoded data removed]",
      "text/plain": [
       "<matplotlib.figure.Figure at 0x11ace3e90>"
      ]
     },
     "metadata": {},
     "output_type": "display_data"
    }
   ],
   "source": [
    "mink_dist, = plt.plot(k,[s[1] for s in  gs.grid_scores_[1::2][0:len(gs.grid_scores_[1::2])/2]], color='red', label='mink_distance')\n",
    "mink_uni, = plt.plot(k,[s[1] for s in  gs.grid_scores_[::2][0:len(gs.grid_scores_[::2])/2]], color='blue', label = 'mink_uniform')\n",
    "man_dist, = plt.plot(k,[s[1] for s in  gs.grid_scores_[1::2][len(gs.grid_scores_[1::2])/2:]], color='green', label='manhattan_distance')\n",
    "man_uni, = plt.plot(k,[s[1] for s in  gs.grid_scores_[::2][len(gs.grid_scores_[::2])/2:]], color='purple', label = 'manhattan_uniform')\n",
    "plt.legend(handles=[mink_dist, mink_uni, man_dist, man_uni])"
   ]
  },
  {
   "cell_type": "code",
   "execution_count": 50,
   "metadata": {
    "collapsed": false
   },
   "outputs": [
    {
     "data": {
      "text/plain": [
       "<matplotlib.legend.Legend at 0x11a9f1190>"
      ]
     },
     "execution_count": 50,
     "metadata": {},
     "output_type": "execute_result"
    },
    {
     "data": {
      "image/png": "[encoded data removed]",
      "text/plain": [
       "<matplotlib.figure.Figure at 0x11a812f10>"
      ]
     },
     "metadata": {},
     "output_type": "display_data"
    }
   ],
   "source": [
    "\n",
    "line_up, = plt.plot(k[:25],[s[1] for s in  gs.grid_scores_[1:50:2]], color='red', label='distance')\n",
    "line_down, = plt.plot(k[:25],[s[1] for s in  gs.grid_scores_[:50:2]], color='blue', label = 'uniform')\n",
    "plt.legend(handles=[line_up, line_down])"
   ]
  },
  {
   "cell_type": "markdown",
   "metadata": {},
   "source": [
    "### Remember these functions!\n",
    "+ How do they match up with the graphs above?\n"
   ]
  },
  {
   "cell_type": "code",
   "execution_count": 64,
   "metadata": {
    "collapsed": false
   },
   "outputs": [
    {
     "name": "stdout",
     "output_type": "stream",
     "text": [
      "0.926666666667\n"
     ]
    }
   ],
   "source": [
    "print gs.best_score_\n"
   ]
  },
  {
   "cell_type": "code",
   "execution_count": 65,
   "metadata": {
    "collapsed": false
   },
   "outputs": [
    {
     "name": "stdout",
     "output_type": "stream",
     "text": [
      "{'n_neighbors': 2, 'metric': 'minkowski', 'weights': 'distance'}\n"
     ]
    }
   ],
   "source": [
    "print gs.best_params_\n"
   ]
  },
  {
   "cell_type": "code",
   "execution_count": 66,
   "metadata": {
    "collapsed": false
   },
   "outputs": [
    {
     "name": "stdout",
     "output_type": "stream",
     "text": [
      "KNeighborsClassifier(algorithm='auto', leaf_size=30, metric='minkowski',\n",
      "           metric_params=None, n_jobs=1, n_neighbors=2, p=2,\n",
      "           weights='distance')\n"
     ]
    }
   ],
   "source": [
    "print gs.best_estimator_"
   ]
  },
  {
   "cell_type": "code",
   "execution_count": null,
   "metadata": {
    "collapsed": true
   },
   "outputs": [],
   "source": []
  },
  {
   "cell_type": "code",
   "execution_count": null,
   "metadata": {
    "collapsed": true
   },
   "outputs": [],
   "source": []
  },
  {
   "cell_type": "code",
   "execution_count": null,
   "metadata": {
    "collapsed": true
   },
   "outputs": [],
   "source": []
  }
 ],
 "metadata": {
  "kernelspec": {
   "display_name": "Python 2",
   "language": "python",
   "name": "python2"
  },
  "language_info": {
   "codemirror_mode": {
    "name": "ipython",
    "version": 2
   },
   "file_extension": ".py",
   "mimetype": "text/x-python",
   "name": "python",
   "nbconvert_exporter": "python",
   "pygments_lexer": "ipython2",
   "version": "2.7.11"
  }
 },
 "nbformat": 4,
 "nbformat_minor": 0
}
