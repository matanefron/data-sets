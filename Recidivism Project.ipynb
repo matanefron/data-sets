{
 "cells": [
  {
   "cell_type": "markdown",
   "metadata": {},
   "source": [
    "https://catalog.data.gov/dataset/3-year-recidivism-for-offenders-released-from-prison"
   ]
  },
  {
   "cell_type": "code",
   "execution_count": 61,
   "metadata": {
    "collapsed": true
   },
   "outputs": [],
   "source": [
    "import pandas as pd\n",
    "import numpy as np\n",
    "import matplotlib.pyplot as plt\n",
    "%matplotlib inline\n",
    "plt.style.use('ggplot')"
   ]
  },
  {
   "cell_type": "code",
   "execution_count": 62,
   "metadata": {
    "collapsed": false
   },
   "outputs": [],
   "source": [
    "#df  = pd.read_csv('/Users/matanefron/Desktop/df-sf-32/DS-SF-32/lessons/lesson-6/temp_data.txt', sep='\\t')\n",
    "df = pd.read_csv('/Users/matanefron/Downloads/3-Year_Recidivism_for_Offenders_Released_from_Prison.csv')"
   ]
  },
  {
   "cell_type": "code",
   "execution_count": 29,
   "metadata": {
    "collapsed": false,
    "scrolled": true
   },
   "outputs": [
    {
     "data": {
      "text/html": [
       "<div>\n",
       "<table border=\"1\" class=\"dataframe\">\n",
       "  <thead>\n",
       "    <tr style=\"text-align: right;\">\n",
       "      <th></th>\n",
       "      <th>Offender</th>\n",
       "      <th>Recidivism Reporting Year</th>\n",
       "      <th>Race - Ethnicity</th>\n",
       "      <th>Sex</th>\n",
       "      <th>Age At Release</th>\n",
       "      <th>Convicting Offense Classification</th>\n",
       "      <th>Convicting Offense Type</th>\n",
       "      <th>Convicting Offense Subtype</th>\n",
       "      <th>Release Type</th>\n",
       "      <th>Main Supervising District</th>\n",
       "      <th>Recidivism - Return to Prison</th>\n",
       "      <th>Recidivism Type</th>\n",
       "      <th>Days to Recidivism</th>\n",
       "      <th>New Conviction Offense Classification</th>\n",
       "      <th>New Conviction Offense Type</th>\n",
       "      <th>New Conviction Offense Sub Type</th>\n",
       "      <th>Part of Target Population</th>\n",
       "    </tr>\n",
       "  </thead>\n",
       "  <tbody>\n",
       "    <tr>\n",
       "      <th>0</th>\n",
       "      <td>1</td>\n",
       "      <td>FY13</td>\n",
       "      <td>White - Non-Hispanic</td>\n",
       "      <td>M</td>\n",
       "      <td>Under 25</td>\n",
       "      <td>D Felony</td>\n",
       "      <td>Violent</td>\n",
       "      <td>Assault</td>\n",
       "      <td>Parole</td>\n",
       "      <td>4JD</td>\n",
       "      <td>Yes</td>\n",
       "      <td>Tech</td>\n",
       "      <td>16.0</td>\n",
       "      <td>NaN</td>\n",
       "      <td>NaN</td>\n",
       "      <td>NaN</td>\n",
       "      <td>Yes</td>\n",
       "    </tr>\n",
       "    <tr>\n",
       "      <th>1</th>\n",
       "      <td>1</td>\n",
       "      <td>FY13</td>\n",
       "      <td>White - Non-Hispanic</td>\n",
       "      <td>M</td>\n",
       "      <td>55 and Older</td>\n",
       "      <td>D Felony</td>\n",
       "      <td>Public Order</td>\n",
       "      <td>OWI</td>\n",
       "      <td>Parole</td>\n",
       "      <td>7JD</td>\n",
       "      <td>Yes</td>\n",
       "      <td>Tech</td>\n",
       "      <td>19.0</td>\n",
       "      <td>NaN</td>\n",
       "      <td>NaN</td>\n",
       "      <td>NaN</td>\n",
       "      <td>Yes</td>\n",
       "    </tr>\n",
       "    <tr>\n",
       "      <th>2</th>\n",
       "      <td>1</td>\n",
       "      <td>FY13</td>\n",
       "      <td>White - Non-Hispanic</td>\n",
       "      <td>M</td>\n",
       "      <td>25-34</td>\n",
       "      <td>D Felony</td>\n",
       "      <td>Property</td>\n",
       "      <td>Burglary</td>\n",
       "      <td>Parole</td>\n",
       "      <td>5JD</td>\n",
       "      <td>Yes</td>\n",
       "      <td>Tech</td>\n",
       "      <td>22.0</td>\n",
       "      <td>NaN</td>\n",
       "      <td>NaN</td>\n",
       "      <td>NaN</td>\n",
       "      <td>Yes</td>\n",
       "    </tr>\n",
       "    <tr>\n",
       "      <th>3</th>\n",
       "      <td>1</td>\n",
       "      <td>FY13</td>\n",
       "      <td>White - Non-Hispanic</td>\n",
       "      <td>M</td>\n",
       "      <td>55 and Older</td>\n",
       "      <td>C Felony</td>\n",
       "      <td>Drug</td>\n",
       "      <td>Trafficking</td>\n",
       "      <td>Parole</td>\n",
       "      <td>8JD</td>\n",
       "      <td>Yes</td>\n",
       "      <td>Tech</td>\n",
       "      <td>25.0</td>\n",
       "      <td>NaN</td>\n",
       "      <td>NaN</td>\n",
       "      <td>NaN</td>\n",
       "      <td>Yes</td>\n",
       "    </tr>\n",
       "    <tr>\n",
       "      <th>4</th>\n",
       "      <td>1</td>\n",
       "      <td>FY13</td>\n",
       "      <td>Black - Non-Hispanic</td>\n",
       "      <td>M</td>\n",
       "      <td>25-34</td>\n",
       "      <td>D Felony</td>\n",
       "      <td>Drug</td>\n",
       "      <td>Trafficking</td>\n",
       "      <td>Parole</td>\n",
       "      <td>3JD</td>\n",
       "      <td>Yes</td>\n",
       "      <td>Tech</td>\n",
       "      <td>26.0</td>\n",
       "      <td>NaN</td>\n",
       "      <td>NaN</td>\n",
       "      <td>NaN</td>\n",
       "      <td>Yes</td>\n",
       "    </tr>\n",
       "  </tbody>\n",
       "</table>\n",
       "</div>"
      ],
      "text/plain": [
       "   Offender Recidivism Reporting Year      Race - Ethnicity Sex  \\\n",
       "0         1                      FY13  White - Non-Hispanic   M   \n",
       "1         1                      FY13  White - Non-Hispanic   M   \n",
       "2         1                      FY13  White - Non-Hispanic   M   \n",
       "3         1                      FY13  White - Non-Hispanic   M   \n",
       "4         1                      FY13  Black - Non-Hispanic   M   \n",
       "\n",
       "  Age At Release  Convicting Offense Classification Convicting Offense Type  \\\n",
       "0        Under 25                          D Felony                 Violent   \n",
       "1    55 and Older                          D Felony            Public Order   \n",
       "2           25-34                          D Felony                Property   \n",
       "3    55 and Older                          C Felony                    Drug   \n",
       "4           25-34                          D Felony                    Drug   \n",
       "\n",
       "  Convicting Offense Subtype Release Type Main Supervising District  \\\n",
       "0                    Assault       Parole                       4JD   \n",
       "1                        OWI       Parole                       7JD   \n",
       "2                   Burglary       Parole                       5JD   \n",
       "3                Trafficking       Parole                       8JD   \n",
       "4                Trafficking       Parole                       3JD   \n",
       "\n",
       "  Recidivism - Return to Prison Recidivism Type  Days to Recidivism  \\\n",
       "0                           Yes            Tech                16.0   \n",
       "1                           Yes            Tech                19.0   \n",
       "2                           Yes            Tech                22.0   \n",
       "3                           Yes            Tech                25.0   \n",
       "4                           Yes            Tech                26.0   \n",
       "\n",
       "  New Conviction Offense Classification New Conviction Offense Type  \\\n",
       "0                                   NaN                         NaN   \n",
       "1                                   NaN                         NaN   \n",
       "2                                   NaN                         NaN   \n",
       "3                                   NaN                         NaN   \n",
       "4                                   NaN                         NaN   \n",
       "\n",
       "  New Conviction Offense Sub Type Part of Target Population  \n",
       "0                             NaN                       Yes  \n",
       "1                             NaN                       Yes  \n",
       "2                             NaN                       Yes  \n",
       "3                             NaN                       Yes  \n",
       "4                             NaN                       Yes  "
      ]
     },
     "execution_count": 29,
     "metadata": {},
     "output_type": "execute_result"
    }
   ],
   "source": [
    "#data view\n",
    "#df.head(20)\n",
    "df[df['Offender']==1].head()"
   ]
  },
  {
   "cell_type": "code",
   "execution_count": 51,
   "metadata": {
    "collapsed": false,
    "scrolled": true
   },
   "outputs": [
    {
     "name": "stdout",
     "output_type": "stream",
     "text": [
      "307080\n"
     ]
    },
    {
     "data": {
      "text/html": [
       "<div>\n",
       "<table border=\"1\" class=\"dataframe\">\n",
       "  <thead>\n",
       "    <tr>\n",
       "      <th></th>\n",
       "      <th>Offender</th>\n",
       "    </tr>\n",
       "    <tr>\n",
       "      <th></th>\n",
       "      <th>size</th>\n",
       "    </tr>\n",
       "    <tr>\n",
       "      <th>Recidivism</th>\n",
       "      <th></th>\n",
       "    </tr>\n",
       "  </thead>\n",
       "  <tbody>\n",
       "    <tr>\n",
       "      <th>False</th>\n",
       "      <td>11656</td>\n",
       "    </tr>\n",
       "    <tr>\n",
       "      <th>True</th>\n",
       "      <td>5404</td>\n",
       "    </tr>\n",
       "  </tbody>\n",
       "</table>\n",
       "</div>"
      ],
      "text/plain": [
       "           Offender\n",
       "               size\n",
       "Recidivism         \n",
       "False         11656\n",
       "True           5404"
      ]
     },
     "execution_count": 51,
     "metadata": {},
     "output_type": "execute_result"
    }
   ],
   "source": [
    "print df.size\n",
    "df.groupby(['Recidivism']).agg({'Offender':[np.size]})\n"
   ]
  },
  {
   "cell_type": "code",
   "execution_count": 65,
   "metadata": {
    "collapsed": false
   },
   "outputs": [],
   "source": [
    "#Set recidivism to true or false\n",
    "df['Recidivism'] = df['Recidivism - Return to Prison']=='Yes'\n",
    "#Change it to binary\n",
    "df.Recidivism = df.Recidivism.astype(int)\n"
   ]
  },
  {
   "cell_type": "code",
   "execution_count": 38,
   "metadata": {
    "collapsed": false
   },
   "outputs": [
    {
     "data": {
      "text/plain": [
       "Offender                                   int64\n",
       "Recidivism Reporting Year                 object\n",
       "Race - Ethnicity                          object\n",
       "Sex                                       object\n",
       "Age At Release                            object\n",
       "Convicting Offense Classification         object\n",
       "Convicting Offense Type                   object\n",
       "Convicting Offense Subtype                object\n",
       "Release Type                              object\n",
       "Main Supervising District                 object\n",
       "Recidivism - Return to Prison             object\n",
       "Recidivism Type                           object\n",
       "Days to Recidivism                       float64\n",
       "New Conviction Offense Classification     object\n",
       "New Conviction Offense Type               object\n",
       "New Conviction Offense Sub Type           object\n",
       "Part of Target Population                 object\n",
       "dtype: object"
      ]
     },
     "execution_count": 38,
     "metadata": {},
     "output_type": "execute_result"
    }
   ],
   "source": [
    "df.dtypes"
   ]
  },
  {
   "cell_type": "code",
   "execution_count": 66,
   "metadata": {
    "collapsed": false
   },
   "outputs": [],
   "source": [
    "X = df[['Race - Ethnicity','Sex','Age At Release ','Convicting Offense Classification','Convicting Offense Type','Convicting Offense Subtype','Release Type']]"
   ]
  },
  {
   "cell_type": "code",
   "execution_count": 67,
   "metadata": {
    "collapsed": true
   },
   "outputs": [],
   "source": [
    "y = df['Recidivism'].values"
   ]
  }
 ],
 "metadata": {
  "kernelspec": {
   "display_name": "Python 2",
   "language": "python",
   "name": "python2"
  },
  "language_info": {
   "codemirror_mode": {
    "name": "ipython",
    "version": 2
   },
   "file_extension": ".py",
   "mimetype": "text/x-python",
   "name": "python",
   "nbconvert_exporter": "python",
   "pygments_lexer": "ipython2",
   "version": "2.7.13"
  }
 },
 "nbformat": 4,
 "nbformat_minor": 2
}
