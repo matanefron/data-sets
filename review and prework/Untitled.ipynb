{
 "cells": [
  {
   "cell_type": "code",
   "execution_count": 35,
   "metadata": {
    "collapsed": true
   },
   "outputs": [],
   "source": [
    "import pandas as pd\n",
    "import numpy as np\n",
    "import matplotlib.pyplot as plt"
   ]
  },
  {
   "cell_type": "code",
   "execution_count": 44,
   "metadata": {
    "collapsed": false
   },
   "outputs": [
    {
     "data": {
      "image/png": "[encoded data removed]",
      "text/plain": [
       "<matplotlib.figure.Figure at 0x11d169850>"
      ]
     },
     "metadata": {},
     "output_type": "display_data"
    }
   ],
   "source": [
    "population_ages = [22,24,26,60,54,34,55,2,34,25,12,110,23,4,6,7,8,9,34,44,56,32]\n",
    "\n",
    "\n",
    "#ids = [x for x in range(len(population_ages))]\n",
    "bins = [0,10,20,30,40,50,60,70]\n",
    "\n",
    "x =[1,2,3,4,5,6,7,8,9]\n",
    "y= [10,15,17,20,34,10,4,23,43]\n",
    "\n",
    "#plt.hist(population_ages,bins,histtype='bar')\n",
    "\n",
    "\n",
    "plt.scatter(x,y,label='scat',color='k')\n",
    "#x = [2,4,6,8,10]\n",
    "#y = [6,7,8,9,0]\n",
    "#x2=[1,3,5,7,9]\n",
    "#y2=[7,5,3,9,0]\n",
    "#plt.bar(x,y,label='first line',color='r')\n",
    "#plt.bar(x2,y2, label='second line',color='b')\n",
    "#plt.xlabel('X plot')\n",
    "#plt.ylabel('Y plot')\n",
    "#plt.title ('cool stuff\\nvery cool')\n",
    "#plt.legend()\n",
    "plt.show()\n",
    "\n",
    "\n",
    "\n"
   ]
  },
  {
   "cell_type": "code",
   "execution_count": null,
   "metadata": {
    "collapsed": true
   },
   "outputs": [],
   "source": []
  },
  {
   "cell_type": "code",
   "execution_count": null,
   "metadata": {
    "collapsed": true
   },
   "outputs": [],
   "source": []
  }
 ],
 "metadata": {
  "kernelspec": {
   "display_name": "Python 2",
   "language": "python",
   "name": "python2"
  },
  "language_info": {
   "codemirror_mode": {
    "name": "ipython",
    "version": 2
   },
   "file_extension": ".py",
   "mimetype": "text/x-python",
   "name": "python",
   "nbconvert_exporter": "python",
   "pygments_lexer": "ipython2",
   "version": "2.7.13"
  }
 },
 "nbformat": 4,
 "nbformat_minor": 2
}
