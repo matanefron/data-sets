{
 "cells": [
  {
   "cell_type": "markdown",
   "metadata": {},
   "source": [
    "https://catalog.data.gov/dataset/3-year-recidivism-for-offenders-released-from-prison"
   ]
  },
  {
   "cell_type": "code",
   "execution_count": 79,
   "metadata": {
    "collapsed": false
   },
   "outputs": [],
   "source": [
    "import pandas as pd\n",
    "import numpy as np\n",
    "import json\n",
    "import matplotlib.pyplot as plt\n",
    "import seaborn as sns\n",
    "sns.set(style=\"whitegrid\", color_codes=True)\n",
    "np.random.seed(sum(map(ord, \"categorical\")))\n",
    "%matplotlib inline\n",
    "plt.style.use('ggplot')\n",
    "\n"
   ]
  },
  {
   "cell_type": "code",
   "execution_count": 133,
   "metadata": {
    "collapsed": false
   },
   "outputs": [],
   "source": [
    "# read in dataset\n",
    "df = pd.read_csv('/Users/matanefron/Downloads/3-Year_Recidivism_for_Offenders_Released_from_Prison.csv')"
   ]
  },
  {
   "cell_type": "code",
   "execution_count": 297,
   "metadata": {
    "collapsed": false
   },
   "outputs": [],
   "source": [
    "#Set recidivism to true or false\n",
    "df['Recidivism'] = df['Recidivism - Return to Prison']=='Yes'\n",
    "#Change it to binary\n",
    "df.Recidivism = df.Recidivism.astype(int)\n"
   ]
  },
  {
   "cell_type": "code",
   "execution_count": 298,
   "metadata": {
    "collapsed": false
   },
   "outputs": [
    {
     "data": {
      "text/plain": [
       "Offender                                   int64\n",
       "Recidivism Reporting Year                 object\n",
       "Race - Ethnicity                          object\n",
       "Sex                                       object\n",
       "Age At Release                            object\n",
       "Convicting Offense Classification         object\n",
       "Convicting Offense Type                   object\n",
       "Convicting Offense Subtype                object\n",
       "Release Type                              object\n",
       "Main Supervising District                 object\n",
       "Recidivism - Return to Prison             object\n",
       "Recidivism Type                           object\n",
       "Days to Recidivism                       float64\n",
       "New Conviction Offense Classification     object\n",
       "New Conviction Offense Type               object\n",
       "New Conviction Offense Sub Type           object\n",
       "Part of Target Population                 object\n",
       "Recidivism                                 int64\n",
       "Race                                      object\n",
       "dtype: object"
      ]
     },
     "execution_count": 298,
     "metadata": {},
     "output_type": "execute_result"
    }
   ],
   "source": [
    "df.dtypes"
   ]
  },
  {
   "cell_type": "code",
   "execution_count": 136,
   "metadata": {
    "collapsed": false
   },
   "outputs": [
    {
     "data": {
      "text/html": [
       "<div>\n",
       "<table border=\"1\" class=\"dataframe\">\n",
       "  <thead>\n",
       "    <tr style=\"text-align: right;\">\n",
       "      <th></th>\n",
       "      <th>Offender</th>\n",
       "      <th>Days to Recidivism</th>\n",
       "    </tr>\n",
       "  </thead>\n",
       "  <tbody>\n",
       "    <tr>\n",
       "      <th>count</th>\n",
       "      <td>17060.0</td>\n",
       "      <td>5404.000000</td>\n",
       "    </tr>\n",
       "    <tr>\n",
       "      <th>mean</th>\n",
       "      <td>1.0</td>\n",
       "      <td>473.166358</td>\n",
       "    </tr>\n",
       "    <tr>\n",
       "      <th>std</th>\n",
       "      <td>0.0</td>\n",
       "      <td>283.185134</td>\n",
       "    </tr>\n",
       "    <tr>\n",
       "      <th>min</th>\n",
       "      <td>1.0</td>\n",
       "      <td>0.000000</td>\n",
       "    </tr>\n",
       "    <tr>\n",
       "      <th>25%</th>\n",
       "      <td>1.0</td>\n",
       "      <td>241.000000</td>\n",
       "    </tr>\n",
       "    <tr>\n",
       "      <th>50%</th>\n",
       "      <td>1.0</td>\n",
       "      <td>418.000000</td>\n",
       "    </tr>\n",
       "    <tr>\n",
       "      <th>75%</th>\n",
       "      <td>1.0</td>\n",
       "      <td>687.000000</td>\n",
       "    </tr>\n",
       "    <tr>\n",
       "      <th>max</th>\n",
       "      <td>1.0</td>\n",
       "      <td>1095.000000</td>\n",
       "    </tr>\n",
       "  </tbody>\n",
       "</table>\n",
       "</div>"
      ],
      "text/plain": [
       "       Offender  Days to Recidivism\n",
       "count   17060.0         5404.000000\n",
       "mean        1.0          473.166358\n",
       "std         0.0          283.185134\n",
       "min         1.0            0.000000\n",
       "25%         1.0          241.000000\n",
       "50%         1.0          418.000000\n",
       "75%         1.0          687.000000\n",
       "max         1.0         1095.000000"
      ]
     },
     "execution_count": 136,
     "metadata": {},
     "output_type": "execute_result"
    }
   ],
   "source": [
    "df.describe()\n"
   ]
  },
  {
   "cell_type": "code",
   "execution_count": 299,
   "metadata": {
    "collapsed": false
   },
   "outputs": [
    {
     "name": "stdout",
     "output_type": "stream",
     "text": [
      "                                                Recidivism\n",
      "                                                      size\n",
      "Race - Ethnicity                                          \n",
      "American Indian or Alaska Native - Hispanic             14\n",
      "American Indian or Alaska Native - Non-Hispanic        318\n",
      "Asian or Pacific Islander - Hispanic                     2\n",
      "Asian or Pacific Islander - Non-Hispanic               126\n",
      "Black -                                                  2\n",
      "Black - Hispanic                                        26\n",
      "Black - Non-Hispanic                                  4078\n",
      "N/A -                                                    4\n",
      "White -                                                 11\n",
      "White - Hispanic                                      1030\n",
      "White - Non-Hispanic                                 11419\n"
     ]
    }
   ],
   "source": [
    "# number of true in data\n",
    "print df.groupby(['Race - Ethnicity']).agg({'Recidivism':[np.size]})\n"
   ]
  },
  {
   "cell_type": "code",
   "execution_count": 263,
   "metadata": {
    "collapsed": false
   },
   "outputs": [],
   "source": [
    "#Reduce race categories\n",
    "\n",
    "def classify_race(x):\n",
    "    if x == 'White - ' or x=='White - Non-Hispanic':\n",
    "        return 'white'\n",
    "    elif x == 'Black - ' or x=='Black - Non-Hispanic' :\n",
    "        return 'black'\n",
    "    elif x == 'N/A -' or x=='American Indian or Alaska Native - Non-Hispanic':\n",
    "        return 'other'\n",
    "    elif x == 'Asian or Pacific Islander - Non-Hispanic':\n",
    "        return 'asian'\n",
    "    else:\n",
    "        return 'Hispanic'\n",
    "\n"
   ]
  },
  {
   "cell_type": "code",
   "execution_count": 300,
   "metadata": {
    "collapsed": false
   },
   "outputs": [],
   "source": [
    "#Map back \n",
    "df['Race'] = df['Race - Ethnicity'].map(classify_race)"
   ]
  },
  {
   "cell_type": "code",
   "execution_count": 301,
   "metadata": {
    "collapsed": false
   },
   "outputs": [
    {
     "name": "stdout",
     "output_type": "stream",
     "text": [
      "         Recidivism\n",
      "               size\n",
      "Race               \n",
      "Hispanic       1106\n",
      "asian           126\n",
      "black          4080\n",
      "other           318\n",
      "white         11430\n"
     ]
    },
    {
     "data": {
      "text/plain": [
       "Offender                                   int64\n",
       "Recidivism Reporting Year                 object\n",
       "Race - Ethnicity                          object\n",
       "Sex                                       object\n",
       "Age At Release                            object\n",
       "Convicting Offense Classification         object\n",
       "Convicting Offense Type                   object\n",
       "Convicting Offense Subtype                object\n",
       "Release Type                              object\n",
       "Main Supervising District                 object\n",
       "Recidivism - Return to Prison             object\n",
       "Recidivism Type                           object\n",
       "Days to Recidivism                       float64\n",
       "New Conviction Offense Classification     object\n",
       "New Conviction Offense Type               object\n",
       "New Conviction Offense Sub Type           object\n",
       "Part of Target Population                 object\n",
       "Recidivism                                 int64\n",
       "Race                                      object\n",
       "dtype: object"
      ]
     },
     "execution_count": 301,
     "metadata": {},
     "output_type": "execute_result"
    }
   ],
   "source": [
    "print df.groupby(['Race']).agg({'Recidivism':[np.size]})\n",
    "\n",
    "df.dtypes"
   ]
  },
  {
   "cell_type": "code",
   "execution_count": null,
   "metadata": {
    "collapsed": true
   },
   "outputs": [],
   "source": [
    "Convicting Offense Classification         object\n",
    "Convicting Offense Type                   object\n",
    "Convicting Offense Subtype                object\n",
    "Release Type          "
   ]
  },
  {
   "cell_type": "code",
   "execution_count": 308,
   "metadata": {
    "collapsed": false
   },
   "outputs": [
    {
     "data": {
      "text/html": [
       "<div>\n",
       "<table border=\"1\" class=\"dataframe\">\n",
       "  <thead>\n",
       "    <tr>\n",
       "      <th></th>\n",
       "      <th>Recidivism</th>\n",
       "    </tr>\n",
       "    <tr>\n",
       "      <th></th>\n",
       "      <th>size</th>\n",
       "    </tr>\n",
       "    <tr>\n",
       "      <th>Convicting Offense Type</th>\n",
       "      <th></th>\n",
       "    </tr>\n",
       "  </thead>\n",
       "  <tbody>\n",
       "    <tr>\n",
       "      <th>Drug</th>\n",
       "      <td>5169</td>\n",
       "    </tr>\n",
       "    <tr>\n",
       "      <th>Other</th>\n",
       "      <td>649</td>\n",
       "    </tr>\n",
       "    <tr>\n",
       "      <th>Property</th>\n",
       "      <td>4854</td>\n",
       "    </tr>\n",
       "    <tr>\n",
       "      <th>Public Order</th>\n",
       "      <td>2474</td>\n",
       "    </tr>\n",
       "    <tr>\n",
       "      <th>Violent</th>\n",
       "      <td>3914</td>\n",
       "    </tr>\n",
       "  </tbody>\n",
       "</table>\n",
       "</div>"
      ],
      "text/plain": [
       "                        Recidivism\n",
       "                              size\n",
       "Convicting Offense Type           \n",
       "Drug                          5169\n",
       "Other                          649\n",
       "Property                      4854\n",
       "Public Order                  2474\n",
       "Violent                       3914"
      ]
     },
     "execution_count": 308,
     "metadata": {},
     "output_type": "execute_result"
    }
   ],
   "source": [
    "df.groupby(['Convicting Offense Type']).agg({'Recidivism':[np.size]})"
   ]
  },
  {
   "cell_type": "code",
   "execution_count": 310,
   "metadata": {
    "collapsed": false
   },
   "outputs": [
    {
     "data": {
      "image/png": "[encoded data removed]",
      "text/plain": [
       "<matplotlib.figure.Figure at 0x121a2f2d0>"
      ]
     },
     "metadata": {},
     "output_type": "display_data"
    }
   ],
   "source": [
    "# dist by Gender\n",
    "sns.countplot(x=df[\"Sex\"], data=df['Recidivism'], palette=\"Greens_d\");"
   ]
  },
  {
   "cell_type": "code",
   "execution_count": 277,
   "metadata": {
    "collapsed": false
   },
   "outputs": [
    {
     "data": {
      "image/png": "[encoded data removed]",
      "text/plain": [
       "<matplotlib.figure.Figure at 0x11e767cd0>"
      ]
     },
     "metadata": {},
     "output_type": "display_data"
    }
   ],
   "source": [
    "#dist by Age released\n",
    "sns.countplot(x=df['Age At Release '],data=df['Recidivism'],palette='Greens_d');"
   ]
  },
  {
   "cell_type": "code",
   "execution_count": 312,
   "metadata": {
    "collapsed": false
   },
   "outputs": [],
   "source": [
    "cols_to_transform = df[['Race','Age At Release ','Convicting Offense Type']]"
   ]
  },
  {
   "cell_type": "code",
   "execution_count": 313,
   "metadata": {
    "collapsed": false
   },
   "outputs": [
    {
     "data": {
      "text/html": [
       "<div>\n",
       "<table border=\"1\" class=\"dataframe\">\n",
       "  <thead>\n",
       "    <tr style=\"text-align: right;\">\n",
       "      <th></th>\n",
       "      <th>Race_Hispanic</th>\n",
       "      <th>Race_asian</th>\n",
       "      <th>Race_black</th>\n",
       "      <th>Race_other</th>\n",
       "      <th>Race_white</th>\n",
       "      <th>Age At Release _25-34</th>\n",
       "      <th>Age At Release _35-44</th>\n",
       "      <th>Age At Release _45-54</th>\n",
       "      <th>Age At Release _55 and Older</th>\n",
       "      <th>Age At Release _Under 25</th>\n",
       "      <th>Convicting Offense Type_Drug</th>\n",
       "      <th>Convicting Offense Type_Other</th>\n",
       "      <th>Convicting Offense Type_Property</th>\n",
       "      <th>Convicting Offense Type_Public Order</th>\n",
       "      <th>Convicting Offense Type_Violent</th>\n",
       "    </tr>\n",
       "  </thead>\n",
       "  <tbody>\n",
       "    <tr>\n",
       "      <th>0</th>\n",
       "      <td>0</td>\n",
       "      <td>0</td>\n",
       "      <td>0</td>\n",
       "      <td>0</td>\n",
       "      <td>1</td>\n",
       "      <td>0</td>\n",
       "      <td>0</td>\n",
       "      <td>0</td>\n",
       "      <td>0</td>\n",
       "      <td>1</td>\n",
       "      <td>0</td>\n",
       "      <td>0</td>\n",
       "      <td>0</td>\n",
       "      <td>0</td>\n",
       "      <td>1</td>\n",
       "    </tr>\n",
       "    <tr>\n",
       "      <th>1</th>\n",
       "      <td>0</td>\n",
       "      <td>0</td>\n",
       "      <td>0</td>\n",
       "      <td>0</td>\n",
       "      <td>1</td>\n",
       "      <td>0</td>\n",
       "      <td>0</td>\n",
       "      <td>0</td>\n",
       "      <td>1</td>\n",
       "      <td>0</td>\n",
       "      <td>0</td>\n",
       "      <td>0</td>\n",
       "      <td>0</td>\n",
       "      <td>1</td>\n",
       "      <td>0</td>\n",
       "    </tr>\n",
       "    <tr>\n",
       "      <th>2</th>\n",
       "      <td>0</td>\n",
       "      <td>0</td>\n",
       "      <td>0</td>\n",
       "      <td>0</td>\n",
       "      <td>1</td>\n",
       "      <td>1</td>\n",
       "      <td>0</td>\n",
       "      <td>0</td>\n",
       "      <td>0</td>\n",
       "      <td>0</td>\n",
       "      <td>0</td>\n",
       "      <td>0</td>\n",
       "      <td>1</td>\n",
       "      <td>0</td>\n",
       "      <td>0</td>\n",
       "    </tr>\n",
       "    <tr>\n",
       "      <th>3</th>\n",
       "      <td>0</td>\n",
       "      <td>0</td>\n",
       "      <td>0</td>\n",
       "      <td>0</td>\n",
       "      <td>1</td>\n",
       "      <td>0</td>\n",
       "      <td>0</td>\n",
       "      <td>0</td>\n",
       "      <td>1</td>\n",
       "      <td>0</td>\n",
       "      <td>1</td>\n",
       "      <td>0</td>\n",
       "      <td>0</td>\n",
       "      <td>0</td>\n",
       "      <td>0</td>\n",
       "    </tr>\n",
       "    <tr>\n",
       "      <th>4</th>\n",
       "      <td>0</td>\n",
       "      <td>0</td>\n",
       "      <td>1</td>\n",
       "      <td>0</td>\n",
       "      <td>0</td>\n",
       "      <td>1</td>\n",
       "      <td>0</td>\n",
       "      <td>0</td>\n",
       "      <td>0</td>\n",
       "      <td>0</td>\n",
       "      <td>1</td>\n",
       "      <td>0</td>\n",
       "      <td>0</td>\n",
       "      <td>0</td>\n",
       "      <td>0</td>\n",
       "    </tr>\n",
       "  </tbody>\n",
       "</table>\n",
       "</div>"
      ],
      "text/plain": [
       "   Race_Hispanic  Race_asian  Race_black  Race_other  Race_white  \\\n",
       "0              0           0           0           0           1   \n",
       "1              0           0           0           0           1   \n",
       "2              0           0           0           0           1   \n",
       "3              0           0           0           0           1   \n",
       "4              0           0           1           0           0   \n",
       "\n",
       "   Age At Release _25-34  Age At Release _35-44  Age At Release _45-54  \\\n",
       "0                      0                      0                      0   \n",
       "1                      0                      0                      0   \n",
       "2                      1                      0                      0   \n",
       "3                      0                      0                      0   \n",
       "4                      1                      0                      0   \n",
       "\n",
       "   Age At Release _55 and Older  Age At Release _Under 25  \\\n",
       "0                             0                         1   \n",
       "1                             1                         0   \n",
       "2                             0                         0   \n",
       "3                             1                         0   \n",
       "4                             0                         0   \n",
       "\n",
       "   Convicting Offense Type_Drug  Convicting Offense Type_Other  \\\n",
       "0                             0                              0   \n",
       "1                             0                              0   \n",
       "2                             0                              0   \n",
       "3                             1                              0   \n",
       "4                             1                              0   \n",
       "\n",
       "   Convicting Offense Type_Property  Convicting Offense Type_Public Order  \\\n",
       "0                                 0                                     0   \n",
       "1                                 0                                     1   \n",
       "2                                 1                                     0   \n",
       "3                                 0                                     0   \n",
       "4                                 0                                     0   \n",
       "\n",
       "   Convicting Offense Type_Violent  \n",
       "0                                1  \n",
       "1                                0  \n",
       "2                                0  \n",
       "3                                0  \n",
       "4                                0  "
      ]
     },
     "execution_count": 313,
     "metadata": {},
     "output_type": "execute_result"
    }
   ],
   "source": [
    "X = pd.get_dummies(cols_to_transform)\n",
    "X.head()"
   ]
  },
  {
   "cell_type": "code",
   "execution_count": 314,
   "metadata": {
    "collapsed": true
   },
   "outputs": [],
   "source": [
    "y = df['Recidivism'].values"
   ]
  },
  {
   "cell_type": "markdown",
   "metadata": {},
   "source": [
    "# K-nn"
   ]
  },
  {
   "cell_type": "code",
   "execution_count": 287,
   "metadata": {
    "collapsed": true
   },
   "outputs": [],
   "source": [
    "knn = neighbors.KNeighborsClassifier(n_neighbors=5, weights='distance')"
   ]
  },
  {
   "cell_type": "code",
   "execution_count": 316,
   "metadata": {
    "collapsed": false
   },
   "outputs": [
    {
     "name": "stdout",
     "output_type": "stream",
     "text": [
      "(8530, 15) (8530, 15)\n",
      "(8530,) (8530,)\n"
     ]
    }
   ],
   "source": [
    "from sklearn.cross_validation import train_test_split\n",
    "\n",
    "trainX, testX, trainY, testY = train_test_split(X, y, stratify=y, train_size=.50)\n",
    "print trainX.shape, testX.shape\n",
    "print trainY.shape, testY.shape"
   ]
  },
  {
   "cell_type": "code",
   "execution_count": 317,
   "metadata": {
    "collapsed": false
   },
   "outputs": [],
   "source": [
    "model= knn.fit(trainX,trainY)"
   ]
  },
  {
   "cell_type": "code",
   "execution_count": 318,
   "metadata": {
    "collapsed": true
   },
   "outputs": [],
   "source": [
    "y_predict = model.predict(testX)"
   ]
  },
  {
   "cell_type": "code",
   "execution_count": 319,
   "metadata": {
    "collapsed": false
   },
   "outputs": [
    {
     "data": {
      "text/plain": [
       "0.58229777256740911"
      ]
     },
     "execution_count": 319,
     "metadata": {},
     "output_type": "execute_result"
    }
   ],
   "source": [
    "model.score(testX,testY)"
   ]
  },
  {
   "cell_type": "code",
   "execution_count": 320,
   "metadata": {
    "collapsed": false
   },
   "outputs": [
    {
     "name": "stdout",
     "output_type": "stream",
     "text": [
      "[[4128 1700]\n",
      " [1863  839]]\n",
      "             precision    recall  f1-score   support\n",
      "\n",
      "          0       0.71      0.69      0.70      5991\n",
      "          1       0.31      0.33      0.32      2539\n",
      "\n",
      "avg / total       0.59      0.58      0.59      8530\n",
      "\n"
     ]
    }
   ],
   "source": [
    "#Confusion matrix\n",
    "\n",
    "from sklearn.metrics import confusion_matrix, classification_report\n",
    "\n",
    "cnf_mtx = confusion_matrix(testY, y_predict)\n",
    "print cnf_mtx\n",
    "\n",
    "print classification_report(y_predict, testY)"
   ]
  },
  {
   "cell_type": "code",
   "execution_count": 321,
   "metadata": {
    "collapsed": false
   },
   "outputs": [
    {
     "name": "stdout",
     "output_type": "stream",
     "text": [
      "Confusion matrix, without normalization\n",
      "[[4128 1700]\n",
      " [1863  839]]\n"
     ]
    },
    {
     "data": {
      "image/png": "[encoded data removed]",
      "text/plain": [
       "<matplotlib.figure.Figure at 0x11e7329d0>"
      ]
     },
     "metadata": {},
     "output_type": "display_data"
    }
   ],
   "source": [
    "import itertools\n",
    "from itertools import cycle\n",
    "\n",
    "def plot_confusion_matrix(cm, classes,\n",
    "                          normalize=False,\n",
    "                          title='Confusion matrix',\n",
    "                          cmap=plt.cm.Blues):\n",
    "    fig = plt.figure(figsize=(12,12))\n",
    "    ax = fig.gca()\n",
    "    \n",
    "    \"\"\"\n",
    "    This function prints and plots the confusion matrix.\n",
    "    Normalization can be applied by setting `normalize=True`.\n",
    "    \"\"\"\n",
    "    plt.imshow(cm, interpolation='nearest', cmap=cmap)\n",
    "    plt.title(title, size=24)\n",
    "    plt.colorbar()\n",
    "    tick_marks = np.arange(len(classes))\n",
    "    plt.xticks(tick_marks, classes, rotation=45)\n",
    "    plt.yticks(tick_marks, classes)\n",
    "    if normalize:\n",
    "        cm = cm.astype('float') / cm.sum(axis=1)[:, np.newaxis]\n",
    "        print(\"Normalized confusion matrix\")\n",
    "    else:\n",
    "        print('Confusion matrix, without normalization')\n",
    "\n",
    "    print(cm)\n",
    "\n",
    "    thresh = cm.max() / 2.\n",
    "    for i, j in itertools.product(range(cm.shape[0]), range(cm.shape[1])):\n",
    "        plt.text(j, i, cm[i, j],\n",
    "                 horizontalalignment=\"center\",\n",
    "                 color=\"white\" if cm[i, j] > thresh else \"black\")\n",
    "    ax.grid(b=False)\n",
    "    ax.set_xticklabels([0,1,2,3])\n",
    "    ax.set_yticklabels([0,1,2,3])\n",
    "    plt.tight_layout()\n",
    "    plt.ylabel('True label', size=20)\n",
    "    plt.xlabel('Predicted label', size=20)\n",
    "\n",
    "np.set_printoptions(precision=2)\n",
    "\n",
    "class_names = df.Recidivism.unique()\n",
    "\n",
    "plot_confusion_matrix(cnf_mtx, classes=class_names,\n",
    "                      title='Confusion matrix')\n",
    "\n",
    "plt.show()\n"
   ]
  },
  {
   "cell_type": "markdown",
   "metadata": {},
   "source": [
    "# random forest model"
   ]
  },
  {
   "cell_type": "code",
   "execution_count": 328,
   "metadata": {
    "collapsed": false
   },
   "outputs": [
    {
     "data": {
      "text/html": [
       "<div>\n",
       "<table border=\"1\" class=\"dataframe\">\n",
       "  <thead>\n",
       "    <tr style=\"text-align: right;\">\n",
       "      <th></th>\n",
       "      <th>Race_Hispanic</th>\n",
       "      <th>Race_asian</th>\n",
       "      <th>Race_black</th>\n",
       "      <th>Race_other</th>\n",
       "      <th>Race_white</th>\n",
       "      <th>Age At Release _25-34</th>\n",
       "      <th>Age At Release _35-44</th>\n",
       "      <th>Age At Release _45-54</th>\n",
       "      <th>Age At Release _55 and Older</th>\n",
       "      <th>Age At Release _Under 25</th>\n",
       "      <th>Convicting Offense Type_Drug</th>\n",
       "      <th>Convicting Offense Type_Other</th>\n",
       "      <th>Convicting Offense Type_Property</th>\n",
       "      <th>Convicting Offense Type_Public Order</th>\n",
       "      <th>Convicting Offense Type_Violent</th>\n",
       "    </tr>\n",
       "  </thead>\n",
       "  <tbody>\n",
       "    <tr>\n",
       "      <th>0</th>\n",
       "      <td>0</td>\n",
       "      <td>0</td>\n",
       "      <td>0</td>\n",
       "      <td>0</td>\n",
       "      <td>1</td>\n",
       "      <td>0</td>\n",
       "      <td>0</td>\n",
       "      <td>0</td>\n",
       "      <td>0</td>\n",
       "      <td>1</td>\n",
       "      <td>0</td>\n",
       "      <td>0</td>\n",
       "      <td>0</td>\n",
       "      <td>0</td>\n",
       "      <td>1</td>\n",
       "    </tr>\n",
       "    <tr>\n",
       "      <th>1</th>\n",
       "      <td>0</td>\n",
       "      <td>0</td>\n",
       "      <td>0</td>\n",
       "      <td>0</td>\n",
       "      <td>1</td>\n",
       "      <td>0</td>\n",
       "      <td>0</td>\n",
       "      <td>0</td>\n",
       "      <td>1</td>\n",
       "      <td>0</td>\n",
       "      <td>0</td>\n",
       "      <td>0</td>\n",
       "      <td>0</td>\n",
       "      <td>1</td>\n",
       "      <td>0</td>\n",
       "    </tr>\n",
       "    <tr>\n",
       "      <th>2</th>\n",
       "      <td>0</td>\n",
       "      <td>0</td>\n",
       "      <td>0</td>\n",
       "      <td>0</td>\n",
       "      <td>1</td>\n",
       "      <td>1</td>\n",
       "      <td>0</td>\n",
       "      <td>0</td>\n",
       "      <td>0</td>\n",
       "      <td>0</td>\n",
       "      <td>0</td>\n",
       "      <td>0</td>\n",
       "      <td>1</td>\n",
       "      <td>0</td>\n",
       "      <td>0</td>\n",
       "    </tr>\n",
       "    <tr>\n",
       "      <th>3</th>\n",
       "      <td>0</td>\n",
       "      <td>0</td>\n",
       "      <td>0</td>\n",
       "      <td>0</td>\n",
       "      <td>1</td>\n",
       "      <td>0</td>\n",
       "      <td>0</td>\n",
       "      <td>0</td>\n",
       "      <td>1</td>\n",
       "      <td>0</td>\n",
       "      <td>1</td>\n",
       "      <td>0</td>\n",
       "      <td>0</td>\n",
       "      <td>0</td>\n",
       "      <td>0</td>\n",
       "    </tr>\n",
       "    <tr>\n",
       "      <th>4</th>\n",
       "      <td>0</td>\n",
       "      <td>0</td>\n",
       "      <td>1</td>\n",
       "      <td>0</td>\n",
       "      <td>0</td>\n",
       "      <td>1</td>\n",
       "      <td>0</td>\n",
       "      <td>0</td>\n",
       "      <td>0</td>\n",
       "      <td>0</td>\n",
       "      <td>1</td>\n",
       "      <td>0</td>\n",
       "      <td>0</td>\n",
       "      <td>0</td>\n",
       "      <td>0</td>\n",
       "    </tr>\n",
       "  </tbody>\n",
       "</table>\n",
       "</div>"
      ],
      "text/plain": [
       "   Race_Hispanic  Race_asian  Race_black  Race_other  Race_white  \\\n",
       "0              0           0           0           0           1   \n",
       "1              0           0           0           0           1   \n",
       "2              0           0           0           0           1   \n",
       "3              0           0           0           0           1   \n",
       "4              0           0           1           0           0   \n",
       "\n",
       "   Age At Release _25-34  Age At Release _35-44  Age At Release _45-54  \\\n",
       "0                      0                      0                      0   \n",
       "1                      0                      0                      0   \n",
       "2                      1                      0                      0   \n",
       "3                      0                      0                      0   \n",
       "4                      1                      0                      0   \n",
       "\n",
       "   Age At Release _55 and Older  Age At Release _Under 25  \\\n",
       "0                             0                         1   \n",
       "1                             1                         0   \n",
       "2                             0                         0   \n",
       "3                             1                         0   \n",
       "4                             0                         0   \n",
       "\n",
       "   Convicting Offense Type_Drug  Convicting Offense Type_Other  \\\n",
       "0                             0                              0   \n",
       "1                             0                              0   \n",
       "2                             0                              0   \n",
       "3                             1                              0   \n",
       "4                             1                              0   \n",
       "\n",
       "   Convicting Offense Type_Property  Convicting Offense Type_Public Order  \\\n",
       "0                                 0                                     0   \n",
       "1                                 0                                     1   \n",
       "2                                 1                                     0   \n",
       "3                                 0                                     0   \n",
       "4                                 0                                     0   \n",
       "\n",
       "   Convicting Offense Type_Violent  \n",
       "0                                1  \n",
       "1                                0  \n",
       "2                                0  \n",
       "3                                0  \n",
       "4                                0  "
      ]
     },
     "execution_count": 328,
     "metadata": {},
     "output_type": "execute_result"
    }
   ],
   "source": [
    "X.head()"
   ]
  },
  {
   "cell_type": "code",
   "execution_count": 330,
   "metadata": {
    "collapsed": true
   },
   "outputs": [],
   "source": [
    "from sklearn.tree import DecisionTreeClassifier\n",
    "\n",
    "model = DecisionTreeClassifier()\n"
   ]
  },
  {
   "cell_type": "code",
   "execution_count": 331,
   "metadata": {
    "collapsed": false
   },
   "outputs": [
    {
     "data": {
      "text/plain": [
       "DecisionTreeClassifier(class_weight=None, criterion='gini', max_depth=None,\n",
       "            max_features=None, max_leaf_nodes=None,\n",
       "            min_impurity_split=1e-07, min_samples_leaf=1,\n",
       "            min_samples_split=2, min_weight_fraction_leaf=0.0,\n",
       "            presort=False, random_state=None, splitter='best')"
      ]
     },
     "execution_count": 331,
     "metadata": {},
     "output_type": "execute_result"
    }
   ],
   "source": [
    "model.fit(X,y)"
   ]
  },
  {
   "cell_type": "code",
   "execution_count": 332,
   "metadata": {
    "collapsed": false,
    "scrolled": true
   },
   "outputs": [
    {
     "data": {
      "text/plain": [
       "array([[ 0.61,  0.39],\n",
       "       [ 0.77,  0.23],\n",
       "       [ 0.62,  0.38],\n",
       "       ..., \n",
       "       [ 0.77,  0.23],\n",
       "       [ 0.68,  0.32],\n",
       "       [ 0.64,  0.36]])"
      ]
     },
     "execution_count": 332,
     "metadata": {},
     "output_type": "execute_result"
    }
   ],
   "source": [
    "model.predict_proba(X)"
   ]
  },
  {
   "cell_type": "code",
   "execution_count": 333,
   "metadata": {
    "collapsed": false,
    "scrolled": true
   },
   "outputs": [
    {
     "data": {
      "image/png": "[encoded data removed]",
      "text/plain": [
       "<matplotlib.figure.Figure at 0x12140dd90>"
      ]
     },
     "metadata": {},
     "output_type": "display_data"
    }
   ],
   "source": [
    "%matplotlib inline\n",
    "\n",
    "# This is all that's needed for scikit-plot\n",
    "import matplotlib.pyplot as plt\n",
    "from scikitplot import classifier_factory\n",
    "\n",
    "classifier_factory(model)\n",
    "\n",
    "model.plot_roc_curve(X.as_matrix(), y, random_state=2)\n",
    "plt.show()"
   ]
  },
  {
   "cell_type": "code",
   "execution_count": 334,
   "metadata": {
    "collapsed": false
   },
   "outputs": [
    {
     "data": {
      "text/html": [
       "<div>\n",
       "<table border=\"1\" class=\"dataframe\">\n",
       "  <thead>\n",
       "    <tr style=\"text-align: right;\">\n",
       "      <th></th>\n",
       "      <th>Features</th>\n",
       "      <th>Importance Score</th>\n",
       "    </tr>\n",
       "  </thead>\n",
       "  <tbody>\n",
       "    <tr>\n",
       "      <th>14</th>\n",
       "      <td>Convicting Offense Type_Violent</td>\n",
       "      <td>0.190580</td>\n",
       "    </tr>\n",
       "    <tr>\n",
       "      <th>0</th>\n",
       "      <td>Race_Hispanic</td>\n",
       "      <td>0.149613</td>\n",
       "    </tr>\n",
       "    <tr>\n",
       "      <th>9</th>\n",
       "      <td>Age At Release _Under 25</td>\n",
       "      <td>0.107236</td>\n",
       "    </tr>\n",
       "    <tr>\n",
       "      <th>8</th>\n",
       "      <td>Age At Release _55 and Older</td>\n",
       "      <td>0.102260</td>\n",
       "    </tr>\n",
       "    <tr>\n",
       "      <th>13</th>\n",
       "      <td>Convicting Offense Type_Public Order</td>\n",
       "      <td>0.095597</td>\n",
       "    </tr>\n",
       "  </tbody>\n",
       "</table>\n",
       "</div>"
      ],
      "text/plain": [
       "                                Features  Importance Score\n",
       "14       Convicting Offense Type_Violent          0.190580\n",
       "0                          Race_Hispanic          0.149613\n",
       "9               Age At Release _Under 25          0.107236\n",
       "8           Age At Release _55 and Older          0.102260\n",
       "13  Convicting Offense Type_Public Order          0.095597"
      ]
     },
     "execution_count": 334,
     "metadata": {},
     "output_type": "execute_result"
    }
   ],
   "source": [
    "features = X.columns\n",
    "feature_importances = model.feature_importances_\n",
    "\n",
    "features_df = pd.DataFrame({'Features': features, 'Importance Score': feature_importances})\n",
    "features_df.sort_values(by='Importance Score', inplace=True, ascending=False)\n",
    "\n",
    "features_df.head()"
   ]
  }
 ],
 "metadata": {
  "kernelspec": {
   "display_name": "Python 2",
   "language": "python",
   "name": "python2"
  },
  "language_info": {
   "codemirror_mode": {
    "name": "ipython",
    "version": 2
   },
   "file_extension": ".py",
   "mimetype": "text/x-python",
   "name": "python",
   "nbconvert_exporter": "python",
   "pygments_lexer": "ipython2",
   "version": "2.7.13"
  }
 },
 "nbformat": 4,
 "nbformat_minor": 2
}
