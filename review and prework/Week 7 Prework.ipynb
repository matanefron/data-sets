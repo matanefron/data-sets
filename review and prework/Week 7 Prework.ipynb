{
 "cells": [
  {
   "cell_type": "markdown",
   "metadata": {},
   "source": [
    "# Week 7 Prework"
   ]
  },
  {
   "cell_type": "markdown",
   "metadata": {},
   "source": [
    "## Week 6 Review\n",
    "1. Machine Learning Practice - NLP"
   ]
  },
  {
   "cell_type": "markdown",
   "metadata": {},
   "source": [
    "## Week 7 Prework\n",
    "1. LDA\n",
    "2. Clustering"
   ]
  },
  {
   "cell_type": "markdown",
   "metadata": {},
   "source": [
    "<span style=\"font-size:3em; color:green\">Week 6 Review</span>"
   ]
  },
  {
   "cell_type": "markdown",
   "metadata": {},
   "source": [
    "<span style=\"font-size:1.5em; color:blue\">NLP</span>\n",
    "\n",
    "I took a random uber article text and saved it into a string. Use what you have learned from NLP and figure out the best way to describe the entire article."
   ]
  },
  {
   "cell_type": "code",
   "execution_count": 2,
   "metadata": {
    "collapsed": true
   },
   "outputs": [],
   "source": [
    "uber_text = \"Embattled ride-hailing company Uber pulled a rare move Tuesday and held a press call to address the state of the company. The call came on the heels of the departure of Uber President Jeff Jones, who left after only six months on the job. Following allegations of pervasive sexual harassment at the company, Uber seems to have made a conscious decision to have the conversation led by female leaders within the company: board member Arianna Huffington; regional general manager for the U.S. and Canada Rachel Holt; and chief human resources officer Liane Hornsey. In her opening remarks, Huffington said that the intent of the call was not to create yet more headlines. Rather it’s to try and explain how we’re thinking about the changes that are necessary to make Uber a truly great company. It was an acknowledgement that recent news about the company has been a significant hit to its reputation. Over the last few months, Uber has had to contend with allegations of systemic sexism and sexual harassment after former engineer Susan Fowler shared a damning account of her year-long employment at the company. Questions around Ubers use of technology to target law enforcement officials came to light, as did a video of CEO Travis Kalanick berating an Uber driver. The company is also currently embroiled in a lawsuit with Alphabet, which has alleged that Uber stole self-driving vehicle technology. Related: 3 Lessons Every CEO Can Learn From Travis Kalanicks Emotional Meeting With Ubers Female Engineers Huffington said that she and the board were confident in Kalanick and he would be saying on as CEO, but Hornsey signaled that Kalanick may no longer occupy most of the company's spotlight. Uber is disruptive -- and disruption demands the confidence to be bold. What I have seen though, is that this has translated internally to what I would call a cult of the individual, Hornsey said. We now need to expend genuine effort ensuring the individual is never more important than the team -- not ever. Huffington was more blunt: There can be no room at Uber for brilliant jerks and zero tolerance for anything but totally respectable behavior in an equitable workplace environment.” Its possible that the controversies and the calls to #DeleteUber did not affect the company’s bottom line (despite reports that half a million users deleted the app). Holt said that as of the week of March 12, “riders in the U.S. took more trips with Uber than ever before.” But if your company was built on a foundation of breaking things and brilliant jerks, its one thing to say you’re going to change, and it’s another to actually put those promises into action and for customers and future job candidates to believe you. Related: Before You Delete Your Account, Uber Wants You to Know Its Deeply Hurting Its a particularly difficult situation because their original ethos and image that they presented was [that of] a challenger, says Adam Galinsky, a professor of business and management at Columbia Business School. There was a sense of competitiveness and brashness. That works well when you’re the insurgent. It becomes extremely problematic when you are now in a position of authority. Galinsky added that Uber’s position as a leader in its industry comes with responsibility. But he says it might be tough to rehabilitate the company’s image at this juncture because that culture and ethos is such an entrenched part of its identity -- and what attracted a large proportion of its workforce, which in turn, was a big part of the problem. So how does Uber change after the gauntlet it has run the last few months? Galinsky says to start with a sincere apology: There are three elements to a successful apology. The first is to accept responsibility. Theyve done that. The second thing is to show some type of remorse, which I think they’ve also done. But the third thing is that you have to make some type of clear, tangible and visible commitment to change in practices. I think at this point, saying 'we’re committed to change' isn’t enough.” To that end, Uber has plans to release its first diversity report by the end of March and updated 1,500 job descriptions to eliminate any sort of “unconscious bias,” Hornsey said in the press call. She also relayed that she and her team will be rolling out training programs about diversity and inclusion, including interview training for women in tech to ensure that all our female employees are really well equipped to be involved. Galinsky adds that people also need to see that there are consequences for unacceptable behavior. In many instances, that can manifest as a symbolic firing. At some point, he says, Uber needs to let someone go who has acted in such a way that might have been consistent with the old culture but isn’t consistent with the present.\""
   ]
  },
  {
   "cell_type": "code",
   "execution_count": 5,
   "metadata": {
    "collapsed": false
   },
   "outputs": [],
   "source": [
    "### Run this code\n",
    "from collections import Counter\n",
    "print Counter(uber_text.lower().split())"
   ]
  },
  {
   "cell_type": "markdown",
   "metadata": {},
   "source": [
    "<span style=\"font-size:1.2em; color:orange\">Run a CountVectorizer and edit the stop_words manually to figure out what the article is emphasizing</span>\n",
    "\n",
    "```\n",
    "ie stop_words=['I', 'we', 'you', 'said', etc...]\n",
    "```"
   ]
  },
  {
   "cell_type": "code",
   "execution_count": 25,
   "metadata": {
    "collapsed": false
   },
   "outputs": [
    {
     "data": {
      "text/html": [
       "<div>\n",
       "<table border=\"1\" class=\"dataframe\">\n",
       "  <thead>\n",
       "    <tr style=\"text-align: right;\">\n",
       "      <th></th>\n",
       "      <th>uber</th>\n",
       "      <th>company</th>\n",
       "      <th>said</th>\n",
       "      <th>change</th>\n",
       "      <th>huffington</th>\n",
       "      <th>says</th>\n",
       "      <th>galinsky</th>\n",
       "      <th>hornsey</th>\n",
       "      <th>thing</th>\n",
       "      <th>ceo</th>\n",
       "    </tr>\n",
       "  </thead>\n",
       "  <tbody>\n",
       "    <tr>\n",
       "      <th>0</th>\n",
       "      <td>15</td>\n",
       "      <td>12</td>\n",
       "      <td>5</td>\n",
       "      <td>4</td>\n",
       "      <td>4</td>\n",
       "      <td>4</td>\n",
       "      <td>4</td>\n",
       "      <td>4</td>\n",
       "      <td>3</td>\n",
       "      <td>3</td>\n",
       "    </tr>\n",
       "  </tbody>\n",
       "</table>\n",
       "</div>"
      ],
      "text/plain": [
       "   uber  company  said  change  huffington  says  galinsky  hornsey  thing  \\\n",
       "0    15       12     5       4           4     4         4        4      3   \n",
       "\n",
       "   ceo  \n",
       "0    3  "
      ]
     },
     "execution_count": 25,
     "metadata": {},
     "output_type": "execute_result"
    }
   ],
   "source": [
    "import pandas as pd\n",
    "from sklearn.feature_extraction.text import CountVectorizer\n",
    "cvec = CountVectorizer(stop_words='english')\n",
    "cvec.fit([uber_text])\n",
    "df  = pd.DataFrame(cvec.transform([uber_text]).todense(),\n",
    "             columns=cvec.get_feature_names())\n",
    "\n",
    "df.transpose().sort_values(0, ascending=False).head(10).transpose()"
   ]
  },
  {
   "cell_type": "markdown",
   "metadata": {},
   "source": [
    "<span style=\"font-size:1.2em; color:orange\">Do the same for TFIDF</span>"
   ]
  },
  {
   "cell_type": "code",
   "execution_count": 21,
   "metadata": {
    "collapsed": false
   },
   "outputs": [
    {
     "data": {
      "text/html": [
       "<div>\n",
       "<table border=\"1\" class=\"dataframe\">\n",
       "  <thead>\n",
       "    <tr style=\"text-align: right;\">\n",
       "      <th></th>\n",
       "      <th>the</th>\n",
       "      <th>to</th>\n",
       "      <th>of</th>\n",
       "      <th>that</th>\n",
       "      <th>and</th>\n",
       "      <th>uber</th>\n",
       "      <th>in</th>\n",
       "      <th>company</th>\n",
       "      <th>its</th>\n",
       "      <th>with</th>\n",
       "    </tr>\n",
       "  </thead>\n",
       "  <tbody>\n",
       "    <tr>\n",
       "      <th>uber_text</th>\n",
       "      <td>0.503229</td>\n",
       "      <td>0.417311</td>\n",
       "      <td>0.306847</td>\n",
       "      <td>0.294573</td>\n",
       "      <td>0.282299</td>\n",
       "      <td>0.184108</td>\n",
       "      <td>0.15956</td>\n",
       "      <td>0.147286</td>\n",
       "      <td>0.110465</td>\n",
       "      <td>0.098191</td>\n",
       "    </tr>\n",
       "  </tbody>\n",
       "</table>\n",
       "</div>"
      ],
      "text/plain": [
       "                the        to        of      that       and      uber  \\\n",
       "uber_text  0.503229  0.417311  0.306847  0.294573  0.282299  0.184108   \n",
       "\n",
       "                in   company       its      with  \n",
       "uber_text  0.15956  0.147286  0.110465  0.098191  "
      ]
     },
     "execution_count": 21,
     "metadata": {},
     "output_type": "execute_result"
    }
   ],
   "source": [
    "from sklearn.feature_extraction.text import TfidfVectorizer\n",
    "tvec = TfidfVectorizer(stop_words=None)\n",
    "tvec.fit([uber_text])\n",
    "\n",
    "df  = pd.DataFrame(tvec.transform([uber_text]).todense(),\n",
    "                   columns=tvec.get_feature_names(),\n",
    "                   index=['uber_text'])\n",
    "\n",
    "df.transpose().sort_values('uber_text', ascending=False).head(10).transpose()"
   ]
  },
  {
   "cell_type": "markdown",
   "metadata": {},
   "source": [
    "<span style=\"font-size:3em; color:green\">Week 7 Prework</span>"
   ]
  },
  {
   "cell_type": "markdown",
   "metadata": {},
   "source": [
    "### LDA"
   ]
  },
  {
   "cell_type": "markdown",
   "metadata": {},
   "source": [
    "If you haven't already, work on the extra tutorial here: http://localhost:8888/tree/review%20and%20prework/extra_tutorials/NLP-LDA\n",
    "\n",
    "Generally speaking, LDA is dimensionality reduction, which on a high level means that it will reduce the amount of the data and combine words together to create a new topic, hence it is some times referred to topic modeling."
   ]
  },
  {
   "cell_type": "markdown",
   "metadata": {},
   "source": [
    "### Clustering"
   ]
  },
  {
   "cell_type": "markdown",
   "metadata": {},
   "source": [
    "I have uploaded tutorials for 3 different clusterings, also written by my old instructors: http://localhost:8888/tree/review%20and%20prework/extra_tutorials/Clustering\n",
    "\n",
    "The clustering explained in these tutorials are:\n",
    "1. kMeans\n",
    "2. Hierarchical Clustering (aka Agglomerative and Divisive)\n",
    "3. DBSCAN\n",
    "\n",
    "kMeans is very similar to kNearestNeighbors. It is the simplest unsupervised learning, so even though it does the job, it isn't very intuitive. The user has to decide k centriods (the starting node) and can be placed as the user likes.\n",
    "\n",
    "Hierarchical Clustering is similar to Decision Trees. They will break down like brackets based off of \"decisions.\"\n",
    "\n",
    "DBSCAN is the most widely used clustering technique because it is intuitive and does a very good job. It bases on density of area and density connectivity to calculate how many clusters there are. You will still have to set and play around with the eigenvalues for the model to work with, but it is a very strong clustering technique."
   ]
  }
 ],
 "metadata": {
  "kernelspec": {
   "display_name": "Python [conda env:dsi]",
   "language": "python",
   "name": "conda-env-dsi-py"
  },
  "language_info": {
   "codemirror_mode": {
    "name": "ipython",
    "version": 2
   },
   "file_extension": ".py",
   "mimetype": "text/x-python",
   "name": "python",
   "nbconvert_exporter": "python",
   "pygments_lexer": "ipython2",
   "version": "2.7.12"
  }
 },
 "nbformat": 4,
 "nbformat_minor": 2
}
