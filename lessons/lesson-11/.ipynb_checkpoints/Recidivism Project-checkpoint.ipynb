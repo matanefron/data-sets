{
 "cells": [
  {
   "cell_type": "markdown",
   "metadata": {},
   "source": [
    "This zip archive contains tables in individual  .csv spreadsheets\t\n",
    "\"from Recidivism of Prisoners Released in 30 States in 2005: Patterns from 2005 to 2010\n",
    "  - supplemental Tables, \"\t\n",
    "NCJ 244205 The full report including text and graphics in pdf format is available from: http://www.bjs.gov/index.cfm?ty=pbdetail&iid=4986\t\n",
    "\n",
    "\t\n",
    "Tables\t\n",
    "rprts05p0510t01.csv\tTable 1. Most serious commitment offense of prisoners released in 30 states in 2005\n",
    "rprts05p0510t02.csv\t\"Table 2. Report title: Recidivism of Prisoners Released in 30 States in 2005: Patterns from 2005 to 2010, ˇNCJ 244205          \n",
    "\"\n",
    "\t\n",
    "Appendix Tables\t\n",
    "rprts05p0510at01.csv\tAppendix Table 1.  Standard errors for table 1: Most serious commitment offense of prisoners released in 30 states in 2005\n",
    "rprts05p0510at02.csv\t\"AppendixTable 2. Standard errors for table 2: Recidivism of prisoners released in 30 states in 2005, by most serious commitment offense and types of post-release arrest charges\"\n"
   ]
  },
  {
   "cell_type": "code",
   "execution_count": null,
   "metadata": {
    "collapsed": true
   },
   "outputs": [],
   "source": []
  }
 ],
 "metadata": {
  "kernelspec": {
   "display_name": "Python 2",
   "language": "python",
   "name": "python2"
  },
  "language_info": {
   "codemirror_mode": {
    "name": "ipython",
    "version": 2
   },
   "file_extension": ".py",
   "mimetype": "text/x-python",
   "name": "python",
   "nbconvert_exporter": "python",
   "pygments_lexer": "ipython2",
   "version": "2.7.13"
  }
 },
 "nbformat": 4,
 "nbformat_minor": 2
}
