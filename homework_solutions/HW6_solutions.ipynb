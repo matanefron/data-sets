{
 "cells": [
  {
   "cell_type": "markdown",
   "metadata": {},
   "source": [
    "## Assignment\n",
    "\n",
    "### Part I\n",
    "\n",
    "#### Clean your data\n",
    "\n",
    "+ Read in temp_data.txt\n",
    "    + It won't be easy! You'll need to find a way to clean the data\n",
    "    + Try opening the file in a text editor first\n",
    "+ Read in temp_X.csv\n",
    "+ Merge the X variable from temp_X with the data from temp_data\n",
    "+ Note that we discussed this in class, but it's something you'll just need to practice on your own. \n",
    "+ You will struggle with this and it's ok\n",
    "+ Check out the documentation for read_csv() in the pandas package\n",
    "\n",
    "\n",
    "### Part II\n",
    "\n",
    "#### Run a linear regression\n",
    "+ Using X to predict temperature \n",
    "+ Interpret your coefficients!\n",
    "+ What is one potential use for this linear regression equation? \n",
    "+ What does this linear regression mean? \n",
    "+ Is this a good model? Why or why not? \n",
    "\n",
    "    \n"
   ]
  },
  {
   "cell_type": "code",
   "execution_count": 1,
   "metadata": {
    "collapsed": true
   },
   "outputs": [],
   "source": [
    "import pandas as pd"
   ]
  },
  {
   "cell_type": "code",
   "execution_count": 2,
   "metadata": {
    "collapsed": false
   },
   "outputs": [],
   "source": [
    "df  = pd.read_csv('/Users/edwardlee/Desktop/df-sf-32/DS-SF-32/lessons/lesson-6/temp_data.txt', sep='\\t')\n",
    "df1 = pd.read_csv('/Users/edwardlee/Desktop/df-sf-32/DS-SF-32/lessons/lesson-6/temp_X.csv')"
   ]
  },
  {
   "cell_type": "code",
   "execution_count": 3,
   "metadata": {
    "collapsed": false
   },
   "outputs": [
    {
     "data": {
      "text/html": [
       "<div>\n",
       "<table border=\"1\" class=\"dataframe\">\n",
       "  <thead>\n",
       "    <tr style=\"text-align: right;\">\n",
       "      <th></th>\n",
       "      <th></th>\n",
       "      <th></th>\n",
       "      <th></th>\n",
       "      <th></th>\n",
       "      <th></th>\n",
       "      <th>Station ID Series Number Date Temperature (C) Uncertainty (C) Observations Time of Observation</th>\n",
       "    </tr>\n",
       "  </thead>\n",
       "  <tbody>\n",
       "    <tr>\n",
       "      <th rowspan=\"5\" valign=\"top\">25398</th>\n",
       "      <th rowspan=\"5\" valign=\"top\">1</th>\n",
       "      <th>1986.708</th>\n",
       "      <th>26.611</th>\n",
       "      <th>0.0507</th>\n",
       "      <th>30</th>\n",
       "      <td>24</td>\n",
       "    </tr>\n",
       "    <tr>\n",
       "      <th>1986.875</th>\n",
       "      <th>27.593</th>\n",
       "      <th>0.0507</th>\n",
       "      <th>30</th>\n",
       "      <td>24</td>\n",
       "    </tr>\n",
       "    <tr>\n",
       "      <th>1986.958</th>\n",
       "      <th>28.226</th>\n",
       "      <th>0.0499</th>\n",
       "      <th>31</th>\n",
       "      <td>24</td>\n",
       "    </tr>\n",
       "    <tr>\n",
       "      <th>1987.042</th>\n",
       "      <th>27.581</th>\n",
       "      <th>0.0499</th>\n",
       "      <th>31</th>\n",
       "      <td>24</td>\n",
       "    </tr>\n",
       "    <tr>\n",
       "      <th>1987.125</th>\n",
       "      <th>27.996</th>\n",
       "      <th>0.0525</th>\n",
       "      <th>28</th>\n",
       "      <td>24</td>\n",
       "    </tr>\n",
       "  </tbody>\n",
       "</table>\n",
       "</div>"
      ],
      "text/plain": [
       "                                   Station ID Series Number Date Temperature (C) Uncertainty (C) Observations Time of Observation \n",
       "25398 1 1986.708 26.611 0.0507 30                                                 24                                              \n",
       "        1986.875 27.593 0.0507 30                                                 24                                              \n",
       "        1986.958 28.226 0.0499 31                                                 24                                              \n",
       "        1987.042 27.581 0.0499 31                                                 24                                              \n",
       "        1987.125 27.996 0.0525 28                                                 24                                              "
      ]
     },
     "execution_count": 3,
     "metadata": {},
     "output_type": "execute_result"
    }
   ],
   "source": [
    "df.head()"
   ]
  },
  {
   "cell_type": "code",
   "execution_count": 4,
   "metadata": {
    "collapsed": false
   },
   "outputs": [],
   "source": [
    "df.reset_index(inplace=True)"
   ]
  },
  {
   "cell_type": "code",
   "execution_count": 5,
   "metadata": {
    "collapsed": false
   },
   "outputs": [
    {
     "data": {
      "text/html": [
       "<div>\n",
       "<table border=\"1\" class=\"dataframe\">\n",
       "  <thead>\n",
       "    <tr style=\"text-align: right;\">\n",
       "      <th></th>\n",
       "      <th>level_0</th>\n",
       "      <th>level_1</th>\n",
       "      <th>level_2</th>\n",
       "      <th>level_3</th>\n",
       "      <th>level_4</th>\n",
       "      <th>level_5</th>\n",
       "      <th>Station ID Series Number Date Temperature (C) Uncertainty (C) Observations Time of Observation</th>\n",
       "    </tr>\n",
       "  </thead>\n",
       "  <tbody>\n",
       "    <tr>\n",
       "      <th>0</th>\n",
       "      <td>25398</td>\n",
       "      <td>1</td>\n",
       "      <td>1986.708</td>\n",
       "      <td>26.611</td>\n",
       "      <td>0.0507</td>\n",
       "      <td>30</td>\n",
       "      <td>24</td>\n",
       "    </tr>\n",
       "    <tr>\n",
       "      <th>1</th>\n",
       "      <td>25398</td>\n",
       "      <td>1</td>\n",
       "      <td>1986.875</td>\n",
       "      <td>27.593</td>\n",
       "      <td>0.0507</td>\n",
       "      <td>30</td>\n",
       "      <td>24</td>\n",
       "    </tr>\n",
       "    <tr>\n",
       "      <th>2</th>\n",
       "      <td>25398</td>\n",
       "      <td>1</td>\n",
       "      <td>1986.958</td>\n",
       "      <td>28.226</td>\n",
       "      <td>0.0499</td>\n",
       "      <td>31</td>\n",
       "      <td>24</td>\n",
       "    </tr>\n",
       "    <tr>\n",
       "      <th>3</th>\n",
       "      <td>25398</td>\n",
       "      <td>1</td>\n",
       "      <td>1987.042</td>\n",
       "      <td>27.581</td>\n",
       "      <td>0.0499</td>\n",
       "      <td>31</td>\n",
       "      <td>24</td>\n",
       "    </tr>\n",
       "    <tr>\n",
       "      <th>4</th>\n",
       "      <td>25398</td>\n",
       "      <td>1</td>\n",
       "      <td>1987.125</td>\n",
       "      <td>27.996</td>\n",
       "      <td>0.0525</td>\n",
       "      <td>28</td>\n",
       "      <td>24</td>\n",
       "    </tr>\n",
       "  </tbody>\n",
       "</table>\n",
       "</div>"
      ],
      "text/plain": [
       "   level_0  level_1   level_2  level_3  level_4  level_5  \\\n",
       "0    25398        1  1986.708   26.611   0.0507       30   \n",
       "1    25398        1  1986.875   27.593   0.0507       30   \n",
       "2    25398        1  1986.958   28.226   0.0499       31   \n",
       "3    25398        1  1987.042   27.581   0.0499       31   \n",
       "4    25398        1  1987.125   27.996   0.0525       28   \n",
       "\n",
       "   Station ID Series Number Date Temperature (C) Uncertainty (C) Observations Time of Observation   \n",
       "0                                                 24                                                \n",
       "1                                                 24                                                \n",
       "2                                                 24                                                \n",
       "3                                                 24                                                \n",
       "4                                                 24                                                "
      ]
     },
     "execution_count": 5,
     "metadata": {},
     "output_type": "execute_result"
    }
   ],
   "source": [
    "df.head()"
   ]
  },
  {
   "cell_type": "code",
   "execution_count": 6,
   "metadata": {
    "collapsed": false
   },
   "outputs": [],
   "source": [
    "df.columns = ['Station_ID', 'Series_Number', 'Date', 'Temperature (C)', \n",
    "             'Uncertainty (C)', 'Observations', 'Time of Observation']"
   ]
  },
  {
   "cell_type": "code",
   "execution_count": 7,
   "metadata": {
    "collapsed": false,
    "scrolled": true
   },
   "outputs": [
    {
     "data": {
      "text/html": [
       "<div>\n",
       "<table border=\"1\" class=\"dataframe\">\n",
       "  <thead>\n",
       "    <tr style=\"text-align: right;\">\n",
       "      <th></th>\n",
       "      <th>Station_ID</th>\n",
       "      <th>Series_Number</th>\n",
       "      <th>Date</th>\n",
       "      <th>Temperature (C)</th>\n",
       "      <th>Uncertainty (C)</th>\n",
       "      <th>Observations</th>\n",
       "      <th>Time of Observation</th>\n",
       "    </tr>\n",
       "  </thead>\n",
       "  <tbody>\n",
       "    <tr>\n",
       "      <th>0</th>\n",
       "      <td>25398</td>\n",
       "      <td>1</td>\n",
       "      <td>1986.708</td>\n",
       "      <td>26.611</td>\n",
       "      <td>0.0507</td>\n",
       "      <td>30</td>\n",
       "      <td>24</td>\n",
       "    </tr>\n",
       "    <tr>\n",
       "      <th>1</th>\n",
       "      <td>25398</td>\n",
       "      <td>1</td>\n",
       "      <td>1986.875</td>\n",
       "      <td>27.593</td>\n",
       "      <td>0.0507</td>\n",
       "      <td>30</td>\n",
       "      <td>24</td>\n",
       "    </tr>\n",
       "    <tr>\n",
       "      <th>2</th>\n",
       "      <td>25398</td>\n",
       "      <td>1</td>\n",
       "      <td>1986.958</td>\n",
       "      <td>28.226</td>\n",
       "      <td>0.0499</td>\n",
       "      <td>31</td>\n",
       "      <td>24</td>\n",
       "    </tr>\n",
       "    <tr>\n",
       "      <th>3</th>\n",
       "      <td>25398</td>\n",
       "      <td>1</td>\n",
       "      <td>1987.042</td>\n",
       "      <td>27.581</td>\n",
       "      <td>0.0499</td>\n",
       "      <td>31</td>\n",
       "      <td>24</td>\n",
       "    </tr>\n",
       "    <tr>\n",
       "      <th>4</th>\n",
       "      <td>25398</td>\n",
       "      <td>1</td>\n",
       "      <td>1987.125</td>\n",
       "      <td>27.996</td>\n",
       "      <td>0.0525</td>\n",
       "      <td>28</td>\n",
       "      <td>24</td>\n",
       "    </tr>\n",
       "  </tbody>\n",
       "</table>\n",
       "</div>"
      ],
      "text/plain": [
       "   Station_ID  Series_Number      Date  Temperature (C)  Uncertainty (C)  \\\n",
       "0       25398              1  1986.708           26.611           0.0507   \n",
       "1       25398              1  1986.875           27.593           0.0507   \n",
       "2       25398              1  1986.958           28.226           0.0499   \n",
       "3       25398              1  1987.042           27.581           0.0499   \n",
       "4       25398              1  1987.125           27.996           0.0525   \n",
       "\n",
       "   Observations  Time of Observation  \n",
       "0            30                   24  \n",
       "1            30                   24  \n",
       "2            31                   24  \n",
       "3            31                   24  \n",
       "4            28                   24  "
      ]
     },
     "execution_count": 7,
     "metadata": {},
     "output_type": "execute_result"
    }
   ],
   "source": [
    "df.head()"
   ]
  },
  {
   "cell_type": "code",
   "execution_count": 8,
   "metadata": {
    "collapsed": false
   },
   "outputs": [
    {
     "data": {
      "text/html": [
       "<div>\n",
       "<table border=\"1\" class=\"dataframe\">\n",
       "  <thead>\n",
       "    <tr style=\"text-align: right;\">\n",
       "      <th></th>\n",
       "      <th>Unnamed: 0</th>\n",
       "      <th>Station_ID</th>\n",
       "      <th>Series_Number</th>\n",
       "      <th>Date</th>\n",
       "      <th>X</th>\n",
       "    </tr>\n",
       "  </thead>\n",
       "  <tbody>\n",
       "    <tr>\n",
       "      <th>0</th>\n",
       "      <td>0</td>\n",
       "      <td>25398</td>\n",
       "      <td>1</td>\n",
       "      <td>1986.708</td>\n",
       "      <td>79.8998</td>\n",
       "    </tr>\n",
       "    <tr>\n",
       "      <th>1</th>\n",
       "      <td>1</td>\n",
       "      <td>25398</td>\n",
       "      <td>1</td>\n",
       "      <td>1986.875</td>\n",
       "      <td>81.6674</td>\n",
       "    </tr>\n",
       "    <tr>\n",
       "      <th>2</th>\n",
       "      <td>2</td>\n",
       "      <td>25398</td>\n",
       "      <td>1</td>\n",
       "      <td>1986.958</td>\n",
       "      <td>82.8068</td>\n",
       "    </tr>\n",
       "    <tr>\n",
       "      <th>3</th>\n",
       "      <td>3</td>\n",
       "      <td>25398</td>\n",
       "      <td>1</td>\n",
       "      <td>1987.042</td>\n",
       "      <td>81.6458</td>\n",
       "    </tr>\n",
       "    <tr>\n",
       "      <th>4</th>\n",
       "      <td>4</td>\n",
       "      <td>25398</td>\n",
       "      <td>1</td>\n",
       "      <td>1987.125</td>\n",
       "      <td>82.3928</td>\n",
       "    </tr>\n",
       "  </tbody>\n",
       "</table>\n",
       "</div>"
      ],
      "text/plain": [
       "   Unnamed: 0  Station_ID  Series_Number      Date        X\n",
       "0           0       25398              1  1986.708  79.8998\n",
       "1           1       25398              1  1986.875  81.6674\n",
       "2           2       25398              1  1986.958  82.8068\n",
       "3           3       25398              1  1987.042  81.6458\n",
       "4           4       25398              1  1987.125  82.3928"
      ]
     },
     "execution_count": 8,
     "metadata": {},
     "output_type": "execute_result"
    }
   ],
   "source": [
    "df1.head()"
   ]
  },
  {
   "cell_type": "code",
   "execution_count": 9,
   "metadata": {
    "collapsed": false
   },
   "outputs": [],
   "source": [
    "df1.drop('Unnamed: 0', inplace=True, axis=1)"
   ]
  },
  {
   "cell_type": "code",
   "execution_count": 10,
   "metadata": {
    "collapsed": false
   },
   "outputs": [
    {
     "data": {
      "text/html": [
       "<div>\n",
       "<table border=\"1\" class=\"dataframe\">\n",
       "  <thead>\n",
       "    <tr style=\"text-align: right;\">\n",
       "      <th></th>\n",
       "      <th>Station_ID</th>\n",
       "      <th>Series_Number</th>\n",
       "      <th>Date</th>\n",
       "      <th>X</th>\n",
       "    </tr>\n",
       "  </thead>\n",
       "  <tbody>\n",
       "    <tr>\n",
       "      <th>0</th>\n",
       "      <td>25398</td>\n",
       "      <td>1</td>\n",
       "      <td>1986.708</td>\n",
       "      <td>79.8998</td>\n",
       "    </tr>\n",
       "    <tr>\n",
       "      <th>1</th>\n",
       "      <td>25398</td>\n",
       "      <td>1</td>\n",
       "      <td>1986.875</td>\n",
       "      <td>81.6674</td>\n",
       "    </tr>\n",
       "    <tr>\n",
       "      <th>2</th>\n",
       "      <td>25398</td>\n",
       "      <td>1</td>\n",
       "      <td>1986.958</td>\n",
       "      <td>82.8068</td>\n",
       "    </tr>\n",
       "    <tr>\n",
       "      <th>3</th>\n",
       "      <td>25398</td>\n",
       "      <td>1</td>\n",
       "      <td>1987.042</td>\n",
       "      <td>81.6458</td>\n",
       "    </tr>\n",
       "    <tr>\n",
       "      <th>4</th>\n",
       "      <td>25398</td>\n",
       "      <td>1</td>\n",
       "      <td>1987.125</td>\n",
       "      <td>82.3928</td>\n",
       "    </tr>\n",
       "  </tbody>\n",
       "</table>\n",
       "</div>"
      ],
      "text/plain": [
       "   Station_ID  Series_Number      Date        X\n",
       "0       25398              1  1986.708  79.8998\n",
       "1       25398              1  1986.875  81.6674\n",
       "2       25398              1  1986.958  82.8068\n",
       "3       25398              1  1987.042  81.6458\n",
       "4       25398              1  1987.125  82.3928"
      ]
     },
     "execution_count": 10,
     "metadata": {},
     "output_type": "execute_result"
    }
   ],
   "source": [
    "df1.head()"
   ]
  },
  {
   "cell_type": "code",
   "execution_count": 11,
   "metadata": {
    "collapsed": true
   },
   "outputs": [],
   "source": [
    "df_m = pd.merge(df, df1, how='inner', on=['Station_ID', 'Series_Number', 'Date'])"
   ]
  },
  {
   "cell_type": "code",
   "execution_count": 12,
   "metadata": {
    "collapsed": false
   },
   "outputs": [
    {
     "data": {
      "text/html": [
       "<div>\n",
       "<table border=\"1\" class=\"dataframe\">\n",
       "  <thead>\n",
       "    <tr style=\"text-align: right;\">\n",
       "      <th></th>\n",
       "      <th>Station_ID</th>\n",
       "      <th>Series_Number</th>\n",
       "      <th>Date</th>\n",
       "      <th>Temperature (C)</th>\n",
       "      <th>Uncertainty (C)</th>\n",
       "      <th>Observations</th>\n",
       "      <th>Time of Observation</th>\n",
       "      <th>X</th>\n",
       "    </tr>\n",
       "  </thead>\n",
       "  <tbody>\n",
       "    <tr>\n",
       "      <th>0</th>\n",
       "      <td>25398</td>\n",
       "      <td>1</td>\n",
       "      <td>1986.708</td>\n",
       "      <td>26.611</td>\n",
       "      <td>0.0507</td>\n",
       "      <td>30</td>\n",
       "      <td>24</td>\n",
       "      <td>79.8998</td>\n",
       "    </tr>\n",
       "    <tr>\n",
       "      <th>1</th>\n",
       "      <td>25398</td>\n",
       "      <td>1</td>\n",
       "      <td>1986.875</td>\n",
       "      <td>27.593</td>\n",
       "      <td>0.0507</td>\n",
       "      <td>30</td>\n",
       "      <td>24</td>\n",
       "      <td>81.6674</td>\n",
       "    </tr>\n",
       "    <tr>\n",
       "      <th>2</th>\n",
       "      <td>25398</td>\n",
       "      <td>1</td>\n",
       "      <td>1986.958</td>\n",
       "      <td>28.226</td>\n",
       "      <td>0.0499</td>\n",
       "      <td>31</td>\n",
       "      <td>24</td>\n",
       "      <td>82.8068</td>\n",
       "    </tr>\n",
       "    <tr>\n",
       "      <th>3</th>\n",
       "      <td>25398</td>\n",
       "      <td>1</td>\n",
       "      <td>1987.042</td>\n",
       "      <td>27.581</td>\n",
       "      <td>0.0499</td>\n",
       "      <td>31</td>\n",
       "      <td>24</td>\n",
       "      <td>81.6458</td>\n",
       "    </tr>\n",
       "    <tr>\n",
       "      <th>4</th>\n",
       "      <td>25398</td>\n",
       "      <td>1</td>\n",
       "      <td>1987.125</td>\n",
       "      <td>27.996</td>\n",
       "      <td>0.0525</td>\n",
       "      <td>28</td>\n",
       "      <td>24</td>\n",
       "      <td>82.3928</td>\n",
       "    </tr>\n",
       "  </tbody>\n",
       "</table>\n",
       "</div>"
      ],
      "text/plain": [
       "   Station_ID  Series_Number      Date  Temperature (C)  Uncertainty (C)  \\\n",
       "0       25398              1  1986.708           26.611           0.0507   \n",
       "1       25398              1  1986.875           27.593           0.0507   \n",
       "2       25398              1  1986.958           28.226           0.0499   \n",
       "3       25398              1  1987.042           27.581           0.0499   \n",
       "4       25398              1  1987.125           27.996           0.0525   \n",
       "\n",
       "   Observations  Time of Observation        X  \n",
       "0            30                   24  79.8998  \n",
       "1            30                   24  81.6674  \n",
       "2            31                   24  82.8068  \n",
       "3            31                   24  81.6458  \n",
       "4            28                   24  82.3928  "
      ]
     },
     "execution_count": 12,
     "metadata": {},
     "output_type": "execute_result"
    }
   ],
   "source": [
    "df_m.head()"
   ]
  },
  {
   "cell_type": "code",
   "execution_count": 13,
   "metadata": {
    "collapsed": false
   },
   "outputs": [
    {
     "data": {
      "text/plain": [
       "(141637, 8)"
      ]
     },
     "execution_count": 13,
     "metadata": {},
     "output_type": "execute_result"
    }
   ],
   "source": [
    "df_m.shape"
   ]
  },
  {
   "cell_type": "code",
   "execution_count": 14,
   "metadata": {
    "collapsed": false
   },
   "outputs": [],
   "source": [
    "X = df_m[['X']]\n",
    "y = df_m['Temperature (C)'].values"
   ]
  },
  {
   "cell_type": "code",
   "execution_count": 15,
   "metadata": {
    "collapsed": false
   },
   "outputs": [
    {
     "data": {
      "image/png": "[encoded data removed]",
      "text/plain": [
       "<matplotlib.figure.Figure at 0x103007590>"
      ]
     },
     "metadata": {},
     "output_type": "display_data"
    },
    {
     "name": "stdout",
     "output_type": "stream",
     "text": [
      "Score/R^2:  1.0\n"
     ]
    }
   ],
   "source": [
    "from sklearn.linear_model import LinearRegression\n",
    "import matplotlib.pyplot as plt\n",
    "%matplotlib inline\n",
    "\n",
    "lr      = LinearRegression()\n",
    "model   = lr.fit(X, y)\n",
    "predict = model.predict(X)\n",
    "plt.scatter(predict, y)\n",
    "plt.show()\n",
    "print 'Score/R^2: ', model.score(X, y)"
   ]
  },
  {
   "cell_type": "code",
   "execution_count": 26,
   "metadata": {
    "collapsed": false
   },
   "outputs": [
    {
     "data": {
      "text/plain": [
       "<matplotlib.axes._subplots.AxesSubplot at 0x120c6f850>"
      ]
     },
     "execution_count": 26,
     "metadata": {},
     "output_type": "execute_result"
    },
    {
     "data": {
      "image/png": "[encoded data removed]",
      "text/plain": [
       "<matplotlib.figure.Figure at 0x1208babd0>"
      ]
     },
     "metadata": {},
     "output_type": "display_data"
    }
   ],
   "source": [
    "import seaborn as sns\n",
    "\n",
    "sns.heatmap(df_m.corr(method='pearson'))"
   ]
  },
  {
   "cell_type": "code",
   "execution_count": 17,
   "metadata": {
    "collapsed": false
   },
   "outputs": [
    {
     "data": {
      "text/plain": [
       "<matplotlib.axes._subplots.AxesSubplot at 0x111a9fcd0>"
      ]
     },
     "execution_count": 17,
     "metadata": {},
     "output_type": "execute_result"
    },
    {
     "data": {
      "image/png": "[encoded data removed]",
      "text/plain": [
       "<matplotlib.figure.Figure at 0x11cfb6810>"
      ]
     },
     "metadata": {},
     "output_type": "display_data"
    }
   ],
   "source": [
    "fig, (ax1, ax2) = plt.subplots(2, 1, figsize=(20,12))\n",
    "\n",
    "sns.distplot(df_m['X'], ax=ax1)\n",
    "sns.distplot(df_m['Temperature (C)'], ax=ax2)"
   ]
  },
  {
   "cell_type": "code",
   "execution_count": null,
   "metadata": {
    "collapsed": true
   },
   "outputs": [],
   "source": []
  }
 ],
 "metadata": {
  "kernelspec": {
   "display_name": "Python 2",
   "language": "python",
   "name": "python2"
  },
  "language_info": {
   "codemirror_mode": {
    "name": "ipython",
    "version": 2
   },
   "file_extension": ".py",
   "mimetype": "text/x-python",
   "name": "python",
   "nbconvert_exporter": "python",
   "pygments_lexer": "ipython2",
   "version": "2.7.13"
  }
 },
 "nbformat": 4,
 "nbformat_minor": 0
}
