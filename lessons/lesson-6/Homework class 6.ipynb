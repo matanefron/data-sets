{
 "cells": [
  {
   "cell_type": "markdown",
   "metadata": {},
   "source": [
    "## Assignment\n",
    "\n",
    "### Part I\n",
    "\n",
    "#### Clean your data\n",
    "\n",
    "+ Read in temp_data.txt\n",
    "    + It won't be easy! You'll need to find a way to clean the data\n",
    "    + Try opening the file in a text editor first\n",
    "+ Read in temp_X.csv\n",
    "+ Merge the X variable from temp_X with the data from temp_data\n",
    "+ Note that we discussed this in class, but it's something you'll just need to practice on your own. \n",
    "+ You will struggle with this and it's ok\n",
    "+ Check out the documentation for read_csv() in the pandas package\n",
    "\n",
    "\n",
    "### Part II\n",
    "\n",
    "#### Run a linear regression\n",
    "+ Using X to predict temperature \n",
    "+ Interpret your coefficients!\n",
    "+ What is one potential use for this linear regression equation? \n",
    "+ What does this linear regression mean? \n",
    "+ Is this a good model? Why or why not? \n",
    "\n",
    "    \n"
   ]
  },
  {
   "cell_type": "code",
   "execution_count": 38,
   "metadata": {
    "collapsed": true
   },
   "outputs": [],
   "source": [
    "import pandas as pd\n",
    "import numpy as np\n",
    "import matplotlib.pyplot as plt\n",
    "import statsmodels.formula.api as smf\n",
    "\n",
    "\n",
    "# this allows plots to appear directly in the notebook\n",
    "%matplotlib inline"
   ]
  },
  {
   "cell_type": "code",
   "execution_count": 8,
   "metadata": {
    "collapsed": false
   },
   "outputs": [
    {
     "data": {
      "text/html": [
       "<div>\n",
       "<table border=\"1\" class=\"dataframe\">\n",
       "  <thead>\n",
       "    <tr style=\"text-align: right;\">\n",
       "      <th></th>\n",
       "      <th>Station_ID</th>\n",
       "      <th>Series_Number</th>\n",
       "      <th>Date</th>\n",
       "      <th>Temperature_(C)</th>\n",
       "      <th>Uncertainty_(C)</th>\n",
       "      <th>Observations</th>\n",
       "      <th>Time_of_Observation</th>\n",
       "    </tr>\n",
       "  </thead>\n",
       "  <tbody>\n",
       "    <tr>\n",
       "      <th>0</th>\n",
       "      <td>25398</td>\n",
       "      <td>1</td>\n",
       "      <td>1986.708</td>\n",
       "      <td>26.611</td>\n",
       "      <td>0.0507</td>\n",
       "      <td>30</td>\n",
       "      <td>24</td>\n",
       "    </tr>\n",
       "    <tr>\n",
       "      <th>1</th>\n",
       "      <td>25398</td>\n",
       "      <td>1</td>\n",
       "      <td>1986.875</td>\n",
       "      <td>27.593</td>\n",
       "      <td>0.0507</td>\n",
       "      <td>30</td>\n",
       "      <td>24</td>\n",
       "    </tr>\n",
       "    <tr>\n",
       "      <th>2</th>\n",
       "      <td>25398</td>\n",
       "      <td>1</td>\n",
       "      <td>1986.958</td>\n",
       "      <td>28.226</td>\n",
       "      <td>0.0499</td>\n",
       "      <td>31</td>\n",
       "      <td>24</td>\n",
       "    </tr>\n",
       "    <tr>\n",
       "      <th>3</th>\n",
       "      <td>25398</td>\n",
       "      <td>1</td>\n",
       "      <td>1987.042</td>\n",
       "      <td>27.581</td>\n",
       "      <td>0.0499</td>\n",
       "      <td>31</td>\n",
       "      <td>24</td>\n",
       "    </tr>\n",
       "    <tr>\n",
       "      <th>4</th>\n",
       "      <td>25398</td>\n",
       "      <td>1</td>\n",
       "      <td>1987.125</td>\n",
       "      <td>27.996</td>\n",
       "      <td>0.0525</td>\n",
       "      <td>28</td>\n",
       "      <td>24</td>\n",
       "    </tr>\n",
       "  </tbody>\n",
       "</table>\n",
       "</div>"
      ],
      "text/plain": [
       "   Station_ID  Series_Number      Date  Temperature_(C)  Uncertainty_(C)  \\\n",
       "0       25398              1  1986.708           26.611           0.0507   \n",
       "1       25398              1  1986.875           27.593           0.0507   \n",
       "2       25398              1  1986.958           28.226           0.0499   \n",
       "3       25398              1  1987.042           27.581           0.0499   \n",
       "4       25398              1  1987.125           27.996           0.0525   \n",
       "\n",
       "   Observations  Time_of_Observation  \n",
       "0            30                   24  \n",
       "1            30                   24  \n",
       "2            31                   24  \n",
       "3            31                   24  \n",
       "4            28                   24  "
      ]
     },
     "execution_count": 8,
     "metadata": {},
     "output_type": "execute_result"
    }
   ],
   "source": [
    "temp_bk = pd.read_csv('/Users/matanefron/ds_class_2017_new/DS-SF-32/lessons/lesson-5/temp_data_clean.csv')\n",
    "temp_bk.head()"
   ]
  },
  {
   "cell_type": "code",
   "execution_count": 10,
   "metadata": {
    "collapsed": false
   },
   "outputs": [
    {
     "data": {
      "text/html": [
       "<div>\n",
       "<table border=\"1\" class=\"dataframe\">\n",
       "  <thead>\n",
       "    <tr style=\"text-align: right;\">\n",
       "      <th></th>\n",
       "      <th>Station_ID</th>\n",
       "      <th>Series_Number</th>\n",
       "      <th>Date</th>\n",
       "      <th>X</th>\n",
       "    </tr>\n",
       "  </thead>\n",
       "  <tbody>\n",
       "    <tr>\n",
       "      <th>0</th>\n",
       "      <td>25398</td>\n",
       "      <td>1</td>\n",
       "      <td>1986.708</td>\n",
       "      <td>79.8998</td>\n",
       "    </tr>\n",
       "    <tr>\n",
       "      <th>1</th>\n",
       "      <td>25398</td>\n",
       "      <td>1</td>\n",
       "      <td>1986.875</td>\n",
       "      <td>81.6674</td>\n",
       "    </tr>\n",
       "    <tr>\n",
       "      <th>2</th>\n",
       "      <td>25398</td>\n",
       "      <td>1</td>\n",
       "      <td>1986.958</td>\n",
       "      <td>82.8068</td>\n",
       "    </tr>\n",
       "    <tr>\n",
       "      <th>3</th>\n",
       "      <td>25398</td>\n",
       "      <td>1</td>\n",
       "      <td>1987.042</td>\n",
       "      <td>81.6458</td>\n",
       "    </tr>\n",
       "    <tr>\n",
       "      <th>4</th>\n",
       "      <td>25398</td>\n",
       "      <td>1</td>\n",
       "      <td>1987.125</td>\n",
       "      <td>82.3928</td>\n",
       "    </tr>\n",
       "  </tbody>\n",
       "</table>\n",
       "</div>"
      ],
      "text/plain": [
       "   Station_ID  Series_Number      Date        X\n",
       "0       25398              1  1986.708  79.8998\n",
       "1       25398              1  1986.875  81.6674\n",
       "2       25398              1  1986.958  82.8068\n",
       "3       25398              1  1987.042  81.6458\n",
       "4       25398              1  1987.125  82.3928"
      ]
     },
     "execution_count": 10,
     "metadata": {},
     "output_type": "execute_result"
    }
   ],
   "source": [
    "df = pd.read_csv('/Users/matanefron/ds_class_2017_new/DS-SF-32/lessons/lesson-5/temp_X.csv')\n",
    "df = df[['Station_ID','Series_Number','Date','X']]\n",
    "df.head()"
   ]
  },
  {
   "cell_type": "code",
   "execution_count": 12,
   "metadata": {
    "collapsed": false
   },
   "outputs": [
    {
     "data": {
      "text/html": [
       "<div>\n",
       "<table border=\"1\" class=\"dataframe\">\n",
       "  <thead>\n",
       "    <tr style=\"text-align: right;\">\n",
       "      <th></th>\n",
       "      <th>Station_ID</th>\n",
       "      <th>Series_Number</th>\n",
       "      <th>Date</th>\n",
       "      <th>Temperature_(C)</th>\n",
       "      <th>Uncertainty_(C)</th>\n",
       "      <th>Observations</th>\n",
       "      <th>Time_of_Observation</th>\n",
       "      <th>X</th>\n",
       "    </tr>\n",
       "  </thead>\n",
       "  <tbody>\n",
       "    <tr>\n",
       "      <th>0</th>\n",
       "      <td>25398</td>\n",
       "      <td>1</td>\n",
       "      <td>1986.708</td>\n",
       "      <td>26.611</td>\n",
       "      <td>0.0507</td>\n",
       "      <td>30</td>\n",
       "      <td>24</td>\n",
       "      <td>79.8998</td>\n",
       "    </tr>\n",
       "    <tr>\n",
       "      <th>1</th>\n",
       "      <td>25398</td>\n",
       "      <td>1</td>\n",
       "      <td>1986.875</td>\n",
       "      <td>27.593</td>\n",
       "      <td>0.0507</td>\n",
       "      <td>30</td>\n",
       "      <td>24</td>\n",
       "      <td>81.6674</td>\n",
       "    </tr>\n",
       "    <tr>\n",
       "      <th>2</th>\n",
       "      <td>25398</td>\n",
       "      <td>1</td>\n",
       "      <td>1986.958</td>\n",
       "      <td>28.226</td>\n",
       "      <td>0.0499</td>\n",
       "      <td>31</td>\n",
       "      <td>24</td>\n",
       "      <td>82.8068</td>\n",
       "    </tr>\n",
       "    <tr>\n",
       "      <th>3</th>\n",
       "      <td>25398</td>\n",
       "      <td>1</td>\n",
       "      <td>1987.042</td>\n",
       "      <td>27.581</td>\n",
       "      <td>0.0499</td>\n",
       "      <td>31</td>\n",
       "      <td>24</td>\n",
       "      <td>81.6458</td>\n",
       "    </tr>\n",
       "    <tr>\n",
       "      <th>4</th>\n",
       "      <td>25398</td>\n",
       "      <td>1</td>\n",
       "      <td>1987.125</td>\n",
       "      <td>27.996</td>\n",
       "      <td>0.0525</td>\n",
       "      <td>28</td>\n",
       "      <td>24</td>\n",
       "      <td>82.3928</td>\n",
       "    </tr>\n",
       "  </tbody>\n",
       "</table>\n",
       "</div>"
      ],
      "text/plain": [
       "   Station_ID  Series_Number      Date  Temperature_(C)  Uncertainty_(C)  \\\n",
       "0       25398              1  1986.708           26.611           0.0507   \n",
       "1       25398              1  1986.875           27.593           0.0507   \n",
       "2       25398              1  1986.958           28.226           0.0499   \n",
       "3       25398              1  1987.042           27.581           0.0499   \n",
       "4       25398              1  1987.125           27.996           0.0525   \n",
       "\n",
       "   Observations  Time_of_Observation        X  \n",
       "0            30                   24  79.8998  \n",
       "1            30                   24  81.6674  \n",
       "2            31                   24  82.8068  \n",
       "3            31                   24  81.6458  \n",
       "4            28                   24  82.3928  "
      ]
     },
     "execution_count": 12,
     "metadata": {},
     "output_type": "execute_result"
    }
   ],
   "source": [
    "result = pd.merge(temp_bk, df, how='inner', on=['Station_ID', 'Series_Number','Date'])\n",
    "result.head()\n",
    "\n"
   ]
  },
  {
   "cell_type": "code",
   "execution_count": 22,
   "metadata": {
    "collapsed": false,
    "scrolled": true
   },
   "outputs": [
    {
     "data": {
      "text/html": [
       "<div>\n",
       "<table border=\"1\" class=\"dataframe\">\n",
       "  <thead>\n",
       "    <tr style=\"text-align: right;\">\n",
       "      <th></th>\n",
       "      <th>Station_ID</th>\n",
       "      <th>Series_Number</th>\n",
       "      <th>Date</th>\n",
       "      <th>temp_c</th>\n",
       "      <th>uncertain_c</th>\n",
       "      <th>Observations</th>\n",
       "      <th>Time_of_Observation</th>\n",
       "      <th>X</th>\n",
       "    </tr>\n",
       "  </thead>\n",
       "  <tbody>\n",
       "    <tr>\n",
       "      <th>0</th>\n",
       "      <td>25398</td>\n",
       "      <td>1</td>\n",
       "      <td>1986.708</td>\n",
       "      <td>26.611</td>\n",
       "      <td>0.0507</td>\n",
       "      <td>30</td>\n",
       "      <td>24</td>\n",
       "      <td>79.8998</td>\n",
       "    </tr>\n",
       "    <tr>\n",
       "      <th>1</th>\n",
       "      <td>25398</td>\n",
       "      <td>1</td>\n",
       "      <td>1986.875</td>\n",
       "      <td>27.593</td>\n",
       "      <td>0.0507</td>\n",
       "      <td>30</td>\n",
       "      <td>24</td>\n",
       "      <td>81.6674</td>\n",
       "    </tr>\n",
       "    <tr>\n",
       "      <th>2</th>\n",
       "      <td>25398</td>\n",
       "      <td>1</td>\n",
       "      <td>1986.958</td>\n",
       "      <td>28.226</td>\n",
       "      <td>0.0499</td>\n",
       "      <td>31</td>\n",
       "      <td>24</td>\n",
       "      <td>82.8068</td>\n",
       "    </tr>\n",
       "    <tr>\n",
       "      <th>3</th>\n",
       "      <td>25398</td>\n",
       "      <td>1</td>\n",
       "      <td>1987.042</td>\n",
       "      <td>27.581</td>\n",
       "      <td>0.0499</td>\n",
       "      <td>31</td>\n",
       "      <td>24</td>\n",
       "      <td>81.6458</td>\n",
       "    </tr>\n",
       "    <tr>\n",
       "      <th>4</th>\n",
       "      <td>25398</td>\n",
       "      <td>1</td>\n",
       "      <td>1987.125</td>\n",
       "      <td>27.996</td>\n",
       "      <td>0.0525</td>\n",
       "      <td>28</td>\n",
       "      <td>24</td>\n",
       "      <td>82.3928</td>\n",
       "    </tr>\n",
       "  </tbody>\n",
       "</table>\n",
       "</div>"
      ],
      "text/plain": [
       "   Station_ID  Series_Number      Date  temp_c  uncertain_c  Observations  \\\n",
       "0       25398              1  1986.708  26.611       0.0507            30   \n",
       "1       25398              1  1986.875  27.593       0.0507            30   \n",
       "2       25398              1  1986.958  28.226       0.0499            31   \n",
       "3       25398              1  1987.042  27.581       0.0499            31   \n",
       "4       25398              1  1987.125  27.996       0.0525            28   \n",
       "\n",
       "   Time_of_Observation        X  \n",
       "0                   24  79.8998  \n",
       "1                   24  81.6674  \n",
       "2                   24  82.8068  \n",
       "3                   24  81.6458  \n",
       "4                   24  82.3928  "
      ]
     },
     "execution_count": 22,
     "metadata": {},
     "output_type": "execute_result"
    }
   ],
   "source": [
    "result=result.rename(columns = {'Temperature_(C)':'temp_c','Uncertainty_(C)':'uncertain_c'})\n",
    "result.head()"
   ]
  },
  {
   "cell_type": "code",
   "execution_count": 32,
   "metadata": {
    "collapsed": false
   },
   "outputs": [
    {
     "data": {
      "text/plain": [
       "<matplotlib.axes._subplots.AxesSubplot at 0x10ee1a390>"
      ]
     },
     "execution_count": 32,
     "metadata": {},
     "output_type": "execute_result"
    },
    {
     "data": {
      "image/png": "[encoded data removed]",
      "text/plain": [
       "<matplotlib.figure.Figure at 0x10ee3a490>"
      ]
     },
     "metadata": {},
     "output_type": "display_data"
    }
   ],
   "source": [
    "#Plot dist\n",
    "\n",
    "result.plot(kind='scatter', x='X', y='temp_c')\n"
   ]
  },
  {
   "cell_type": "code",
   "execution_count": 49,
   "metadata": {
    "collapsed": false,
    "scrolled": true
   },
   "outputs": [
    {
     "name": "stdout",
     "output_type": "stream",
     "text": [
      "                            OLS Regression Results                            \n",
      "==============================================================================\n",
      "Dep. Variable:                 temp_c   R-squared:                       1.000\n",
      "Model:                            OLS   Adj. R-squared:                  1.000\n",
      "Method:                 Least Squares   F-statistic:                 5.685e+32\n",
      "Date:                Sun, 05 Mar 2017   Prob (F-statistic):               0.00\n",
      "Time:                        12:18:36   Log-Likelihood:             3.5965e+06\n",
      "No. Observations:              141637   AIC:                        -7.193e+06\n",
      "Df Residuals:                  141635   BIC:                        -7.193e+06\n",
      "Df Model:                           1                                         \n",
      "Covariance Type:            nonrobust                                         \n",
      "==============================================================================\n",
      "                 coef    std err          t      P>|t|      [95.0% Conf. Int.]\n",
      "------------------------------------------------------------------------------\n",
      "Intercept    -17.7778   6.19e-15  -2.87e+15      0.000       -17.778   -17.778\n",
      "X              0.5556   2.33e-17   2.38e+16      0.000         0.556     0.556\n",
      "==============================================================================\n",
      "Omnibus:                   492828.907   Durbin-Watson:                   1.128\n",
      "Prob(Omnibus):                  0.000   Jarque-Bera (JB):     126571123839.016\n",
      "Skew:                          67.373   Prob(JB):                         0.00\n",
      "Kurtosis:                    4632.144   Cond. No.                         273.\n",
      "==============================================================================\n",
      "\n",
      "Warnings:\n",
      "[1] Standard Errors assume that the covariance matrix of the errors is correctly specified.\n"
     ]
    }
   ],
   "source": [
    "# run a basci regression\n",
    "lm = smf.ols(formula='temp_c ~ X', data=result).fit()\n",
    "lm.params\n",
    "lm.rsquared\n",
    "print lm.summary()"
   ]
  },
  {
   "cell_type": "markdown",
   "metadata": {},
   "source": [
    "# Q: Interpret your coefficients!\n",
    "\n",
    "\n",
    "# A:for every unit change in X the temp increases by .5556"
   ]
  },
  {
   "cell_type": "markdown",
   "metadata": {},
   "source": [
    "# Q: What is one potential use for this linear regression equation? \n",
    "\n",
    "# A: Converting from one temp measurement to another "
   ]
  },
  {
   "cell_type": "markdown",
   "metadata": {},
   "source": [
    "# Q: What does this linear regression mean? \n",
    "\n",
    "# A: Variable temp c and X are a linear manipulation of one another "
   ]
  },
  {
   "cell_type": "markdown",
   "metadata": {},
   "source": [
    "# Q: Is this a good model? Why or why not? \n",
    "\n",
    "# A: no as we are not predicting anything"
   ]
  },
  {
   "cell_type": "markdown",
   "metadata": {},
   "source": [
    "\n",
    "    \n"
   ]
  }
 ],
 "metadata": {
  "kernelspec": {
   "display_name": "Python 2",
   "language": "python",
   "name": "python2"
  },
  "language_info": {
   "codemirror_mode": {
    "name": "ipython",
    "version": 2
   },
   "file_extension": ".py",
   "mimetype": "text/x-python",
   "name": "python",
   "nbconvert_exporter": "python",
   "pygments_lexer": "ipython2",
   "version": "2.7.13"
  }
 },
 "nbformat": 4,
 "nbformat_minor": 0
}
