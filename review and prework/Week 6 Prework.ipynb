{
 "cells": [
  {
   "cell_type": "markdown",
   "metadata": {},
   "source": [
    "# Week 6 Prework"
   ]
  },
  {
   "cell_type": "markdown",
   "metadata": {},
   "source": [
    "## Week 5 Review\n",
    "1. Machine Learning - CART"
   ]
  },
  {
   "cell_type": "markdown",
   "metadata": {},
   "source": [
    "## Week 6 Prework\n",
    "\n",
    "<span style=\"font-size:1.5em; color:green\">NLP</span>\n",
    "\n",
    "1. Tokenize Natural Language Text\n",
    "2. Categorize and tag unstructured data\n",
    "3. Build Text Classification Model using NLTK\n",
    "\n",
    "<span style=\"font-size:1.5em; color:green\">PCA and LDA</span>\n",
    "\n",
    "1. What's Dimensionality Reduction (unsupervised learning)\n",
    "2. Latent Dirichlet Allocation (LDA)\n",
    "3. Extract information from sample text dataset "
   ]
  },
  {
   "cell_type": "markdown",
   "metadata": {},
   "source": [
    "<span style=\"font-size:3em; color:green\">Week 5 Review</span>"
   ]
  },
  {
   "cell_type": "code",
   "execution_count": 107,
   "metadata": {
    "collapsed": false
   },
   "outputs": [],
   "source": [
    "import pandas as pd\n",
    "import numpy as np\n",
    "from sklearn.linear_model import LogisticRegression\n",
    "from sklearn.neighbors import KNeighborsClassifier\n",
    "from sklearn.preprocessing import StandardScaler\n",
    "from sklearn.ensemble import RandomForestClassifier"
   ]
  },
  {
   "cell_type": "markdown",
   "metadata": {},
   "source": [
    "For you gamers out there, I have a fun dataset on StarCraft II! The dataset is recorded data of the actions players do while playing the game. Here's the data dictionary:\n",
    "https://archive.ics.uci.edu/ml/datasets/SkillCraft1+Master+Table+Dataset\n",
    "\n",
    "For those of you who aren't gamers, I'll explain a bit about certain features.\n",
    "- APM (Actions per Minute) is the number of actions (keyboard and mouse clicks) a player does over a minute.\n",
    "- PAC (Perception Action Cycle) is the number of actions (keyboard and mouse clicks) a player does before moving to another part of the screen.\n",
    "- Time is measured in TimeStamps, 1 real-time second is equivalent to roughly 88.5 timestamps.\n",
    "\n",
    "Let's run a regression!"
   ]
  },
  {
   "cell_type": "code",
   "execution_count": 81,
   "metadata": {
    "collapsed": false
   },
   "outputs": [
    {
     "data": {
      "text/html": [
       "<div>\n",
       "<table border=\"1\" class=\"dataframe\">\n",
       "  <thead>\n",
       "    <tr style=\"text-align: right;\">\n",
       "      <th></th>\n",
       "      <th>GameID</th>\n",
       "      <th>LeagueIndex</th>\n",
       "      <th>Age</th>\n",
       "      <th>HoursPerWeek</th>\n",
       "      <th>TotalHours</th>\n",
       "      <th>APM</th>\n",
       "      <th>SelectByHotkeys</th>\n",
       "      <th>AssignToHotkeys</th>\n",
       "      <th>UniqueHotkeys</th>\n",
       "      <th>MinimapAttacks</th>\n",
       "      <th>MinimapRightClicks</th>\n",
       "      <th>NumberOfPACs</th>\n",
       "      <th>GapBetweenPACs</th>\n",
       "      <th>ActionLatency</th>\n",
       "      <th>ActionsInPAC</th>\n",
       "      <th>TotalMapExplored</th>\n",
       "      <th>WorkersMade</th>\n",
       "      <th>UniqueUnitsMade</th>\n",
       "      <th>ComplexUnitsMade</th>\n",
       "      <th>ComplexAbilitiesUsed</th>\n",
       "    </tr>\n",
       "  </thead>\n",
       "  <tbody>\n",
       "    <tr>\n",
       "      <th>0</th>\n",
       "      <td>52</td>\n",
       "      <td>5</td>\n",
       "      <td>27</td>\n",
       "      <td>10</td>\n",
       "      <td>3000</td>\n",
       "      <td>143.7180</td>\n",
       "      <td>0.003515</td>\n",
       "      <td>0.000220</td>\n",
       "      <td>7</td>\n",
       "      <td>0.000110</td>\n",
       "      <td>0.000392</td>\n",
       "      <td>0.004849</td>\n",
       "      <td>32.6677</td>\n",
       "      <td>40.8673</td>\n",
       "      <td>4.7508</td>\n",
       "      <td>28</td>\n",
       "      <td>0.001397</td>\n",
       "      <td>6</td>\n",
       "      <td>0.0</td>\n",
       "      <td>0.000000</td>\n",
       "    </tr>\n",
       "    <tr>\n",
       "      <th>1</th>\n",
       "      <td>55</td>\n",
       "      <td>5</td>\n",
       "      <td>23</td>\n",
       "      <td>10</td>\n",
       "      <td>5000</td>\n",
       "      <td>129.2322</td>\n",
       "      <td>0.003304</td>\n",
       "      <td>0.000259</td>\n",
       "      <td>4</td>\n",
       "      <td>0.000294</td>\n",
       "      <td>0.000432</td>\n",
       "      <td>0.004307</td>\n",
       "      <td>32.9194</td>\n",
       "      <td>42.3454</td>\n",
       "      <td>4.8434</td>\n",
       "      <td>22</td>\n",
       "      <td>0.001194</td>\n",
       "      <td>5</td>\n",
       "      <td>0.0</td>\n",
       "      <td>0.000208</td>\n",
       "    </tr>\n",
       "    <tr>\n",
       "      <th>2</th>\n",
       "      <td>56</td>\n",
       "      <td>4</td>\n",
       "      <td>30</td>\n",
       "      <td>10</td>\n",
       "      <td>200</td>\n",
       "      <td>69.9612</td>\n",
       "      <td>0.001101</td>\n",
       "      <td>0.000336</td>\n",
       "      <td>4</td>\n",
       "      <td>0.000294</td>\n",
       "      <td>0.000461</td>\n",
       "      <td>0.002926</td>\n",
       "      <td>44.6475</td>\n",
       "      <td>75.3548</td>\n",
       "      <td>4.0430</td>\n",
       "      <td>22</td>\n",
       "      <td>0.000745</td>\n",
       "      <td>6</td>\n",
       "      <td>0.0</td>\n",
       "      <td>0.000189</td>\n",
       "    </tr>\n",
       "    <tr>\n",
       "      <th>3</th>\n",
       "      <td>57</td>\n",
       "      <td>3</td>\n",
       "      <td>19</td>\n",
       "      <td>20</td>\n",
       "      <td>400</td>\n",
       "      <td>107.6016</td>\n",
       "      <td>0.001034</td>\n",
       "      <td>0.000213</td>\n",
       "      <td>1</td>\n",
       "      <td>0.000053</td>\n",
       "      <td>0.000543</td>\n",
       "      <td>0.003783</td>\n",
       "      <td>29.2203</td>\n",
       "      <td>53.7352</td>\n",
       "      <td>4.9155</td>\n",
       "      <td>19</td>\n",
       "      <td>0.000426</td>\n",
       "      <td>7</td>\n",
       "      <td>0.0</td>\n",
       "      <td>0.000384</td>\n",
       "    </tr>\n",
       "    <tr>\n",
       "      <th>4</th>\n",
       "      <td>58</td>\n",
       "      <td>3</td>\n",
       "      <td>32</td>\n",
       "      <td>10</td>\n",
       "      <td>500</td>\n",
       "      <td>122.8908</td>\n",
       "      <td>0.001136</td>\n",
       "      <td>0.000327</td>\n",
       "      <td>2</td>\n",
       "      <td>0.000000</td>\n",
       "      <td>0.001329</td>\n",
       "      <td>0.002368</td>\n",
       "      <td>22.6885</td>\n",
       "      <td>62.0813</td>\n",
       "      <td>9.3740</td>\n",
       "      <td>15</td>\n",
       "      <td>0.001174</td>\n",
       "      <td>4</td>\n",
       "      <td>0.0</td>\n",
       "      <td>0.000019</td>\n",
       "    </tr>\n",
       "  </tbody>\n",
       "</table>\n",
       "</div>"
      ],
      "text/plain": [
       "   GameID  LeagueIndex Age HoursPerWeek TotalHours       APM  SelectByHotkeys  \\\n",
       "0      52            5  27           10       3000  143.7180         0.003515   \n",
       "1      55            5  23           10       5000  129.2322         0.003304   \n",
       "2      56            4  30           10        200   69.9612         0.001101   \n",
       "3      57            3  19           20        400  107.6016         0.001034   \n",
       "4      58            3  32           10        500  122.8908         0.001136   \n",
       "\n",
       "   AssignToHotkeys  UniqueHotkeys  MinimapAttacks  MinimapRightClicks  \\\n",
       "0         0.000220              7        0.000110            0.000392   \n",
       "1         0.000259              4        0.000294            0.000432   \n",
       "2         0.000336              4        0.000294            0.000461   \n",
       "3         0.000213              1        0.000053            0.000543   \n",
       "4         0.000327              2        0.000000            0.001329   \n",
       "\n",
       "   NumberOfPACs  GapBetweenPACs  ActionLatency  ActionsInPAC  \\\n",
       "0      0.004849         32.6677        40.8673        4.7508   \n",
       "1      0.004307         32.9194        42.3454        4.8434   \n",
       "2      0.002926         44.6475        75.3548        4.0430   \n",
       "3      0.003783         29.2203        53.7352        4.9155   \n",
       "4      0.002368         22.6885        62.0813        9.3740   \n",
       "\n",
       "   TotalMapExplored  WorkersMade  UniqueUnitsMade  ComplexUnitsMade  \\\n",
       "0                28     0.001397                6               0.0   \n",
       "1                22     0.001194                5               0.0   \n",
       "2                22     0.000745                6               0.0   \n",
       "3                19     0.000426                7               0.0   \n",
       "4                15     0.001174                4               0.0   \n",
       "\n",
       "   ComplexAbilitiesUsed  \n",
       "0              0.000000  \n",
       "1              0.000208  \n",
       "2              0.000189  \n",
       "3              0.000384  \n",
       "4              0.000019  "
      ]
     },
     "execution_count": 81,
     "metadata": {},
     "output_type": "execute_result"
    }
   ],
   "source": [
    "sc = pd.read_csv('/Users/edwardlee/Desktop/df-sf-32/DS-SF-32/review and prework/review_datasets/SkillCraft1_Dataset.csv')\n",
    "sc.head()"
   ]
  },
  {
   "cell_type": "code",
   "execution_count": 82,
   "metadata": {
    "collapsed": false
   },
   "outputs": [
    {
     "data": {
      "text/html": [
       "<div>\n",
       "<table border=\"1\" class=\"dataframe\">\n",
       "  <thead>\n",
       "    <tr style=\"text-align: right;\">\n",
       "      <th></th>\n",
       "      <th>GameID</th>\n",
       "      <th>LeagueIndex</th>\n",
       "      <th>Age</th>\n",
       "      <th>HoursPerWeek</th>\n",
       "      <th>TotalHours</th>\n",
       "      <th>APM</th>\n",
       "      <th>SelectByHotkeys</th>\n",
       "      <th>AssignToHotkeys</th>\n",
       "      <th>UniqueHotkeys</th>\n",
       "      <th>MinimapAttacks</th>\n",
       "      <th>MinimapRightClicks</th>\n",
       "      <th>NumberOfPACs</th>\n",
       "      <th>GapBetweenPACs</th>\n",
       "      <th>ActionLatency</th>\n",
       "      <th>ActionsInPAC</th>\n",
       "      <th>TotalMapExplored</th>\n",
       "      <th>WorkersMade</th>\n",
       "      <th>UniqueUnitsMade</th>\n",
       "      <th>ComplexUnitsMade</th>\n",
       "      <th>ComplexAbilitiesUsed</th>\n",
       "    </tr>\n",
       "  </thead>\n",
       "  <tbody>\n",
       "    <tr>\n",
       "      <th>3394</th>\n",
       "      <td>10095</td>\n",
       "      <td>8</td>\n",
       "      <td>?</td>\n",
       "      <td>?</td>\n",
       "      <td>?</td>\n",
       "      <td>348.3576</td>\n",
       "      <td>0.029855</td>\n",
       "      <td>0.000811</td>\n",
       "      <td>4</td>\n",
       "      <td>0.000224</td>\n",
       "      <td>0.001315</td>\n",
       "      <td>0.005566</td>\n",
       "      <td>20.0537</td>\n",
       "      <td>33.5142</td>\n",
       "      <td>6.3719</td>\n",
       "      <td>27</td>\n",
       "      <td>0.001566</td>\n",
       "      <td>7</td>\n",
       "      <td>0.000457</td>\n",
       "      <td>0.000895</td>\n",
       "    </tr>\n",
       "    <tr>\n",
       "      <th>3369</th>\n",
       "      <td>10059</td>\n",
       "      <td>8</td>\n",
       "      <td>?</td>\n",
       "      <td>?</td>\n",
       "      <td>?</td>\n",
       "      <td>219.3894</td>\n",
       "      <td>0.005926</td>\n",
       "      <td>0.000741</td>\n",
       "      <td>6</td>\n",
       "      <td>0.000440</td>\n",
       "      <td>0.000709</td>\n",
       "      <td>0.005185</td>\n",
       "      <td>17.0456</td>\n",
       "      <td>30.5342</td>\n",
       "      <td>6.6749</td>\n",
       "      <td>35</td>\n",
       "      <td>0.002072</td>\n",
       "      <td>9</td>\n",
       "      <td>0.000225</td>\n",
       "      <td>0.000064</td>\n",
       "    </tr>\n",
       "    <tr>\n",
       "      <th>3367</th>\n",
       "      <td>10052</td>\n",
       "      <td>8</td>\n",
       "      <td>?</td>\n",
       "      <td>?</td>\n",
       "      <td>?</td>\n",
       "      <td>190.2396</td>\n",
       "      <td>0.008720</td>\n",
       "      <td>0.000879</td>\n",
       "      <td>10</td>\n",
       "      <td>0.000171</td>\n",
       "      <td>0.000342</td>\n",
       "      <td>0.004971</td>\n",
       "      <td>17.9901</td>\n",
       "      <td>35.9509</td>\n",
       "      <td>5.5872</td>\n",
       "      <td>21</td>\n",
       "      <td>0.000904</td>\n",
       "      <td>5</td>\n",
       "      <td>0.000000</td>\n",
       "      <td>0.000000</td>\n",
       "    </tr>\n",
       "    <tr>\n",
       "      <th>3366</th>\n",
       "      <td>10051</td>\n",
       "      <td>8</td>\n",
       "      <td>?</td>\n",
       "      <td>?</td>\n",
       "      <td>?</td>\n",
       "      <td>269.8998</td>\n",
       "      <td>0.024645</td>\n",
       "      <td>0.000642</td>\n",
       "      <td>10</td>\n",
       "      <td>0.000415</td>\n",
       "      <td>0.000491</td>\n",
       "      <td>0.004015</td>\n",
       "      <td>25.6352</td>\n",
       "      <td>43.3856</td>\n",
       "      <td>6.4922</td>\n",
       "      <td>21</td>\n",
       "      <td>0.000478</td>\n",
       "      <td>6</td>\n",
       "      <td>0.000000</td>\n",
       "      <td>0.000579</td>\n",
       "    </tr>\n",
       "    <tr>\n",
       "      <th>3365</th>\n",
       "      <td>10050</td>\n",
       "      <td>8</td>\n",
       "      <td>?</td>\n",
       "      <td>?</td>\n",
       "      <td>?</td>\n",
       "      <td>211.9188</td>\n",
       "      <td>0.019817</td>\n",
       "      <td>0.000633</td>\n",
       "      <td>4</td>\n",
       "      <td>0.000201</td>\n",
       "      <td>0.000201</td>\n",
       "      <td>0.003912</td>\n",
       "      <td>31.8222</td>\n",
       "      <td>54.5588</td>\n",
       "      <td>5.0294</td>\n",
       "      <td>14</td>\n",
       "      <td>0.001409</td>\n",
       "      <td>3</td>\n",
       "      <td>0.000000</td>\n",
       "      <td>0.000000</td>\n",
       "    </tr>\n",
       "  </tbody>\n",
       "</table>\n",
       "</div>"
      ],
      "text/plain": [
       "      GameID  LeagueIndex Age HoursPerWeek TotalHours       APM  \\\n",
       "3394   10095            8   ?            ?          ?  348.3576   \n",
       "3369   10059            8   ?            ?          ?  219.3894   \n",
       "3367   10052            8   ?            ?          ?  190.2396   \n",
       "3366   10051            8   ?            ?          ?  269.8998   \n",
       "3365   10050            8   ?            ?          ?  211.9188   \n",
       "\n",
       "      SelectByHotkeys  AssignToHotkeys  UniqueHotkeys  MinimapAttacks  \\\n",
       "3394         0.029855         0.000811              4        0.000224   \n",
       "3369         0.005926         0.000741              6        0.000440   \n",
       "3367         0.008720         0.000879             10        0.000171   \n",
       "3366         0.024645         0.000642             10        0.000415   \n",
       "3365         0.019817         0.000633              4        0.000201   \n",
       "\n",
       "      MinimapRightClicks  NumberOfPACs  GapBetweenPACs  ActionLatency  \\\n",
       "3394            0.001315      0.005566         20.0537        33.5142   \n",
       "3369            0.000709      0.005185         17.0456        30.5342   \n",
       "3367            0.000342      0.004971         17.9901        35.9509   \n",
       "3366            0.000491      0.004015         25.6352        43.3856   \n",
       "3365            0.000201      0.003912         31.8222        54.5588   \n",
       "\n",
       "      ActionsInPAC  TotalMapExplored  WorkersMade  UniqueUnitsMade  \\\n",
       "3394        6.3719                27     0.001566                7   \n",
       "3369        6.6749                35     0.002072                9   \n",
       "3367        5.5872                21     0.000904                5   \n",
       "3366        6.4922                21     0.000478                6   \n",
       "3365        5.0294                14     0.001409                3   \n",
       "\n",
       "      ComplexUnitsMade  ComplexAbilitiesUsed  \n",
       "3394          0.000457              0.000895  \n",
       "3369          0.000225              0.000064  \n",
       "3367          0.000000              0.000000  \n",
       "3366          0.000000              0.000579  \n",
       "3365          0.000000              0.000000  "
      ]
     },
     "execution_count": 82,
     "metadata": {},
     "output_type": "execute_result"
    }
   ],
   "source": [
    "sc.sort_values('LeagueIndex', ascending=False).head()"
   ]
  },
  {
   "cell_type": "markdown",
   "metadata": {},
   "source": [
    "### As noticed above, LeagueIndex==8 are professional players. Their Age, HoursPerWeek and TotalHours are question marks. Since there's nowhere to get that data, let's just put in some values.\n",
    "\n",
    "### After some research, usually StarCraft 2 pro gamers are roughly between the ages of 18-32. Let's create some variables at random to fill in the blanks."
   ]
  },
  {
   "cell_type": "code",
   "execution_count": 83,
   "metadata": {
    "collapsed": false
   },
   "outputs": [],
   "source": [
    "# Using a seed so that we all get the same answer\n",
    "np.random.seed(seed=1234)\n",
    "\n",
    "def pro_ages(x):\n",
    "    if '?' in x:\n",
    "        return np.random.randint(low=18, high=33)\n",
    "    else:\n",
    "        return int(x)\n",
    "    \n",
    "sc['Age'] = sc['Age'].map(pro_ages)"
   ]
  },
  {
   "cell_type": "code",
   "execution_count": 84,
   "metadata": {
    "collapsed": false
   },
   "outputs": [
    {
     "data": {
      "text/html": [
       "<div>\n",
       "<table border=\"1\" class=\"dataframe\">\n",
       "  <thead>\n",
       "    <tr style=\"text-align: right;\">\n",
       "      <th></th>\n",
       "      <th>GameID</th>\n",
       "      <th>LeagueIndex</th>\n",
       "      <th>Age</th>\n",
       "      <th>HoursPerWeek</th>\n",
       "      <th>TotalHours</th>\n",
       "      <th>APM</th>\n",
       "      <th>SelectByHotkeys</th>\n",
       "      <th>AssignToHotkeys</th>\n",
       "      <th>UniqueHotkeys</th>\n",
       "      <th>MinimapAttacks</th>\n",
       "      <th>MinimapRightClicks</th>\n",
       "      <th>NumberOfPACs</th>\n",
       "      <th>GapBetweenPACs</th>\n",
       "      <th>ActionLatency</th>\n",
       "      <th>ActionsInPAC</th>\n",
       "      <th>TotalMapExplored</th>\n",
       "      <th>WorkersMade</th>\n",
       "      <th>UniqueUnitsMade</th>\n",
       "      <th>ComplexUnitsMade</th>\n",
       "      <th>ComplexAbilitiesUsed</th>\n",
       "    </tr>\n",
       "  </thead>\n",
       "  <tbody>\n",
       "    <tr>\n",
       "      <th>3394</th>\n",
       "      <td>10095</td>\n",
       "      <td>8</td>\n",
       "      <td>25</td>\n",
       "      <td>?</td>\n",
       "      <td>?</td>\n",
       "      <td>348.3576</td>\n",
       "      <td>0.029855</td>\n",
       "      <td>0.000811</td>\n",
       "      <td>4</td>\n",
       "      <td>0.000224</td>\n",
       "      <td>0.001315</td>\n",
       "      <td>0.005566</td>\n",
       "      <td>20.0537</td>\n",
       "      <td>33.5142</td>\n",
       "      <td>6.3719</td>\n",
       "      <td>27</td>\n",
       "      <td>0.001566</td>\n",
       "      <td>7</td>\n",
       "      <td>0.000457</td>\n",
       "      <td>0.000895</td>\n",
       "    </tr>\n",
       "    <tr>\n",
       "      <th>3369</th>\n",
       "      <td>10059</td>\n",
       "      <td>8</td>\n",
       "      <td>29</td>\n",
       "      <td>?</td>\n",
       "      <td>?</td>\n",
       "      <td>219.3894</td>\n",
       "      <td>0.005926</td>\n",
       "      <td>0.000741</td>\n",
       "      <td>6</td>\n",
       "      <td>0.000440</td>\n",
       "      <td>0.000709</td>\n",
       "      <td>0.005185</td>\n",
       "      <td>17.0456</td>\n",
       "      <td>30.5342</td>\n",
       "      <td>6.6749</td>\n",
       "      <td>35</td>\n",
       "      <td>0.002072</td>\n",
       "      <td>9</td>\n",
       "      <td>0.000225</td>\n",
       "      <td>0.000064</td>\n",
       "    </tr>\n",
       "    <tr>\n",
       "      <th>3367</th>\n",
       "      <td>10052</td>\n",
       "      <td>8</td>\n",
       "      <td>20</td>\n",
       "      <td>?</td>\n",
       "      <td>?</td>\n",
       "      <td>190.2396</td>\n",
       "      <td>0.008720</td>\n",
       "      <td>0.000879</td>\n",
       "      <td>10</td>\n",
       "      <td>0.000171</td>\n",
       "      <td>0.000342</td>\n",
       "      <td>0.004971</td>\n",
       "      <td>17.9901</td>\n",
       "      <td>35.9509</td>\n",
       "      <td>5.5872</td>\n",
       "      <td>21</td>\n",
       "      <td>0.000904</td>\n",
       "      <td>5</td>\n",
       "      <td>0.000000</td>\n",
       "      <td>0.000000</td>\n",
       "    </tr>\n",
       "    <tr>\n",
       "      <th>3366</th>\n",
       "      <td>10051</td>\n",
       "      <td>8</td>\n",
       "      <td>32</td>\n",
       "      <td>?</td>\n",
       "      <td>?</td>\n",
       "      <td>269.8998</td>\n",
       "      <td>0.024645</td>\n",
       "      <td>0.000642</td>\n",
       "      <td>10</td>\n",
       "      <td>0.000415</td>\n",
       "      <td>0.000491</td>\n",
       "      <td>0.004015</td>\n",
       "      <td>25.6352</td>\n",
       "      <td>43.3856</td>\n",
       "      <td>6.4922</td>\n",
       "      <td>21</td>\n",
       "      <td>0.000478</td>\n",
       "      <td>6</td>\n",
       "      <td>0.000000</td>\n",
       "      <td>0.000579</td>\n",
       "    </tr>\n",
       "    <tr>\n",
       "      <th>3365</th>\n",
       "      <td>10050</td>\n",
       "      <td>8</td>\n",
       "      <td>24</td>\n",
       "      <td>?</td>\n",
       "      <td>?</td>\n",
       "      <td>211.9188</td>\n",
       "      <td>0.019817</td>\n",
       "      <td>0.000633</td>\n",
       "      <td>4</td>\n",
       "      <td>0.000201</td>\n",
       "      <td>0.000201</td>\n",
       "      <td>0.003912</td>\n",
       "      <td>31.8222</td>\n",
       "      <td>54.5588</td>\n",
       "      <td>5.0294</td>\n",
       "      <td>14</td>\n",
       "      <td>0.001409</td>\n",
       "      <td>3</td>\n",
       "      <td>0.000000</td>\n",
       "      <td>0.000000</td>\n",
       "    </tr>\n",
       "  </tbody>\n",
       "</table>\n",
       "</div>"
      ],
      "text/plain": [
       "      GameID  LeagueIndex  Age HoursPerWeek TotalHours       APM  \\\n",
       "3394   10095            8   25            ?          ?  348.3576   \n",
       "3369   10059            8   29            ?          ?  219.3894   \n",
       "3367   10052            8   20            ?          ?  190.2396   \n",
       "3366   10051            8   32            ?          ?  269.8998   \n",
       "3365   10050            8   24            ?          ?  211.9188   \n",
       "\n",
       "      SelectByHotkeys  AssignToHotkeys  UniqueHotkeys  MinimapAttacks  \\\n",
       "3394         0.029855         0.000811              4        0.000224   \n",
       "3369         0.005926         0.000741              6        0.000440   \n",
       "3367         0.008720         0.000879             10        0.000171   \n",
       "3366         0.024645         0.000642             10        0.000415   \n",
       "3365         0.019817         0.000633              4        0.000201   \n",
       "\n",
       "      MinimapRightClicks  NumberOfPACs  GapBetweenPACs  ActionLatency  \\\n",
       "3394            0.001315      0.005566         20.0537        33.5142   \n",
       "3369            0.000709      0.005185         17.0456        30.5342   \n",
       "3367            0.000342      0.004971         17.9901        35.9509   \n",
       "3366            0.000491      0.004015         25.6352        43.3856   \n",
       "3365            0.000201      0.003912         31.8222        54.5588   \n",
       "\n",
       "      ActionsInPAC  TotalMapExplored  WorkersMade  UniqueUnitsMade  \\\n",
       "3394        6.3719                27     0.001566                7   \n",
       "3369        6.6749                35     0.002072                9   \n",
       "3367        5.5872                21     0.000904                5   \n",
       "3366        6.4922                21     0.000478                6   \n",
       "3365        5.0294                14     0.001409                3   \n",
       "\n",
       "      ComplexUnitsMade  ComplexAbilitiesUsed  \n",
       "3394          0.000457              0.000895  \n",
       "3369          0.000225              0.000064  \n",
       "3367          0.000000              0.000000  \n",
       "3366          0.000000              0.000579  \n",
       "3365          0.000000              0.000000  "
      ]
     },
     "execution_count": 84,
     "metadata": {},
     "output_type": "execute_result"
    }
   ],
   "source": [
    "sc.sort_values('LeagueIndex', ascending=False).head()"
   ]
  },
  {
   "cell_type": "markdown",
   "metadata": {},
   "source": [
    "### Since pro gamers play games for a living, let's say that they train for 8-12 hours per day. In a weeks time, that would be 56-84 hours per week. Let's randomize those numbers as well."
   ]
  },
  {
   "cell_type": "code",
   "execution_count": 85,
   "metadata": {
    "collapsed": false
   },
   "outputs": [],
   "source": [
    "np.random.seed(seed=1234)\n",
    "\n",
    "def pro_HPW(x):\n",
    "    if '?' in x:\n",
    "        return np.random.randint(low=56, high=85)\n",
    "    else:\n",
    "        return int(x)\n",
    "    \n",
    "sc['HoursPerWeek'] = sc['HoursPerWeek'].map(pro_HPW)"
   ]
  },
  {
   "cell_type": "code",
   "execution_count": 86,
   "metadata": {
    "collapsed": false
   },
   "outputs": [
    {
     "data": {
      "text/html": [
       "<div>\n",
       "<table border=\"1\" class=\"dataframe\">\n",
       "  <thead>\n",
       "    <tr style=\"text-align: right;\">\n",
       "      <th></th>\n",
       "      <th>GameID</th>\n",
       "      <th>LeagueIndex</th>\n",
       "      <th>Age</th>\n",
       "      <th>HoursPerWeek</th>\n",
       "      <th>TotalHours</th>\n",
       "      <th>APM</th>\n",
       "      <th>SelectByHotkeys</th>\n",
       "      <th>AssignToHotkeys</th>\n",
       "      <th>UniqueHotkeys</th>\n",
       "      <th>MinimapAttacks</th>\n",
       "      <th>MinimapRightClicks</th>\n",
       "      <th>NumberOfPACs</th>\n",
       "      <th>GapBetweenPACs</th>\n",
       "      <th>ActionLatency</th>\n",
       "      <th>ActionsInPAC</th>\n",
       "      <th>TotalMapExplored</th>\n",
       "      <th>WorkersMade</th>\n",
       "      <th>UniqueUnitsMade</th>\n",
       "      <th>ComplexUnitsMade</th>\n",
       "      <th>ComplexAbilitiesUsed</th>\n",
       "    </tr>\n",
       "  </thead>\n",
       "  <tbody>\n",
       "    <tr>\n",
       "      <th>3394</th>\n",
       "      <td>10095</td>\n",
       "      <td>8</td>\n",
       "      <td>25</td>\n",
       "      <td>84</td>\n",
       "      <td>?</td>\n",
       "      <td>348.3576</td>\n",
       "      <td>0.029855</td>\n",
       "      <td>0.000811</td>\n",
       "      <td>4</td>\n",
       "      <td>0.000224</td>\n",
       "      <td>0.001315</td>\n",
       "      <td>0.005566</td>\n",
       "      <td>20.0537</td>\n",
       "      <td>33.5142</td>\n",
       "      <td>6.3719</td>\n",
       "      <td>27</td>\n",
       "      <td>0.001566</td>\n",
       "      <td>7</td>\n",
       "      <td>0.000457</td>\n",
       "      <td>0.000895</td>\n",
       "    </tr>\n",
       "    <tr>\n",
       "      <th>3369</th>\n",
       "      <td>10059</td>\n",
       "      <td>8</td>\n",
       "      <td>29</td>\n",
       "      <td>68</td>\n",
       "      <td>?</td>\n",
       "      <td>219.3894</td>\n",
       "      <td>0.005926</td>\n",
       "      <td>0.000741</td>\n",
       "      <td>6</td>\n",
       "      <td>0.000440</td>\n",
       "      <td>0.000709</td>\n",
       "      <td>0.005185</td>\n",
       "      <td>17.0456</td>\n",
       "      <td>30.5342</td>\n",
       "      <td>6.6749</td>\n",
       "      <td>35</td>\n",
       "      <td>0.002072</td>\n",
       "      <td>9</td>\n",
       "      <td>0.000225</td>\n",
       "      <td>0.000064</td>\n",
       "    </tr>\n",
       "    <tr>\n",
       "      <th>3367</th>\n",
       "      <td>10052</td>\n",
       "      <td>8</td>\n",
       "      <td>20</td>\n",
       "      <td>72</td>\n",
       "      <td>?</td>\n",
       "      <td>190.2396</td>\n",
       "      <td>0.008720</td>\n",
       "      <td>0.000879</td>\n",
       "      <td>10</td>\n",
       "      <td>0.000171</td>\n",
       "      <td>0.000342</td>\n",
       "      <td>0.004971</td>\n",
       "      <td>17.9901</td>\n",
       "      <td>35.9509</td>\n",
       "      <td>5.5872</td>\n",
       "      <td>21</td>\n",
       "      <td>0.000904</td>\n",
       "      <td>5</td>\n",
       "      <td>0.000000</td>\n",
       "      <td>0.000000</td>\n",
       "    </tr>\n",
       "    <tr>\n",
       "      <th>3366</th>\n",
       "      <td>10051</td>\n",
       "      <td>8</td>\n",
       "      <td>32</td>\n",
       "      <td>74</td>\n",
       "      <td>?</td>\n",
       "      <td>269.8998</td>\n",
       "      <td>0.024645</td>\n",
       "      <td>0.000642</td>\n",
       "      <td>10</td>\n",
       "      <td>0.000415</td>\n",
       "      <td>0.000491</td>\n",
       "      <td>0.004015</td>\n",
       "      <td>25.6352</td>\n",
       "      <td>43.3856</td>\n",
       "      <td>6.4922</td>\n",
       "      <td>21</td>\n",
       "      <td>0.000478</td>\n",
       "      <td>6</td>\n",
       "      <td>0.000000</td>\n",
       "      <td>0.000579</td>\n",
       "    </tr>\n",
       "    <tr>\n",
       "      <th>3365</th>\n",
       "      <td>10050</td>\n",
       "      <td>8</td>\n",
       "      <td>24</td>\n",
       "      <td>71</td>\n",
       "      <td>?</td>\n",
       "      <td>211.9188</td>\n",
       "      <td>0.019817</td>\n",
       "      <td>0.000633</td>\n",
       "      <td>4</td>\n",
       "      <td>0.000201</td>\n",
       "      <td>0.000201</td>\n",
       "      <td>0.003912</td>\n",
       "      <td>31.8222</td>\n",
       "      <td>54.5588</td>\n",
       "      <td>5.0294</td>\n",
       "      <td>14</td>\n",
       "      <td>0.001409</td>\n",
       "      <td>3</td>\n",
       "      <td>0.000000</td>\n",
       "      <td>0.000000</td>\n",
       "    </tr>\n",
       "  </tbody>\n",
       "</table>\n",
       "</div>"
      ],
      "text/plain": [
       "      GameID  LeagueIndex  Age  HoursPerWeek TotalHours       APM  \\\n",
       "3394   10095            8   25            84          ?  348.3576   \n",
       "3369   10059            8   29            68          ?  219.3894   \n",
       "3367   10052            8   20            72          ?  190.2396   \n",
       "3366   10051            8   32            74          ?  269.8998   \n",
       "3365   10050            8   24            71          ?  211.9188   \n",
       "\n",
       "      SelectByHotkeys  AssignToHotkeys  UniqueHotkeys  MinimapAttacks  \\\n",
       "3394         0.029855         0.000811              4        0.000224   \n",
       "3369         0.005926         0.000741              6        0.000440   \n",
       "3367         0.008720         0.000879             10        0.000171   \n",
       "3366         0.024645         0.000642             10        0.000415   \n",
       "3365         0.019817         0.000633              4        0.000201   \n",
       "\n",
       "      MinimapRightClicks  NumberOfPACs  GapBetweenPACs  ActionLatency  \\\n",
       "3394            0.001315      0.005566         20.0537        33.5142   \n",
       "3369            0.000709      0.005185         17.0456        30.5342   \n",
       "3367            0.000342      0.004971         17.9901        35.9509   \n",
       "3366            0.000491      0.004015         25.6352        43.3856   \n",
       "3365            0.000201      0.003912         31.8222        54.5588   \n",
       "\n",
       "      ActionsInPAC  TotalMapExplored  WorkersMade  UniqueUnitsMade  \\\n",
       "3394        6.3719                27     0.001566                7   \n",
       "3369        6.6749                35     0.002072                9   \n",
       "3367        5.5872                21     0.000904                5   \n",
       "3366        6.4922                21     0.000478                6   \n",
       "3365        5.0294                14     0.001409                3   \n",
       "\n",
       "      ComplexUnitsMade  ComplexAbilitiesUsed  \n",
       "3394          0.000457              0.000895  \n",
       "3369          0.000225              0.000064  \n",
       "3367          0.000000              0.000000  \n",
       "3366          0.000000              0.000579  \n",
       "3365          0.000000              0.000000  "
      ]
     },
     "execution_count": 86,
     "metadata": {},
     "output_type": "execute_result"
    }
   ],
   "source": [
    "sc.sort_values('LeagueIndex', ascending=False).head()"
   ]
  },
  {
   "cell_type": "markdown",
   "metadata": {},
   "source": [
    "### Based off of the randomized HoursPerWeek we've put in, let's calculate the TotalHours! StarCraft2 was released on July 27th, 2010 and this dataset was released September 20th, 2013, so that's roughly 60 weeks."
   ]
  },
  {
   "cell_type": "code",
   "execution_count": 87,
   "metadata": {
    "collapsed": false,
    "scrolled": false
   },
   "outputs": [
    {
     "name": "stderr",
     "output_type": "stream",
     "text": [
      "/Users/edwardlee/anaconda/envs/dsi/lib/python2.7/site-packages/ipykernel/__main__.py:3: SettingWithCopyWarning: \n",
      "A value is trying to be set on a copy of a slice from a DataFrame\n",
      "\n",
      "See the caveats in the documentation: http://pandas.pydata.org/pandas-docs/stable/indexing.html#indexing-view-versus-copy\n",
      "  app.launch_new_instance()\n"
     ]
    }
   ],
   "source": [
    "for x in range(sc.shape[0]):\n",
    "    if '?' in sc['TotalHours'][x]:\n",
    "        sc['TotalHours'][x] = int(sc['HoursPerWeek'][x] * ((52*3)+8))"
   ]
  },
  {
   "cell_type": "code",
   "execution_count": 88,
   "metadata": {
    "collapsed": false
   },
   "outputs": [
    {
     "data": {
      "text/html": [
       "<div>\n",
       "<table border=\"1\" class=\"dataframe\">\n",
       "  <thead>\n",
       "    <tr style=\"text-align: right;\">\n",
       "      <th></th>\n",
       "      <th>GameID</th>\n",
       "      <th>LeagueIndex</th>\n",
       "      <th>Age</th>\n",
       "      <th>HoursPerWeek</th>\n",
       "      <th>TotalHours</th>\n",
       "      <th>APM</th>\n",
       "      <th>SelectByHotkeys</th>\n",
       "      <th>AssignToHotkeys</th>\n",
       "      <th>UniqueHotkeys</th>\n",
       "      <th>MinimapAttacks</th>\n",
       "      <th>MinimapRightClicks</th>\n",
       "      <th>NumberOfPACs</th>\n",
       "      <th>GapBetweenPACs</th>\n",
       "      <th>ActionLatency</th>\n",
       "      <th>ActionsInPAC</th>\n",
       "      <th>TotalMapExplored</th>\n",
       "      <th>WorkersMade</th>\n",
       "      <th>UniqueUnitsMade</th>\n",
       "      <th>ComplexUnitsMade</th>\n",
       "      <th>ComplexAbilitiesUsed</th>\n",
       "    </tr>\n",
       "  </thead>\n",
       "  <tbody>\n",
       "    <tr>\n",
       "      <th>3394</th>\n",
       "      <td>10095</td>\n",
       "      <td>8</td>\n",
       "      <td>25</td>\n",
       "      <td>84</td>\n",
       "      <td>13776</td>\n",
       "      <td>348.3576</td>\n",
       "      <td>0.029855</td>\n",
       "      <td>0.000811</td>\n",
       "      <td>4</td>\n",
       "      <td>0.000224</td>\n",
       "      <td>0.001315</td>\n",
       "      <td>0.005566</td>\n",
       "      <td>20.0537</td>\n",
       "      <td>33.5142</td>\n",
       "      <td>6.3719</td>\n",
       "      <td>27</td>\n",
       "      <td>0.001566</td>\n",
       "      <td>7</td>\n",
       "      <td>0.000457</td>\n",
       "      <td>0.000895</td>\n",
       "    </tr>\n",
       "    <tr>\n",
       "      <th>3369</th>\n",
       "      <td>10059</td>\n",
       "      <td>8</td>\n",
       "      <td>29</td>\n",
       "      <td>68</td>\n",
       "      <td>11152</td>\n",
       "      <td>219.3894</td>\n",
       "      <td>0.005926</td>\n",
       "      <td>0.000741</td>\n",
       "      <td>6</td>\n",
       "      <td>0.000440</td>\n",
       "      <td>0.000709</td>\n",
       "      <td>0.005185</td>\n",
       "      <td>17.0456</td>\n",
       "      <td>30.5342</td>\n",
       "      <td>6.6749</td>\n",
       "      <td>35</td>\n",
       "      <td>0.002072</td>\n",
       "      <td>9</td>\n",
       "      <td>0.000225</td>\n",
       "      <td>0.000064</td>\n",
       "    </tr>\n",
       "    <tr>\n",
       "      <th>3367</th>\n",
       "      <td>10052</td>\n",
       "      <td>8</td>\n",
       "      <td>20</td>\n",
       "      <td>72</td>\n",
       "      <td>11808</td>\n",
       "      <td>190.2396</td>\n",
       "      <td>0.008720</td>\n",
       "      <td>0.000879</td>\n",
       "      <td>10</td>\n",
       "      <td>0.000171</td>\n",
       "      <td>0.000342</td>\n",
       "      <td>0.004971</td>\n",
       "      <td>17.9901</td>\n",
       "      <td>35.9509</td>\n",
       "      <td>5.5872</td>\n",
       "      <td>21</td>\n",
       "      <td>0.000904</td>\n",
       "      <td>5</td>\n",
       "      <td>0.000000</td>\n",
       "      <td>0.000000</td>\n",
       "    </tr>\n",
       "    <tr>\n",
       "      <th>3366</th>\n",
       "      <td>10051</td>\n",
       "      <td>8</td>\n",
       "      <td>32</td>\n",
       "      <td>74</td>\n",
       "      <td>12136</td>\n",
       "      <td>269.8998</td>\n",
       "      <td>0.024645</td>\n",
       "      <td>0.000642</td>\n",
       "      <td>10</td>\n",
       "      <td>0.000415</td>\n",
       "      <td>0.000491</td>\n",
       "      <td>0.004015</td>\n",
       "      <td>25.6352</td>\n",
       "      <td>43.3856</td>\n",
       "      <td>6.4922</td>\n",
       "      <td>21</td>\n",
       "      <td>0.000478</td>\n",
       "      <td>6</td>\n",
       "      <td>0.000000</td>\n",
       "      <td>0.000579</td>\n",
       "    </tr>\n",
       "    <tr>\n",
       "      <th>3365</th>\n",
       "      <td>10050</td>\n",
       "      <td>8</td>\n",
       "      <td>24</td>\n",
       "      <td>71</td>\n",
       "      <td>11644</td>\n",
       "      <td>211.9188</td>\n",
       "      <td>0.019817</td>\n",
       "      <td>0.000633</td>\n",
       "      <td>4</td>\n",
       "      <td>0.000201</td>\n",
       "      <td>0.000201</td>\n",
       "      <td>0.003912</td>\n",
       "      <td>31.8222</td>\n",
       "      <td>54.5588</td>\n",
       "      <td>5.0294</td>\n",
       "      <td>14</td>\n",
       "      <td>0.001409</td>\n",
       "      <td>3</td>\n",
       "      <td>0.000000</td>\n",
       "      <td>0.000000</td>\n",
       "    </tr>\n",
       "  </tbody>\n",
       "</table>\n",
       "</div>"
      ],
      "text/plain": [
       "      GameID  LeagueIndex  Age  HoursPerWeek TotalHours       APM  \\\n",
       "3394   10095            8   25            84      13776  348.3576   \n",
       "3369   10059            8   29            68      11152  219.3894   \n",
       "3367   10052            8   20            72      11808  190.2396   \n",
       "3366   10051            8   32            74      12136  269.8998   \n",
       "3365   10050            8   24            71      11644  211.9188   \n",
       "\n",
       "      SelectByHotkeys  AssignToHotkeys  UniqueHotkeys  MinimapAttacks  \\\n",
       "3394         0.029855         0.000811              4        0.000224   \n",
       "3369         0.005926         0.000741              6        0.000440   \n",
       "3367         0.008720         0.000879             10        0.000171   \n",
       "3366         0.024645         0.000642             10        0.000415   \n",
       "3365         0.019817         0.000633              4        0.000201   \n",
       "\n",
       "      MinimapRightClicks  NumberOfPACs  GapBetweenPACs  ActionLatency  \\\n",
       "3394            0.001315      0.005566         20.0537        33.5142   \n",
       "3369            0.000709      0.005185         17.0456        30.5342   \n",
       "3367            0.000342      0.004971         17.9901        35.9509   \n",
       "3366            0.000491      0.004015         25.6352        43.3856   \n",
       "3365            0.000201      0.003912         31.8222        54.5588   \n",
       "\n",
       "      ActionsInPAC  TotalMapExplored  WorkersMade  UniqueUnitsMade  \\\n",
       "3394        6.3719                27     0.001566                7   \n",
       "3369        6.6749                35     0.002072                9   \n",
       "3367        5.5872                21     0.000904                5   \n",
       "3366        6.4922                21     0.000478                6   \n",
       "3365        5.0294                14     0.001409                3   \n",
       "\n",
       "      ComplexUnitsMade  ComplexAbilitiesUsed  \n",
       "3394          0.000457              0.000895  \n",
       "3369          0.000225              0.000064  \n",
       "3367          0.000000              0.000000  \n",
       "3366          0.000000              0.000579  \n",
       "3365          0.000000              0.000000  "
      ]
     },
     "execution_count": 88,
     "metadata": {},
     "output_type": "execute_result"
    }
   ],
   "source": [
    "sc.sort_values('LeagueIndex', ascending=False).head()"
   ]
  },
  {
   "cell_type": "markdown",
   "metadata": {},
   "source": [
    "### Since StarCraft2 was released on July 27th, 2010 and this dataset was released September 20th, 2013,people aren't going to be playing 24/7, so let's base the max off pro gamers playing the most, which is hours per week is 84 and total hours 13776. Anything higher, we will remove a zero/zeroes off the end since it is most likely data input errors."
   ]
  },
  {
   "cell_type": "code",
   "execution_count": 89,
   "metadata": {
    "collapsed": false
   },
   "outputs": [
    {
     "data": {
      "text/plain": [
       "array([ 10,  20,   6,   8,  42,  14,  24,  16,   4,  12,  30,  28,  70,\n",
       "         2,  56,  36,  40,  18,  96,  50, 168,  48,  84,   0,  72, 112,\n",
       "        90,  32,  98, 140,  71,  80,  60,  75,  62,  77,  68,  76,  81,\n",
       "        73,  79,  65,  82,  67,  78,  61,  74,  83,  58,  59,  63,  57])"
      ]
     },
     "execution_count": 89,
     "metadata": {},
     "output_type": "execute_result"
    }
   ],
   "source": [
    "sc.HoursPerWeek.unique()"
   ]
  },
  {
   "cell_type": "code",
   "execution_count": 90,
   "metadata": {
    "collapsed": false
   },
   "outputs": [
    {
     "data": {
      "text/plain": [
       "array(['3000', '5000', '200', '400', '500', '70', '240', '10000', '2708',\n",
       "       '800', '6000', '190', '350', '1000', '1500', '2000', '120', '1100',\n",
       "       '2520', '700', '160', '150', '250', '730', '230', '300', '100',\n",
       "       '270', '1200', '30', '600', '540', '280', '1600', '50', '140',\n",
       "       '900', '550', '625', '1300', '450', '750', '612', '180', '770',\n",
       "       '720', '415', '1800', '2200', '480', '430', '639', '360', '1250',\n",
       "       '365', '650', '233', '416', '1825', '780', '1260', '315', '10',\n",
       "       '312', '110', '1700', '92', '2500', '1400', '220', '999', '303',\n",
       "       '96', '184', '4000', '420', '60', '2400', '2160', '80', '25', '624',\n",
       "       '176', 3280, '35', '1163', '333', '75', '7', '40', '325', '90',\n",
       "       '175', '88', '850', '26', '1650', '465', '235', '1350', '460',\n",
       "       '848', '256', '130', '1466', '670', '711', '1030', '1080', '1460',\n",
       "       '1050', '20000', '582', '2800', '553', '1008', '330', '936', '243',\n",
       "       '1320', '425', '1145', '366', '2700', '830', '3', '125', '2300',\n",
       "       '336', '24', '12', '72', '690', '320', '144', '20', '1155', '520',\n",
       "       '865', '275', '548', '170', '898', '1170', '1148', '105', '575',\n",
       "       '1850', '238', '820', '310', '85', '2942', '94', '2100', '224',\n",
       "       '165', '577', '1440', '731', '727', '138', '45', '225', '95', '630',\n",
       "       '1274', '1782', '610', '525', '2671', '2016', '123', '1095',\n",
       "       '1000000', '2920', '640', '1344', 11644, '1940', '16', '410', '960',\n",
       "       '740', '950', '551', '216', '840', '18000', '745', '530', '477',\n",
       "       '1270', '36', '174', '2600', '1256', '9000', '1880', '288', '1150',\n",
       "       '10260', '2190', '560', '25000', '128', '666', '854', '370', '65',\n",
       "       '334', '755', '1024', '3257', '208', '1196', '1870', '990', '470',\n",
       "       '699', '340', '2250', '255', '980', '620', '380', '196', '21',\n",
       "       '153', '1098', '546', '433', '1560', '580', '77', '148', '2880',\n",
       "       '364', '56', 12300, 10168, 12628, 11152, 12464, 13120, 13284, 11972,\n",
       "       12956, 10660, 13448, 10988, 13776, 12792, 11808, 10004, 12136,\n",
       "       13612, 9512, 9676, 10332, 9184, 9348, 11480], dtype=object)"
      ]
     },
     "execution_count": 90,
     "metadata": {},
     "output_type": "execute_result"
    }
   ],
   "source": [
    "sc.TotalHours.unique()"
   ]
  },
  {
   "cell_type": "code",
   "execution_count": 68,
   "metadata": {
    "collapsed": false
   },
   "outputs": [
    {
     "name": "stdout",
     "output_type": "stream",
     "text": [
      "<class 'pandas.core.frame.DataFrame'>\n",
      "RangeIndex: 3395 entries, 0 to 3394\n",
      "Data columns (total 20 columns):\n",
      "GameID                  3395 non-null int64\n",
      "LeagueIndex             3395 non-null int64\n",
      "Age                     3395 non-null int64\n",
      "HoursPerWeek            3395 non-null int64\n",
      "TotalHours              3395 non-null object\n",
      "APM                     3395 non-null float64\n",
      "SelectByHotkeys         3395 non-null float64\n",
      "AssignToHotkeys         3395 non-null float64\n",
      "UniqueHotkeys           3395 non-null int64\n",
      "MinimapAttacks          3395 non-null float64\n",
      "MinimapRightClicks      3395 non-null float64\n",
      "NumberOfPACs            3395 non-null float64\n",
      "GapBetweenPACs          3395 non-null float64\n",
      "ActionLatency           3395 non-null float64\n",
      "ActionsInPAC            3395 non-null float64\n",
      "TotalMapExplored        3395 non-null int64\n",
      "WorkersMade             3395 non-null float64\n",
      "UniqueUnitsMade         3395 non-null int64\n",
      "ComplexUnitsMade        3395 non-null float64\n",
      "ComplexAbilitiesUsed    3395 non-null float64\n",
      "dtypes: float64(12), int64(7), object(1)\n",
      "memory usage: 530.5+ KB\n"
     ]
    }
   ],
   "source": [
    "sc.info()"
   ]
  },
  {
   "cell_type": "markdown",
   "metadata": {},
   "source": [
    "### Since there are still string values in TotalHours, pandas will change the dtype to an object. We will change it to an int."
   ]
  },
  {
   "cell_type": "code",
   "execution_count": 97,
   "metadata": {
    "collapsed": false
   },
   "outputs": [
    {
     "data": {
      "text/plain": [
       "dtype('int64')"
      ]
     },
     "execution_count": 97,
     "metadata": {},
     "output_type": "execute_result"
    }
   ],
   "source": [
    "sc['TotalHours'] = sc['TotalHours'].astype(int)\n",
    "sc['TotalHours'].dtype"
   ]
  },
  {
   "cell_type": "code",
   "execution_count": 98,
   "metadata": {
    "collapsed": false
   },
   "outputs": [
    {
     "name": "stderr",
     "output_type": "stream",
     "text": [
      "/Users/edwardlee/anaconda/envs/dsi/lib/python2.7/site-packages/ipykernel/__main__.py:3: SettingWithCopyWarning: \n",
      "A value is trying to be set on a copy of a slice from a DataFrame\n",
      "\n",
      "See the caveats in the documentation: http://pandas.pydata.org/pandas-docs/stable/indexing.html#indexing-view-versus-copy\n",
      "  app.launch_new_instance()\n"
     ]
    }
   ],
   "source": [
    "for x in range(sc.shape[0]):\n",
    "    if sc['TotalHours'][x] > 13776:\n",
    "        sc['TotalHours'][x] = sc['TotalHours'][x] - 1000"
   ]
  },
  {
   "cell_type": "markdown",
   "metadata": {},
   "source": [
    "### This would have worked beautifully, but we still have a value that was 1,000,000. With subtracted 1000 from it, it is currently 999,000. Let's just remove the 3 zeroes."
   ]
  },
  {
   "cell_type": "code",
   "execution_count": 101,
   "metadata": {
    "collapsed": false
   },
   "outputs": [
    {
     "name": "stderr",
     "output_type": "stream",
     "text": [
      "/Users/edwardlee/anaconda/envs/dsi/lib/python2.7/site-packages/ipykernel/__main__.py:3: SettingWithCopyWarning: \n",
      "A value is trying to be set on a copy of a slice from a DataFrame\n",
      "\n",
      "See the caveats in the documentation: http://pandas.pydata.org/pandas-docs/stable/indexing.html#indexing-view-versus-copy\n",
      "  app.launch_new_instance()\n"
     ]
    }
   ],
   "source": [
    "for x in range(sc.shape[0]):\n",
    "    if sc['TotalHours'][x] > 998999:\n",
    "        sc['TotalHours'][x] = sc['TotalHours'][x] / 1000"
   ]
  },
  {
   "cell_type": "markdown",
   "metadata": {},
   "source": [
    "### Now let's do the exact same thing for HoursPerWeek. Ignore all the copy issues, we aren't going to use the original data. The percentages are just random values that I guesstimated. Since they are so few, they shouldn't affect the outcome too much."
   ]
  },
  {
   "cell_type": "code",
   "execution_count": 103,
   "metadata": {
    "collapsed": false
   },
   "outputs": [
    {
     "data": {
      "text/plain": [
       "array([ 10,  20,   6,   8,  42,  14,  24,  16,   4,  12,  30,  28,  70,\n",
       "         2,  56,  36,  40,  18,  96,  50, 168,  48,  84,   0,  72, 112,\n",
       "        90,  32,  98, 140,  71,  80,  60,  75,  62,  77,  68,  76,  81,\n",
       "        73,  79,  65,  82,  67,  78,  61,  74,  83,  58,  59,  63,  57])"
      ]
     },
     "execution_count": 103,
     "metadata": {},
     "output_type": "execute_result"
    }
   ],
   "source": [
    "sc['HoursPerWeek'].unique()"
   ]
  },
  {
   "cell_type": "code",
   "execution_count": 104,
   "metadata": {
    "collapsed": false
   },
   "outputs": [
    {
     "name": "stderr",
     "output_type": "stream",
     "text": [
      "/Users/edwardlee/anaconda/envs/dsi/lib/python2.7/site-packages/ipykernel/__main__.py:3: SettingWithCopyWarning: \n",
      "A value is trying to be set on a copy of a slice from a DataFrame\n",
      "\n",
      "See the caveats in the documentation: http://pandas.pydata.org/pandas-docs/stable/indexing.html#indexing-view-versus-copy\n",
      "  app.launch_new_instance()\n"
     ]
    }
   ],
   "source": [
    "for x in range(sc.shape[0]):\n",
    "    if sc['HoursPerWeek'][x] > 84 & sc['HoursPerWeek'][x] <= 100:\n",
    "        sc['HoursPerWeek'][x] = sc['HoursPerWeek'][x] * 0.8\n",
    "    elif sc['HoursPerWeek'][x] > 100:\n",
    "        sc['HoursPerWeek'][x] = sc['HoursPerWeek'][x] * 0.5"
   ]
  },
  {
   "cell_type": "markdown",
   "metadata": {},
   "source": [
    "### Now we have a dataset that we can use!"
   ]
  },
  {
   "cell_type": "code",
   "execution_count": 106,
   "metadata": {
    "collapsed": false
   },
   "outputs": [
    {
     "data": {
      "text/html": [
       "<div>\n",
       "<table border=\"1\" class=\"dataframe\">\n",
       "  <thead>\n",
       "    <tr style=\"text-align: right;\">\n",
       "      <th></th>\n",
       "      <th>GameID</th>\n",
       "      <th>LeagueIndex</th>\n",
       "      <th>Age</th>\n",
       "      <th>HoursPerWeek</th>\n",
       "      <th>TotalHours</th>\n",
       "      <th>APM</th>\n",
       "      <th>SelectByHotkeys</th>\n",
       "      <th>AssignToHotkeys</th>\n",
       "      <th>UniqueHotkeys</th>\n",
       "      <th>MinimapAttacks</th>\n",
       "      <th>MinimapRightClicks</th>\n",
       "      <th>NumberOfPACs</th>\n",
       "      <th>GapBetweenPACs</th>\n",
       "      <th>ActionLatency</th>\n",
       "      <th>ActionsInPAC</th>\n",
       "      <th>TotalMapExplored</th>\n",
       "      <th>WorkersMade</th>\n",
       "      <th>UniqueUnitsMade</th>\n",
       "      <th>ComplexUnitsMade</th>\n",
       "      <th>ComplexAbilitiesUsed</th>\n",
       "    </tr>\n",
       "  </thead>\n",
       "  <tbody>\n",
       "    <tr>\n",
       "      <th>0</th>\n",
       "      <td>52</td>\n",
       "      <td>5</td>\n",
       "      <td>27</td>\n",
       "      <td>8</td>\n",
       "      <td>3000</td>\n",
       "      <td>143.7180</td>\n",
       "      <td>0.003515</td>\n",
       "      <td>0.000220</td>\n",
       "      <td>7</td>\n",
       "      <td>0.000110</td>\n",
       "      <td>0.000392</td>\n",
       "      <td>0.004849</td>\n",
       "      <td>32.6677</td>\n",
       "      <td>40.8673</td>\n",
       "      <td>4.7508</td>\n",
       "      <td>28</td>\n",
       "      <td>0.001397</td>\n",
       "      <td>6</td>\n",
       "      <td>0.0</td>\n",
       "      <td>0.000000</td>\n",
       "    </tr>\n",
       "    <tr>\n",
       "      <th>1</th>\n",
       "      <td>55</td>\n",
       "      <td>5</td>\n",
       "      <td>23</td>\n",
       "      <td>8</td>\n",
       "      <td>5000</td>\n",
       "      <td>129.2322</td>\n",
       "      <td>0.003304</td>\n",
       "      <td>0.000259</td>\n",
       "      <td>4</td>\n",
       "      <td>0.000294</td>\n",
       "      <td>0.000432</td>\n",
       "      <td>0.004307</td>\n",
       "      <td>32.9194</td>\n",
       "      <td>42.3454</td>\n",
       "      <td>4.8434</td>\n",
       "      <td>22</td>\n",
       "      <td>0.001194</td>\n",
       "      <td>5</td>\n",
       "      <td>0.0</td>\n",
       "      <td>0.000208</td>\n",
       "    </tr>\n",
       "    <tr>\n",
       "      <th>2</th>\n",
       "      <td>56</td>\n",
       "      <td>4</td>\n",
       "      <td>30</td>\n",
       "      <td>8</td>\n",
       "      <td>200</td>\n",
       "      <td>69.9612</td>\n",
       "      <td>0.001101</td>\n",
       "      <td>0.000336</td>\n",
       "      <td>4</td>\n",
       "      <td>0.000294</td>\n",
       "      <td>0.000461</td>\n",
       "      <td>0.002926</td>\n",
       "      <td>44.6475</td>\n",
       "      <td>75.3548</td>\n",
       "      <td>4.0430</td>\n",
       "      <td>22</td>\n",
       "      <td>0.000745</td>\n",
       "      <td>6</td>\n",
       "      <td>0.0</td>\n",
       "      <td>0.000189</td>\n",
       "    </tr>\n",
       "    <tr>\n",
       "      <th>3</th>\n",
       "      <td>57</td>\n",
       "      <td>3</td>\n",
       "      <td>19</td>\n",
       "      <td>20</td>\n",
       "      <td>400</td>\n",
       "      <td>107.6016</td>\n",
       "      <td>0.001034</td>\n",
       "      <td>0.000213</td>\n",
       "      <td>1</td>\n",
       "      <td>0.000053</td>\n",
       "      <td>0.000543</td>\n",
       "      <td>0.003783</td>\n",
       "      <td>29.2203</td>\n",
       "      <td>53.7352</td>\n",
       "      <td>4.9155</td>\n",
       "      <td>19</td>\n",
       "      <td>0.000426</td>\n",
       "      <td>7</td>\n",
       "      <td>0.0</td>\n",
       "      <td>0.000384</td>\n",
       "    </tr>\n",
       "    <tr>\n",
       "      <th>4</th>\n",
       "      <td>58</td>\n",
       "      <td>3</td>\n",
       "      <td>32</td>\n",
       "      <td>8</td>\n",
       "      <td>500</td>\n",
       "      <td>122.8908</td>\n",
       "      <td>0.001136</td>\n",
       "      <td>0.000327</td>\n",
       "      <td>2</td>\n",
       "      <td>0.000000</td>\n",
       "      <td>0.001329</td>\n",
       "      <td>0.002368</td>\n",
       "      <td>22.6885</td>\n",
       "      <td>62.0813</td>\n",
       "      <td>9.3740</td>\n",
       "      <td>15</td>\n",
       "      <td>0.001174</td>\n",
       "      <td>4</td>\n",
       "      <td>0.0</td>\n",
       "      <td>0.000019</td>\n",
       "    </tr>\n",
       "  </tbody>\n",
       "</table>\n",
       "</div>"
      ],
      "text/plain": [
       "   GameID  LeagueIndex  Age  HoursPerWeek  TotalHours       APM  \\\n",
       "0      52            5   27             8        3000  143.7180   \n",
       "1      55            5   23             8        5000  129.2322   \n",
       "2      56            4   30             8         200   69.9612   \n",
       "3      57            3   19            20         400  107.6016   \n",
       "4      58            3   32             8         500  122.8908   \n",
       "\n",
       "   SelectByHotkeys  AssignToHotkeys  UniqueHotkeys  MinimapAttacks  \\\n",
       "0         0.003515         0.000220              7        0.000110   \n",
       "1         0.003304         0.000259              4        0.000294   \n",
       "2         0.001101         0.000336              4        0.000294   \n",
       "3         0.001034         0.000213              1        0.000053   \n",
       "4         0.001136         0.000327              2        0.000000   \n",
       "\n",
       "   MinimapRightClicks  NumberOfPACs  GapBetweenPACs  ActionLatency  \\\n",
       "0            0.000392      0.004849         32.6677        40.8673   \n",
       "1            0.000432      0.004307         32.9194        42.3454   \n",
       "2            0.000461      0.002926         44.6475        75.3548   \n",
       "3            0.000543      0.003783         29.2203        53.7352   \n",
       "4            0.001329      0.002368         22.6885        62.0813   \n",
       "\n",
       "   ActionsInPAC  TotalMapExplored  WorkersMade  UniqueUnitsMade  \\\n",
       "0        4.7508                28     0.001397                6   \n",
       "1        4.8434                22     0.001194                5   \n",
       "2        4.0430                22     0.000745                6   \n",
       "3        4.9155                19     0.000426                7   \n",
       "4        9.3740                15     0.001174                4   \n",
       "\n",
       "   ComplexUnitsMade  ComplexAbilitiesUsed  \n",
       "0               0.0              0.000000  \n",
       "1               0.0              0.000208  \n",
       "2               0.0              0.000189  \n",
       "3               0.0              0.000384  \n",
       "4               0.0              0.000019  "
      ]
     },
     "execution_count": 106,
     "metadata": {},
     "output_type": "execute_result"
    }
   ],
   "source": [
    "sc.head()"
   ]
  },
  {
   "cell_type": "markdown",
   "metadata": {},
   "source": [
    "### With a cleaned dataset, let's do some plotting. I want to give you guys practice graphing so I will list some suggestions for graphing.\n",
    "1. APM vs NumberOfPACs, hue by LeagueIndex\n",
    "2. APM vs TotalHours, hue by LeagueIndex\n",
    "3. LeagueIndex vs Age\n",
    "4. TotalMapExplored vs NumberOfPACs, hued by LeagueIndex\n",
    "\n",
    "I will graph the first one, just as an example."
   ]
  },
  {
   "cell_type": "code",
   "execution_count": 108,
   "metadata": {
    "collapsed": true
   },
   "outputs": [],
   "source": [
    "import matplotlib.pyplot as plt\n",
    "import seaborn as sns\n",
    "%matplotlib inline"
   ]
  },
  {
   "cell_type": "code",
   "execution_count": 131,
   "metadata": {
    "collapsed": false
   },
   "outputs": [
    {
     "data": {
      "image/png": "[encoded data removed]",
      "text/plain": [
       "<matplotlib.figure.Figure at 0x1176f60d0>"
      ]
     },
     "metadata": {},
     "output_type": "display_data"
    }
   ],
   "source": [
    "graph = sns.FacetGrid(sc, hue=\"LeagueIndex\", size=12)\n",
    "graph.map(plt.scatter, \"APM\", \"NumberOfPACs\", s=50, alpha=.7, linewidth=.5, edgecolor=\"white\")\n",
    "graph.add_legend();"
   ]
  },
  {
   "cell_type": "code",
   "execution_count": null,
   "metadata": {
    "collapsed": true
   },
   "outputs": [],
   "source": []
  },
  {
   "cell_type": "code",
   "execution_count": null,
   "metadata": {
    "collapsed": true
   },
   "outputs": [],
   "source": []
  },
  {
   "cell_type": "code",
   "execution_count": null,
   "metadata": {
    "collapsed": true
   },
   "outputs": [],
   "source": []
  },
  {
   "cell_type": "markdown",
   "metadata": {},
   "source": [
    "### Now run a RandomForestClassifier, kNN and LogisticRegression. Which features are most important to being a professional?"
   ]
  },
  {
   "cell_type": "code",
   "execution_count": null,
   "metadata": {
    "collapsed": true
   },
   "outputs": [],
   "source": []
  },
  {
   "cell_type": "code",
   "execution_count": null,
   "metadata": {
    "collapsed": true
   },
   "outputs": [],
   "source": []
  },
  {
   "cell_type": "code",
   "execution_count": null,
   "metadata": {
    "collapsed": true
   },
   "outputs": [],
   "source": []
  },
  {
   "cell_type": "code",
   "execution_count": null,
   "metadata": {
    "collapsed": true
   },
   "outputs": [],
   "source": []
  },
  {
   "cell_type": "code",
   "execution_count": null,
   "metadata": {
    "collapsed": true
   },
   "outputs": [],
   "source": []
  },
  {
   "cell_type": "code",
   "execution_count": null,
   "metadata": {
    "collapsed": true
   },
   "outputs": [],
   "source": []
  },
  {
   "cell_type": "code",
   "execution_count": null,
   "metadata": {
    "collapsed": true
   },
   "outputs": [],
   "source": []
  },
  {
   "cell_type": "markdown",
   "metadata": {},
   "source": [
    "<span style=\"font-size:3em; color:green\">Week 6 Prework</span>"
   ]
  },
  {
   "cell_type": "markdown",
   "metadata": {
    "collapsed": true
   },
   "source": [
    "### NLP (Tuesday)\n",
    "\n",
    "I have already pushed NLP tutorials into extra_review folder that do a very good job explaining how NLP works. The link to where I pushed the file is below. After git pulling, just navigate your way there.\n",
    "\n",
    "https://github.com/ga-students/DS-SF-32/tree/master/review%20and%20prework/extra_tutorials/NLP-LDA"
   ]
  },
  {
   "cell_type": "markdown",
   "metadata": {},
   "source": [
    "### PCA and LDA (Thursday)\n",
    "\n",
    "Both topics are in the extra_tutorials. Please work on those problems.\n",
    "\n",
    "PCA:\n",
    "https://github.com/ga-students/DS-SF-32/tree/master/review%20and%20prework/extra_tutorials/PCA\n",
    "\n",
    "LDA:\n",
    "https://github.com/ga-students/DS-SF-32/tree/master/review%20and%20prework/extra_tutorials/NLP-LDA"
   ]
  }
 ],
 "metadata": {
  "anaconda-cloud": {},
  "kernelspec": {
   "display_name": "Python [conda env:dsi]",
   "language": "python",
   "name": "conda-env-dsi-py"
  },
  "language_info": {
   "codemirror_mode": {
    "name": "ipython",
    "version": 2
   },
   "file_extension": ".py",
   "mimetype": "text/x-python",
   "name": "python",
   "nbconvert_exporter": "python",
   "pygments_lexer": "ipython2",
   "version": "2.7.12"
  }
 },
 "nbformat": 4,
 "nbformat_minor": 0
}
